{
 "cells": [
  {
   "cell_type": "markdown",
   "metadata": {},
   "source": [
    "## Lab 2: Malware analysis using VirusTotal reports on malware samples\n",
    "\n",
    "### Objectives of the lab:\n",
    "   - See where to extract MD5 hashes from and use them to access VirusTotal API – obtain reports on the malware samples.\n",
    "   - Learn about various attributes of malwares that would be used to characterize the samples based on their families or types\n",
    "   - Learn how to convert various attributes of the malwares into feature vectors suitable for data mining\n"
   ]
  },
  {
   "cell_type": "code",
   "execution_count": 1,
   "metadata": {},
   "outputs": [],
   "source": [
    "import pandas as pd\n",
    "import numpy as np\n",
    "import matplotlib.pyplot as plt\n"
   ]
  },
  {
   "cell_type": "code",
   "execution_count": 2,
   "metadata": {},
   "outputs": [],
   "source": [
    "df = pd.read_csv('/Volumes/GoogleDrive/My Drive/Spring 19/CSE 494 Labs/Lab 2/lab2_md5_types.csv')"
   ]
  },
  {
   "cell_type": "code",
   "execution_count": 3,
   "metadata": {},
   "outputs": [
    {
     "data": {
      "text/html": [
       "<div>\n",
       "<style scoped>\n",
       "    .dataframe tbody tr th:only-of-type {\n",
       "        vertical-align: middle;\n",
       "    }\n",
       "\n",
       "    .dataframe tbody tr th {\n",
       "        vertical-align: top;\n",
       "    }\n",
       "\n",
       "    .dataframe thead th {\n",
       "        text-align: right;\n",
       "    }\n",
       "</style>\n",
       "<table border=\"1\" class=\"dataframe\">\n",
       "  <thead>\n",
       "    <tr style=\"text-align: right;\">\n",
       "      <th></th>\n",
       "      <th>Tojan</th>\n",
       "      <th>Virus</th>\n",
       "      <th>Backdoor</th>\n",
       "      <th>Worm</th>\n",
       "    </tr>\n",
       "  </thead>\n",
       "  <tbody>\n",
       "    <tr>\n",
       "      <th>0</th>\n",
       "      <td>60281d0a5891a6e5102cbde0fea0b20f</td>\n",
       "      <td>64d15027a172ca2dfbd4057c44ae8615</td>\n",
       "      <td>a11e71cc8cf90ab7b5b31fc7cbf4c619</td>\n",
       "      <td>d392ac090591df46727a9fa8b8988e14</td>\n",
       "    </tr>\n",
       "    <tr>\n",
       "      <th>1</th>\n",
       "      <td>d9abaa24d63788ee7b3bfece630ca452</td>\n",
       "      <td>4fa26d84d8bbcb38537fefc1100cc28f</td>\n",
       "      <td>fec1ca19c3762df43b6c3084d05cc591</td>\n",
       "      <td>c9cb8479ede835942b36eb4df49207bb</td>\n",
       "    </tr>\n",
       "    <tr>\n",
       "      <th>2</th>\n",
       "      <td>bea8977502efd36441e9e004f6b3e720</td>\n",
       "      <td>2562a401c7502fabc9f0cb05c98af5c5</td>\n",
       "      <td>69ca370e29f51faa437f1cf657115517</td>\n",
       "      <td>1a2e10c555f6340259727100e5addd2c</td>\n",
       "    </tr>\n",
       "    <tr>\n",
       "      <th>3</th>\n",
       "      <td>57157cc6d0e21f2be2cf93caaac5f5c8</td>\n",
       "      <td>ffda0fe069a1cee6fdc0ff87c401d93d</td>\n",
       "      <td>7f8ed44b771e7ba6716f5dd44ea7161e</td>\n",
       "      <td>a7f8130bad3e97ea3758b269b26c48c4</td>\n",
       "    </tr>\n",
       "    <tr>\n",
       "      <th>4</th>\n",
       "      <td>2dec428d9a1fc1a2eda1a0e533f6f61f</td>\n",
       "      <td>a6f193dd1ef265c5b23e55511bf18f9d</td>\n",
       "      <td>e55d4e0d5273d2b31651b1c47ae80ce6</td>\n",
       "      <td>fa67d179d5cea659d47150147ec83385</td>\n",
       "    </tr>\n",
       "  </tbody>\n",
       "</table>\n",
       "</div>"
      ],
      "text/plain": [
       "                              Tojan                            Virus   \\\n",
       "0  60281d0a5891a6e5102cbde0fea0b20f  64d15027a172ca2dfbd4057c44ae8615   \n",
       "1  d9abaa24d63788ee7b3bfece630ca452  4fa26d84d8bbcb38537fefc1100cc28f   \n",
       "2  bea8977502efd36441e9e004f6b3e720  2562a401c7502fabc9f0cb05c98af5c5   \n",
       "3  57157cc6d0e21f2be2cf93caaac5f5c8  ffda0fe069a1cee6fdc0ff87c401d93d   \n",
       "4  2dec428d9a1fc1a2eda1a0e533f6f61f  a6f193dd1ef265c5b23e55511bf18f9d   \n",
       "\n",
       "                          Backdoor                              Worm   \n",
       "0  a11e71cc8cf90ab7b5b31fc7cbf4c619  d392ac090591df46727a9fa8b8988e14  \n",
       "1  fec1ca19c3762df43b6c3084d05cc591  c9cb8479ede835942b36eb4df49207bb  \n",
       "2  69ca370e29f51faa437f1cf657115517  1a2e10c555f6340259727100e5addd2c  \n",
       "3  7f8ed44b771e7ba6716f5dd44ea7161e  a7f8130bad3e97ea3758b269b26c48c4  \n",
       "4  e55d4e0d5273d2b31651b1c47ae80ce6  fa67d179d5cea659d47150147ec83385  "
      ]
     },
     "execution_count": 3,
     "metadata": {},
     "output_type": "execute_result"
    }
   ],
   "source": [
    "df.head()"
   ]
  },
  {
   "cell_type": "markdown",
   "metadata": {},
   "source": [
    "#### The columns represent the malware families and each cell is a md5 hash"
   ]
  },
  {
   "cell_type": "code",
   "execution_count": 4,
   "metadata": {
    "scrolled": true
   },
   "outputs": [
    {
     "data": {
      "text/html": [
       "<div>\n",
       "<style scoped>\n",
       "    .dataframe tbody tr th:only-of-type {\n",
       "        vertical-align: middle;\n",
       "    }\n",
       "\n",
       "    .dataframe tbody tr th {\n",
       "        vertical-align: top;\n",
       "    }\n",
       "\n",
       "    .dataframe thead th {\n",
       "        text-align: right;\n",
       "    }\n",
       "</style>\n",
       "<table border=\"1\" class=\"dataframe\">\n",
       "  <thead>\n",
       "    <tr style=\"text-align: right;\">\n",
       "      <th></th>\n",
       "      <th>Virus</th>\n",
       "      <th>Backdoor</th>\n",
       "      <th>Worm</th>\n",
       "    </tr>\n",
       "  </thead>\n",
       "  <tbody>\n",
       "    <tr>\n",
       "      <th>0</th>\n",
       "      <td>64d15027a172ca2dfbd4057c44ae8615</td>\n",
       "      <td>a11e71cc8cf90ab7b5b31fc7cbf4c619</td>\n",
       "      <td>d392ac090591df46727a9fa8b8988e14</td>\n",
       "    </tr>\n",
       "    <tr>\n",
       "      <th>1</th>\n",
       "      <td>4fa26d84d8bbcb38537fefc1100cc28f</td>\n",
       "      <td>fec1ca19c3762df43b6c3084d05cc591</td>\n",
       "      <td>c9cb8479ede835942b36eb4df49207bb</td>\n",
       "    </tr>\n",
       "    <tr>\n",
       "      <th>2</th>\n",
       "      <td>2562a401c7502fabc9f0cb05c98af5c5</td>\n",
       "      <td>69ca370e29f51faa437f1cf657115517</td>\n",
       "      <td>1a2e10c555f6340259727100e5addd2c</td>\n",
       "    </tr>\n",
       "    <tr>\n",
       "      <th>3</th>\n",
       "      <td>ffda0fe069a1cee6fdc0ff87c401d93d</td>\n",
       "      <td>7f8ed44b771e7ba6716f5dd44ea7161e</td>\n",
       "      <td>a7f8130bad3e97ea3758b269b26c48c4</td>\n",
       "    </tr>\n",
       "    <tr>\n",
       "      <th>4</th>\n",
       "      <td>a6f193dd1ef265c5b23e55511bf18f9d</td>\n",
       "      <td>e55d4e0d5273d2b31651b1c47ae80ce6</td>\n",
       "      <td>fa67d179d5cea659d47150147ec83385</td>\n",
       "    </tr>\n",
       "  </tbody>\n",
       "</table>\n",
       "</div>"
      ],
      "text/plain": [
       "                             Virus                          Backdoor   \\\n",
       "0  64d15027a172ca2dfbd4057c44ae8615  a11e71cc8cf90ab7b5b31fc7cbf4c619   \n",
       "1  4fa26d84d8bbcb38537fefc1100cc28f  fec1ca19c3762df43b6c3084d05cc591   \n",
       "2  2562a401c7502fabc9f0cb05c98af5c5  69ca370e29f51faa437f1cf657115517   \n",
       "3  ffda0fe069a1cee6fdc0ff87c401d93d  7f8ed44b771e7ba6716f5dd44ea7161e   \n",
       "4  a6f193dd1ef265c5b23e55511bf18f9d  e55d4e0d5273d2b31651b1c47ae80ce6   \n",
       "\n",
       "                              Worm   \n",
       "0  d392ac090591df46727a9fa8b8988e14  \n",
       "1  c9cb8479ede835942b36eb4df49207bb  \n",
       "2  1a2e10c555f6340259727100e5addd2c  \n",
       "3  a7f8130bad3e97ea3758b269b26c48c4  \n",
       "4  fa67d179d5cea659d47150147ec83385  "
      ]
     },
     "execution_count": 4,
     "metadata": {},
     "output_type": "execute_result"
    }
   ],
   "source": [
    "df = df.iloc[:,1:]\n",
    "df.head()"
   ]
  },
  {
   "cell_type": "markdown",
   "metadata": {},
   "source": [
    "#### Iterate over the columns and retrieve the VirusTotal Reports for each md5"
   ]
  },
  {
   "cell_type": "code",
   "execution_count": 5,
   "metadata": {},
   "outputs": [],
   "source": [
    "def load_requests(md5, family):\n",
    "    '''\n",
    "    Input: md5 hash\n",
    "    Output: dictionary with the metadata key-value pairs\n",
    "    \n",
    "    '''\n",
    "    metadata = {}\n",
    "    metadata['md5'] = md5\n",
    "    metadata['family'] = family\n",
    "    \n",
    "    params = {'apikey': 'f2f9bb5419691e82420cc5cba8ec39285eeec5a3a1bed5a459d79f66cc542b62',\n",
    "              'resource': md5, 'allinfo': 1}\n",
    "    headers = {\n",
    "        \"Accept-Encoding\": \"gzip, deflate\",\n",
    "        \"User-Agent\": \"gzip,  My Python requests library example client or username\"\n",
    "    }\n",
    "    response = requests.get('https://www.virustotal.com/vtapi/v2/file/report',\n",
    "                            params=params, headers=headers)\n",
    "    json_response = response.json()\n",
    "    \n",
    "    # if no metadata present, just skip the md5\n",
    "    if 'additional_info' not in json_response:\n",
    "        return {} \n",
    "    \n",
    "    for f in json_response['additional_info']['exiftool']:\n",
    "        metadata[f] = json_response['additional_info']['exiftool'][f]\n",
    "    \n",
    "    return metadata"
   ]
  },
  {
   "cell_type": "raw",
   "metadata": {},
   "source": [
    "import requests\n",
    "\n",
    "feature_list = set() # set of features (exhaustive)\n",
    "md5_data = [] # list of md5 dictionaries for temporary storage\n",
    "\n",
    "\n",
    "for column in df.columns:\n",
    "    print(column)\n",
    "    malware_family = column\n",
    "    md5_list = list(df[column])\n",
    "    \n",
    "#     print(md5_list)\n",
    "    \n",
    "    for md5 in md5_list:\n",
    "        print(md5)\n",
    "        md5_api_report = load_requests(md5, malware_family)\n",
    "        \n",
    "        if len(md5_api_report) == 0:\n",
    "            continue\n",
    "            \n",
    "        for m in md5_api_report:\n",
    "            if m not in feature_list:\n",
    "                feature_list.add(m)\n",
    "                \n",
    "        md5_data.append(md5_api_report)\n",
    "\n",
    "# Store the metadata of all md5 in a dataframe\n",
    "df_metadata = pd.DataFrame(columns=list(feature_list))\n",
    "for idx in range(len(md5_data)):\n",
    "    md5_dict = md5_data[idx]\n",
    "    for f in feature_list:\n",
    "        if f in md5_dict:\n",
    "            df_metadata.loc[idx, f] = md5_dict[f]\n",
    "        else:\n",
    "            df_metadata.loc[idx, f] = np.nan # NaN for missing values\n",
    "        \n",
    "df_metadata.to_csv('../../data/lab2/md5_lab2_feat.csv')\n",
    "df_metadata.head()\n",
    "\n",
    "            \n",
    "        \n",
    "    "
   ]
  },
  {
   "cell_type": "markdown",
   "metadata": {},
   "source": [
    "### Missing Value Imputation\n",
    "\n",
    "There are a multitude of ways to impute missing values - refer http://www.stat.columbia.edu/~gelman/arm/missing.pdf for moreinformation - for example, building predictors for missing values\n",
    "\n",
    " scikit learn's SimpleImputerMethod is quite useful https://scikit-learn.org/stable/modules/generated/sklearn.impute.SimpleImputer.html#sklearn.impute.SimpleImputer\n",
    "\n",
    "$$\n",
    "\\textbf{SimpleImputer}(missing\\_values=nan, strategy= 'mean', fill\\_value=None, verbose=0, copy=True)\n",
    "$$\n",
    "\n",
    "\n",
    "### NOTE: From 0.20 onwards the Scikit learn uses this SimpleImputer Method, for versions before the equivalent method is Imputer().\n",
    "\n",
    "For this lab,we will use a generic imputer class that handles both numeric and non-numeric attributes "
   ]
  },
  {
   "cell_type": "code",
   "execution_count": 59,
   "metadata": {},
   "outputs": [],
   "source": [
    "columns_to_select = []\n",
    "\n",
    "for column in df_metadata.columns:\n",
    "    num_missing = (df_metadata[column]).isnull().sum()\n",
    "#     print(column, num_missing)\n",
    "\n",
    "    if num_missing < 10:\n",
    "        columns_to_select.append(column)\n",
    "\n",
    "df_metadata = df_metadata[columns_to_select]\n",
    "df_metadata.to_csv('../../data/lab2/lab2_md5_feat_filtered.csv')\n",
    "\n",
    "# manually curate features\n",
    "columns_feat = ['md5', 'EntryPoint', 'family', 'LinkerVersion', 'CodeSize', 'InitializedDataSize']\n",
    "df_metadata = df_metadata[columns_feat]\n",
    "        \n",
    "df_metadata.to_csv('../../data/lab2/lab2_md5_feat_v1.csv')\n",
    "\n",
    "    "
   ]
  },
  {
   "cell_type": "code",
   "execution_count": 71,
   "metadata": {},
   "outputs": [],
   "source": [
    "from sklearn.base import TransformerMixin\n",
    "\n",
    "class DataFrameImputer(TransformerMixin):\n",
    "\n",
    "    def __init__(self):\n",
    "        \"\"\"Impute missing values.\n",
    "\n",
    "        Columns of dtype object are imputed with the most frequent value \n",
    "        in column.\n",
    "\n",
    "        Columns of other types are imputed with mean of column.\n",
    "\n",
    "        \"\"\"\n",
    "    def fit(self, X, y=None):\n",
    "\n",
    "        self.fill = pd.Series([X[c].value_counts().index[0]\n",
    "            if X[c].dtype == np.dtype('O') else X[c].mean() for c in X],\n",
    "            index=X.columns)\n",
    "\n",
    "        return self\n",
    "\n",
    "    def transform(self, X, y=None):\n",
    "        return X.fillna(self.fill)"
   ]
  },
  {
   "cell_type": "code",
   "execution_count": 113,
   "metadata": {},
   "outputs": [],
   "source": [
    "# Impute missing values grouped by each family\n",
    "from sklearn.preprocessing import Imputer\n",
    "\n",
    "feat_data_types = ['EntryPoint', 'LinkerVersion', 'CodeSize', 'InitializedDataSize']\n",
    "\n",
    "\n",
    "families = list(set(df_metadata['family']))\n",
    "\n",
    "df_imputed = pd.DataFrame(columns=df_metadata.columns)\n",
    "for f in families:\n",
    "    df_family = df_metadata[df_metadata['family'] == f]\n",
    "    \n",
    "    df_family = DataFrameImputer().fit_transform(df_family)\n",
    "    \n",
    "    df_imputed = df_imputed.append(df_family)\n",
    "    \n",
    "# df_imputed.to_csv('../../data/lab2/lab2_md5_feat_imputed.csv')\n",
    "    "
   ]
  },
  {
   "cell_type": "markdown",
   "metadata": {},
   "source": [
    "### Malware Analysis of features by family type - comparison by family types"
   ]
  },
  {
   "cell_type": "code",
   "execution_count": 135,
   "metadata": {},
   "outputs": [
    {
     "data": {
      "text/plain": [
       "<bound method NDFrame.describe of family\n",
       "Teslacrypt    73703.619048\n",
       "dridex        38204.952381\n",
       "locky         67043.555556\n",
       "xtreme        45836.190476\n",
       "Name: CodeSize, dtype: float64>"
      ]
     },
     "execution_count": 135,
     "metadata": {},
     "output_type": "execute_result"
    }
   ],
   "source": [
    "# Analyze the numerical features family wise\n",
    "\n",
    "df_imputed['CodeSize'] = pd.to_numeric(df_imputed['CodeSize'])\n",
    "df_plot = df_imputed.groupby(['family'])['CodeSize'].mean()\n",
    "\n",
    "df_plot.describe\n",
    "\n",
    "# df_plot.plot.bar()"
   ]
  },
  {
   "cell_type": "code",
   "execution_count": 120,
   "metadata": {},
   "outputs": [
    {
     "data": {
      "text/plain": [
       "<matplotlib.axes._subplots.AxesSubplot at 0x1967a889748>"
      ]
     },
     "execution_count": 120,
     "metadata": {},
     "output_type": "execute_result"
    },
    {
     "data": {
      "image/png": "[encoded data removed]",
      "text/plain": [
       "<Figure size 432x288 with 1 Axes>"
      ]
     },
     "metadata": {
      "needs_background": "light"
     },
     "output_type": "display_data"
    }
   ],
   "source": [
    "df_imputed['InitializedDataSize'] = pd.to_numeric(df_imputed['InitializedDataSize'])\n",
    "df_plot = df_imputed.groupby(['family'])['InitializedDataSize'].mean()\n",
    "\n",
    "df_plot.plot.bar()"
   ]
  },
  {
   "cell_type": "markdown",
   "metadata": {},
   "source": [
    "### Feature vectorization - for different type of features\n"
   ]
  },
  {
   "cell_type": "markdown",
   "metadata": {},
   "source": [
    "- #### For extracting n-grams or text features, you can look into scikit-learn's methods: https://scikit-learn.org/stable/modules/generated/sklearn.feature_extraction.text.CountVectorizer.html\n"
   ]
  },
  {
   "cell_type": "code",
   "execution_count": 127,
   "metadata": {},
   "outputs": [],
   "source": [
    "from collections import defaultdict\n",
    "\n",
    "def get_ngrams_dict(text, n):\n",
    "    ngrams = defaultdict(int)\n",
    "    for i in range(len(text)):\n",
    "        ngrams[text[i:i+n]] += 1\n",
    "    \n",
    "    return ngrams\n",
    "    "
   ]
  },
  {
   "cell_type": "code",
   "execution_count": 131,
   "metadata": {},
   "outputs": [
    {
     "name": "stdout",
     "output_type": "stream",
     "text": [
      "Counter({'0': 39, 'f4': 20, '4': 19, 'd0': 16, '70': 13, '0f': 13, 'c7': 12, '4a': 11, 'e4': 11, 'a': 11, '5c': 11, '00': 11, '7e': 11, '10': 5, 'cc': 4, '8f': 4, '2c': 4, '88': 4, '1a': 4, '8a': 3, '30': 3, 'c': 3, 'c6': 3, '1b': 3, 'a0': 3, 'bd': 3, '8': 3, 'ab': 2, 'df': 2, 'f7': 2, 'bc': 2, '12': 2, 'ee': 2, '20': 2, '40': 2, '2e': 2, '66': 2, '80': 2, '5a': 2, '1c': 2, 'c0': 2, '3f': 2, '7': 2, 'd4': 2, '4c': 1, 'a3': 1, 'ae': 1, '32': 1, 'c2': 1, '38': 1, 'e': 1, '50': 1, '21': 1, '1': 1, '6d': 1, '4d': 1, 'f0': 1, '81': 1, '18': 1, '1d': 1, 'f': 1, 'ad': 1, 'e3': 1, '26': 1, 'c9': 1, 'fb': 1, '7c': 1, '34': 1, '85': 1, '98': 1, 'd8': 1, 'a2': 1, 'b8': 1, '2': 1, '67': 1, 'aa': 1, '22': 1, '64': 1, '27': 1, 'ce': 1, '2f': 1, '60': 1, '86': 1, '78': 1, 'ef': 1, 'c8': 1, 'bf': 1, '68': 1, 'f3': 1, '63': 1, '4f': 1, '4e': 1, '16': 1, '07': 1, '5d': 1, 'e0': 1, 'b0': 1, 'bb': 1, 'e5': 1})\n"
     ]
    }
   ],
   "source": [
    "# N grams for hexadecimal entry point\n",
    "\n",
    "from collections import Counter\n",
    "import operator \n",
    "\n",
    "data_hex = df_imputed['EntryPoint'].tolist()\n",
    "\n",
    "ngrams_dict = defaultdict(int)\n",
    "for i in range(len(data_hex)):\n",
    "    data_hex[i] = (data_hex[i])[2:]\n",
    "    \n",
    "    ngrams_curr = get_ngrams_dict(data_hex[i], 2)\n",
    "    \n",
    "    input = [ngrams_dict, ngrams_curr]\n",
    "    ngrams_dict = sum((Counter(ng) for ng in input),  Counter())\n",
    "\n",
    "sorted_ngrams = sorted(ngrams_dict.items(), key=operator.itemgetter(1))[:10]\n",
    "\n",
    "# Take the first 10  most frequent n grams and make them binary features\n",
    "\n"
   ]
  },
  {
   "cell_type": "code",
   "execution_count": null,
   "metadata": {},
   "outputs": [],
   "source": []
  }
 ],
 "metadata": {
  "kernelspec": {
   "display_name": "Python 2",
   "language": "python",
   "name": "python2"
  },
  "language_info": {
   "codemirror_mode": {
    "name": "ipython",
    "version": 2
   },
   "file_extension": ".py",
   "mimetype": "text/x-python",
   "name": "python",
   "nbconvert_exporter": "python",
   "pygments_lexer": "ipython2",
   "version": "2.7.15"
  }
 },
 "nbformat": 4,
 "nbformat_minor": 2
}
