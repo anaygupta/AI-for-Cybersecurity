{
 "cells": [
  {
   "cell_type": "code",
   "execution_count": 1,
   "metadata": {},
   "outputs": [],
   "source": [
    "#CSE 494 Lab 1: Unsupervised Machine Learning Demo (Using K-means Clustering)\n",
    "#Author: Anay Gupta"
   ]
  },
  {
   "cell_type": "code",
   "execution_count": 2,
   "metadata": {},
   "outputs": [],
   "source": [
    "#importing necessary packages\n",
    "\n",
    "import pandas as pd\n",
    "import numpy as np\n",
    "import matplotlib.pyplot as plt\n",
    "\n",
    "from sklearn.cluster import KMeans\n",
    "from sklearn.metrics import silhouette_samples, silhouette_score\n",
    "from sklearn.preprocessing import MinMaxScaler "
   ]
  },
  {
   "cell_type": "code",
   "execution_count": 3,
   "metadata": {},
   "outputs": [],
   "source": [
    "#reads in csv file and returns dataframe containing feature columns and class label columns\n",
    "#--rows are samples\n",
    "#--columns are features for k-means (last column indicates the class label)\n",
    "def preProcessData(file):\n",
    "    df = pd.read_csv(file)\n",
    "    \n",
    "    #rename Unnamed to University\n",
    "    df.rename(columns={'Unnamed: 0': 'University'}, inplace = True)\n",
    "    df['Grad.Rate.Bins'] = pd.cut(df['Grad.Rate'], 6, labels = list(range(6)))\n",
    "    \n",
    "    df.Private[df.Private == 'Yes'] = 1\n",
    "    df.Private[df.Private == 'No'] = 0\n",
    "    \n",
    "    #store schools in a dictionary and drop that column\n",
    "    schools_dict = df['University'].to_dict()\n",
    "    print schools_dict[23]\n",
    "    df = df.drop('University',axis=1)\n",
    "    \n",
    "    list_target = ['Grad.Rate.Bins']\n",
    "    list_to_correlate = list(df.columns.values)[:1]\n",
    "    \n",
    "    df_corr = df.apply(lambda x: pd.factorize(x)[0]).corr(method='pearson', min_periods = 1)\n",
    "    corr = pd.DataFrame()\n",
    "    \n",
    "    for a in list_target:\n",
    "        for b in list_to_correlate:\n",
    "            corr.loc[a,b] = df_corr.loc[a,b]\n",
    "            \n",
    "#     print(corr)\n",
    "    \n",
    "    columns_to_select = ['Top10perc','Top25perc','perc.alumni','Enroll','Grad.Rate.Bins']\n",
    "    \n",
    "    df_sel = df[columns_to_select]\n",
    "    \n",
    "    print df_sel.head\n",
    "    \n",
    "    return df_sel, schools_dict."
   ]
  },
  {
   "cell_type": "code",
   "execution_count": 4,
   "metadata": {},
   "outputs": [],
   "source": [
    "#calculates Euclidean distance\n",
    "def _distance(a,b):\n",
    "    return np.sqrt(((a-b)**2).sum())"
   ]
  },
  {
   "cell_type": "code",
   "execution_count": 5,
   "metadata": {},
   "outputs": [],
   "source": [
    "#first, find the sum of the distances from each sample to its respective centroid for each cluster\n",
    "#then, return the minimum value\n",
    "def _nearest(clusters,x):\n",
    "    return np.argmin([_distance(x,c) for c in clusters])"
   ]
  },
  {
   "cell_type": "code",
   "execution_count": 6,
   "metadata": {},
   "outputs": [],
   "source": [
    "#running Kmeans\n",
    "def runKmeans(X, n_clust, init_method, max_iter_num):\n",
    "    kmeans = KMeans(n_clusters = n_clust, init = init_method, verbose = 0, tol = 1e-3, max_iter = max_iter_num, n_init = 10)\n",
    "    kmeans.fit(X)\n",
    "    \n",
    "    return kmeans"
   ]
  },
  {
   "cell_type": "code",
   "execution_count": 7,
   "metadata": {},
   "outputs": [],
   "source": [
    "def findIndexOfNearestCluster(model, df, schools_dict, school_name):\n",
    "    for idx, s in schools_dict.items():\n",
    "        if s == school_name:\n",
    "            feat_school = df.iloc[idx].values\n",
    "\n",
    "    clus_cent = model.cluster_centers_\n",
    "\n",
    "    print(_nearest(clus_cent, feat_school.T))"
   ]
  },
  {
   "cell_type": "code",
   "execution_count": 8,
   "metadata": {},
   "outputs": [],
   "source": [
    "def evaluateKMeans(df, schools_dict):\n",
    "\n",
    "    df = df.drop('Grad.Rate.Bins', axis=1)  # Remove the column corresponding to the class label\n",
    "    \n",
    "    X = df.values\n",
    "    print X\n",
    "    model = runKmeans(X, 6, 'random', 300)\n",
    "\n",
    "    print(\"Silhouette scores evaluation of K means on unscaled data \")\n",
    "    print(silhouette_score(X, model.labels_))\n",
    "    \n",
    "    print 'Model Inertia:'\n",
    "    print (model.inertia_)\n",
    "    \n",
    "    plt.figure(figsize=(10, 7))  \n",
    "    plt.scatter(X[:,1], X[:,2], c=model.labels_, cmap='rainbow') # Inertia -  the sum of squared distances of samples to the nearest cluster centre\n",
    "    plt.show()\n",
    "\n",
    "    scaler = MinMaxScaler()\n",
    "    X_scaled = scaler.fit_transform(X)\n",
    "    print X_scaled\n",
    "    \n",
    "    model = runKmeans(X_scaled, 3, 'random', 300)\n",
    "    \n",
    "    print(\"Silhouette scores evaluation of K means on scaled data \")\n",
    "    print(silhouette_score(X_scaled, model.labels_))\n",
    "    \n",
    "    print 'Model Inertia:'\n",
    "    print (model.inertia_)\n",
    "    temp = findIndexOfNearestCluster(model, df, schools_dict, 'Arizona State University Main Campus')\n",
    "    print temp\n",
    "\n",
    "#     return model\n",
    "    \n"
   ]
  },
  {
   "cell_type": "code",
   "execution_count": 3,
   "metadata": {},
   "outputs": [
    {
     "name": "stderr",
     "output_type": "stream",
     "text": [
      "/Users/anaygupta/anaconda3/envs/python2/lib/python2.7/site-packages/ipykernel_launcher.py:11: SettingWithCopyWarning: \n",
      "A value is trying to be set on a copy of a slice from a DataFrame\n",
      "\n",
      "See the caveats in the documentation: http://pandas.pydata.org/pandas-docs/stable/indexing.html#indexing-view-versus-copy\n",
      "  # This is added back by InteractiveShellApp.init_path()\n",
      "/Users/anaygupta/anaconda3/envs/python2/lib/python2.7/site-packages/ipykernel_launcher.py:12: SettingWithCopyWarning: \n",
      "A value is trying to be set on a copy of a slice from a DataFrame\n",
      "\n",
      "See the caveats in the documentation: http://pandas.pydata.org/pandas-docs/stable/indexing.html#indexing-view-versus-copy\n",
      "  if sys.path[0] == '':\n"
     ]
    },
    {
     "name": "stdout",
     "output_type": "stream",
     "text": [
      "Arizona State University Main campus\n",
      "<bound method DataFrame.head of      Top10perc  Top25perc  perc.alumni  Enroll Grad.Rate.Bins\n",
      "0           23         52           12     721              2\n",
      "1           16         29           16     512              2\n",
      "2           22         50           30     336              2\n",
      "3           60         89           37     137              2\n",
      "4           16         44            2      55              0\n",
      "5           38         62           11     158              2\n",
      "6           17         45           26     103              2\n",
      "7           37         68           37     489              3\n",
      "8           30         63           23     227              3\n",
      "9           21         44           15     172              2\n",
      "10          37         75           31     472              3\n",
      "11          44         77           41     484              3\n",
      "12          38         64           21     290              3\n",
      "13          44         73           32     385              3\n",
      "14          23         46           26     157              2\n",
      "15           9         22           19     220              3\n",
      "16          83         96           63     418              4\n",
      "17          19         40           14     423              2\n",
      "18          14         23           18     322              1\n",
      "19          24         54            5    1016              1\n",
      "20          25         44           35     252              2\n",
      "21          20         63           14    1910              3\n",
      "22          20         51           25     219              3\n",
      "23          24         49            5    3761              2\n",
      "24          46         74           24     166              2\n",
      "25          12         52            5     951              2\n",
      "26          23         59           30     491              4\n",
      "27          25         57           18    3070              3\n",
      "28          12         30           31     257              2\n",
      "29          36         69           40     497              3\n",
      "..         ...        ...          ...     ...            ...\n",
      "747          3         20           20     825              3\n",
      "748         20         43           20     184              2\n",
      "749         29         58           41     377              3\n",
      "750         21         60           34     213              2\n",
      "751         42         72           17     351              4\n",
      "752         56         84           40     548              4\n",
      "753         21         55           41     417              3\n",
      "754         15         49           27     213              3\n",
      "755         45         77           51     359              3\n",
      "756         35         63           29     344              2\n",
      "757         43         70           20     372              3\n",
      "758         24         64           19     502              2\n",
      "759         15         36           24     434              3\n",
      "760         49         80           37     395              3\n",
      "761         32         67           19     315              2\n",
      "762         17         39           16     227              2\n",
      "763         81         96           64     526              4\n",
      "764         16         50           43      46              3\n",
      "765         10         34            8     383              4\n",
      "766         20         45           18    1301              2\n",
      "767         24         61           26     769              2\n",
      "768         17         41           26      75              2\n",
      "769         42         68           29     575              3\n",
      "770         51         83           42     273              3\n",
      "771         49         86           34     682              3\n",
      "772          4         26           14     543              1\n",
      "773         24         47           31     695              4\n",
      "774         34         61           20     695              2\n",
      "775         95         99           49    1317              4\n",
      "776         28         63           28     691              4\n",
      "\n",
      "[777 rows x 5 columns]>\n"
     ]
    },
    {
     "ename": "NameError",
     "evalue": "name 'evaluateKMeans' is not defined",
     "output_type": "error",
     "traceback": [
      "\u001b[0;31m---------------------------------------------------------------------------\u001b[0m",
      "\u001b[0;31mNameError\u001b[0m                                 Traceback (most recent call last)",
      "\u001b[0;32m<ipython-input-3-4be6ef8b8843>\u001b[0m in \u001b[0;36m<module>\u001b[0;34m()\u001b[0m\n\u001b[1;32m      5\u001b[0m     \u001b[0mdf\u001b[0m\u001b[0;34m,\u001b[0m \u001b[0mschools_dict\u001b[0m \u001b[0;34m=\u001b[0m \u001b[0mpreProcessData\u001b[0m\u001b[0;34m(\u001b[0m\u001b[0mfile\u001b[0m\u001b[0;34m)\u001b[0m\u001b[0;34m\u001b[0m\u001b[0m\n\u001b[1;32m      6\u001b[0m \u001b[0;34m\u001b[0m\u001b[0m\n\u001b[0;32m----> 7\u001b[0;31m     \u001b[0mevaluateKMeans\u001b[0m\u001b[0;34m(\u001b[0m\u001b[0mdf\u001b[0m\u001b[0;34m,\u001b[0m \u001b[0mschools_dict\u001b[0m\u001b[0;34m)\u001b[0m\u001b[0;34m\u001b[0m\u001b[0m\n\u001b[0m\u001b[1;32m      8\u001b[0m \u001b[0;34m\u001b[0m\u001b[0m\n",
      "\u001b[0;31mNameError\u001b[0m: name 'evaluateKMeans' is not defined"
     ]
    }
   ],
   "source": [
    "if __name__ == \"__main__\":\n",
    "    file = '/Volumes/GoogleDrive/My Drive/Spring 19/CSE 494 Labs/Lab 1/College.csv'\n",
    "\n",
    "\n",
    "    df, schools_dict = preProcessData(file)\n",
    "\n",
    "    evaluateKMeans(df, schools_dict)\n",
    "    "
   ]
  },
  {
   "cell_type": "code",
   "execution_count": null,
   "metadata": {
    "collapsed": true
   },
   "outputs": [],
   "source": []
  },
  {
   "cell_type": "code",
   "execution_count": null,
   "metadata": {
    "collapsed": true
   },
   "outputs": [],
   "source": []
  }
 ],
 "metadata": {
  "kernelspec": {
   "display_name": "Python 2",
   "language": "python",
   "name": "python2"
  },
  "language_info": {
   "codemirror_mode": {
    "name": "ipython",
    "version": 2
   },
   "file_extension": ".py",
   "mimetype": "text/x-python",
   "name": "python",
   "nbconvert_exporter": "python",
   "pygments_lexer": "ipython2",
   "version": "2.7.15"
  }
 },
 "nbformat": 4,
 "nbformat_minor": 2
}
