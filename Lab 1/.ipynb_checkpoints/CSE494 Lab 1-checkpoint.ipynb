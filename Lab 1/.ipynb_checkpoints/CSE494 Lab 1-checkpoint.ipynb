{
 "cells": [
  {
   "cell_type": "code",
   "execution_count": 12,
   "metadata": {
    "collapsed": true
   },
   "outputs": [],
   "source": [
    "#CSE 494 Lab 1: Unsupervised Machine Learning Demo (Using K-means Clustering)\n",
    "#Author: Anay Gupta"
   ]
  },
  {
   "cell_type": "code",
   "execution_count": 13,
   "metadata": {},
   "outputs": [],
   "source": [
    "#importing necessary packages\n",
    "\n",
    "import pandas as pd\n",
    "import numpy as np\n",
    "import matplotlib.pyplot as plt\n",
    "\n",
    "from sklearn.cluster import KMeans\n",
    "from sklearn.metrics import silhouette_samples, silhouette_score\n",
    "from sklearn.preprocessing import MinMaxScaler "
   ]
  },
  {
   "cell_type": "code",
   "execution_count": 14,
   "metadata": {},
   "outputs": [],
   "source": [
    "#reads in csv file and returns dataframe containing feature columns and class label columns\n",
    "#--rows are samples\n",
    "#--columns are features for k-means (last column indicates the class label)\n",
    "def preProcessData(file):\n",
    "    file = '/Volumes/GoogleDrive/My Drive/Spring 19/CSE 494 Labs/Lab 1/College.csv'\n",
    "    df = pd.read_csv(file)\n",
    "    df.rename(columns={'Unnamed: 0': 'University'}, inplace = True)\n",
    "    df['Grad.Rate.Bins'] = pd.cut(df['Grad.Rate'], 6, labels = list(range(6)))\n",
    "    \n",
    "    df.Private[df.Private == 'Yes'] = 1\n",
    "    df.Private[df.Private == 'No'] = 0\n",
    "    \n",
    "    schools_dict = df['University'].to_dict()\n",
    "    \n",
    "    df = df.drop('University',axis=1)\n",
    "    \n",
    "    list_target = ['Grad.Rate.Bins']\n",
    "    list_to_correlate = list(df.columns.values)[:1]\n",
    "    \n",
    "    df_corr = df.apply(lambda x: pd.factorize(x)[0]).corr(method='pearson', min_periods = 1)\n",
    "    corr = pd.DataFrame()\n",
    "    \n",
    "    for a in list_target:\n",
    "        for b in list_to_correlate:\n",
    "            corr.loc[a,b] = df_corr.loc[a,b]\n",
    "            \n",
    "    print(corr)\n",
    "    \n",
    "    columns_to_select = ['Top10perc','Top25perc','perc.alumni','Enroll','Grad.Rate.Bins']\n",
    "    \n",
    "    df_sel = df[columns_to_select]\n",
    "    \n",
    "    return df_sel, schools_dict"
   ]
  },
  {
   "cell_type": "code",
   "execution_count": 15,
   "metadata": {
    "collapsed": true
   },
   "outputs": [],
   "source": [
    "#calculates Euclidean distance\n",
    "def _distance(a,b):\n",
    "    return np.sqrt(((a-b)**2).sum())"
   ]
  },
  {
   "cell_type": "code",
   "execution_count": 16,
   "metadata": {
    "collapsed": true
   },
   "outputs": [],
   "source": [
    "#first, find the sum of the distances from each sample to its respective centroid for each cluster\n",
    "#then, return the minimum value\n",
    "def _nearest(clusters,x):\n",
    "    return np.argmin([_distance(x,c) for c in clusters])"
   ]
  },
  {
   "cell_type": "code",
   "execution_count": 17,
   "metadata": {
    "collapsed": true
   },
   "outputs": [],
   "source": [
    "def runKmeans(X, n_clust, init_method, max_iter_num):\n",
    "    kmeans = KMeans(n_clusters = n_clust, init = init_method, verbose = 0, tol = 1e-3, max_iter = max_iter_num, n_init = 10)\n",
    "    kmeans.fit(X)\n",
    "    \n",
    "    return kmeans"
   ]
  },
  {
   "cell_type": "code",
   "execution_count": null,
   "metadata": {
    "collapsed": true
   },
   "outputs": [],
   "source": [
    "def findIndexOfNearestCluster(model, df, schools_dict, school_name):\n",
    "    for idx, s in schools_dict.items():\n",
    "        if s == school_name:"
   ]
  }
 ],
 "metadata": {
  "kernelspec": {
   "display_name": "Python 2",
   "language": "python",
   "name": "python2"
  },
  "language_info": {
   "codemirror_mode": {
    "name": "ipython",
    "version": 2
   },
   "file_extension": ".py",
   "mimetype": "text/x-python",
   "name": "python",
   "nbconvert_exporter": "python",
   "pygments_lexer": "ipython2",
   "version": "2.7.13"
  }
 },
 "nbformat": 4,
 "nbformat_minor": 2
}
