{
 "cells": [
  {
   "cell_type": "markdown",
   "metadata": {},
   "source": [
    "# Lab 6: IOCS and MD5 hashes extractons:"
   ]
  },
  {
   "cell_type": "markdown",
   "metadata": {},
   "source": [
    "### In this lab, we will see an example of IOC file structure and what content it has.\n",
    "### The first step for us is to read the IOC file to extract what information we want to get and analyze. \n"
   ]
  },
  {
   "cell_type": "markdown",
   "metadata": {},
   "source": [
    "### Good tutorial for IOCs\n",
    "\n",
    "https://apps.dtic.mil/dtic/tr/fulltext/u2/1046101.pdf"
   ]
  },
  {
   "cell_type": "code",
   "execution_count": 1,
   "metadata": {},
   "outputs": [],
   "source": [
    "import pandas as pd\n",
    "import xml\n",
    "import os\n",
    "import xml.etree.ElementTree as ET\n",
    "from collections import *\n",
    "import numpy as np\n"
   ]
  },
  {
   "cell_type": "code",
   "execution_count": 2,
   "metadata": {},
   "outputs": [],
   "source": [
    "# Path to where you saved your IOC's \n",
    "data = 'C://Users/Abdulhakim/Documents/IOCs/'"
   ]
  },
  {
   "cell_type": "markdown",
   "metadata": {},
   "source": [
    "### Parse the XML file"
   ]
  },
  {
   "cell_type": "code",
   "execution_count": 3,
   "metadata": {},
   "outputs": [
    {
     "name": "stdout",
     "output_type": "stream",
     "text": [
      "0c7c902c-67f8-479c-9f44-4d985106365a.ioc\n",
      "<Element '{http://schemas.mandiant.com/2010/ioc}ioc' at 0x000001F7E5633C78>\n",
      "{http://schemas.mandiant.com/2010/ioc}short_description {}\n",
      "{http://schemas.mandiant.com/2010/ioc}description {}\n",
      "{http://schemas.mandiant.com/2010/ioc}authored_by {}\n",
      "{http://schemas.mandiant.com/2010/ioc}authored_date {}\n",
      "{http://schemas.mandiant.com/2010/ioc}links {}\n",
      "{http://schemas.mandiant.com/2010/ioc}definition {}\n"
     ]
    }
   ],
   "source": [
    "for file in os.listdir(data):\n",
    "    print(file)\n",
    "    \n",
    "    tree = ET.parse(data + file)\n",
    "    root = tree.getroot()\n",
    "    print(root)\n",
    "    \n",
    "    for child in root:\n",
    "        print(child.tag,child.attrib)\n",
    "    \n",
    "    break"
   ]
  },
  {
   "cell_type": "markdown",
   "metadata": {},
   "source": [
    "#### Print the node elements tag"
   ]
  },
  {
   "cell_type": "code",
   "execution_count": 4,
   "metadata": {},
   "outputs": [
    {
     "data": {
      "text/plain": [
       "[('{http://schemas.mandiant.com/2010/ioc}ioc',\n",
       "  {'id': '0c7c902c-67f8-479c-9f44-4d985106365a',\n",
       "   'last-modified': '2013-02-10T13:00:00'}),\n",
       " ('{http://schemas.mandiant.com/2010/ioc}short_description', {}),\n",
       " ('{http://schemas.mandiant.com/2010/ioc}description', {}),\n",
       " ('{http://schemas.mandiant.com/2010/ioc}authored_by', {}),\n",
       " ('{http://schemas.mandiant.com/2010/ioc}authored_date', {}),\n",
       " ('{http://schemas.mandiant.com/2010/ioc}links', {}),\n",
       " ('{http://schemas.mandiant.com/2010/ioc}link', {'rel': 'family'}),\n",
       " ('{http://schemas.mandiant.com/2010/ioc}link', {'rel': 'threatgroup'}),\n",
       " ('{http://schemas.mandiant.com/2010/ioc}link', {'rel': 'family'}),\n",
       " ('{http://schemas.mandiant.com/2010/ioc}link', {'rel': 'category'}),\n",
       " ('{http://schemas.mandiant.com/2010/ioc}definition', {}),\n",
       " ('{http://schemas.mandiant.com/2010/ioc}Indicator',\n",
       "  {'operator': 'OR', 'id': '8d88dd33-1e16-4814-814e-662fb0ac842f'}),\n",
       " ('{http://schemas.mandiant.com/2010/ioc}IndicatorItem',\n",
       "  {'id': 'b7013416-7e77-4078-a0bd-a33b49c7cb2f', 'condition': 'is'}),\n",
       " ('{http://schemas.mandiant.com/2010/ioc}Context',\n",
       "  {'document': 'FileItem', 'search': 'FileItem/Md5sum', 'type': 'mir'}),\n",
       " ('{http://schemas.mandiant.com/2010/ioc}Content', {'type': 'md5'}),\n",
       " ('{http://schemas.mandiant.com/2010/ioc}IndicatorItem',\n",
       "  {'id': '749eea4e-2812-4b4d-bba9-4292bedc05a2', 'condition': 'is'}),\n",
       " ('{http://schemas.mandiant.com/2010/ioc}Context',\n",
       "  {'document': 'FileItem', 'search': 'FileItem/Md5sum', 'type': 'mir'}),\n",
       " ('{http://schemas.mandiant.com/2010/ioc}Content', {'type': 'md5'}),\n",
       " ('{http://schemas.mandiant.com/2010/ioc}IndicatorItem',\n",
       "  {'id': '2d244ba9-73e0-4270-96aa-64f1c8935d27', 'condition': 'is'}),\n",
       " ('{http://schemas.mandiant.com/2010/ioc}Context',\n",
       "  {'document': 'FileItem', 'search': 'FileItem/Md5sum', 'type': 'mir'}),\n",
       " ('{http://schemas.mandiant.com/2010/ioc}Content', {'type': 'md5'}),\n",
       " ('{http://schemas.mandiant.com/2010/ioc}IndicatorItem',\n",
       "  {'id': '41207254-a9d7-4b95-9080-a4d8905d2fd5', 'condition': 'is'}),\n",
       " ('{http://schemas.mandiant.com/2010/ioc}Context',\n",
       "  {'document': 'FileItem', 'search': 'FileItem/Md5sum', 'type': 'mir'}),\n",
       " ('{http://schemas.mandiant.com/2010/ioc}Content', {'type': 'md5'}),\n",
       " ('{http://schemas.mandiant.com/2010/ioc}Indicator',\n",
       "  {'operator': 'AND', 'id': '427596f8-92f4-4231-8aaf-f3b418000b85'}),\n",
       " ('{http://schemas.mandiant.com/2010/ioc}Indicator',\n",
       "  {'operator': 'OR', 'id': '8c374153-02fb-40d4-b2af-cbf5c4ec4b26'}),\n",
       " ('{http://schemas.mandiant.com/2010/ioc}IndicatorItem',\n",
       "  {'id': 'df3e85c7-82a9-4032-b860-03c5e891d3b0', 'condition': 'is'}),\n",
       " ('{http://schemas.mandiant.com/2010/ioc}Context',\n",
       "  {'document': 'FileItem', 'search': 'FileItem/FileName', 'type': 'mir'}),\n",
       " ('{http://schemas.mandiant.com/2010/ioc}Content', {'type': 'string'}),\n",
       " ('{http://schemas.mandiant.com/2010/ioc}IndicatorItem',\n",
       "  {'id': 'da666dfb-6d51-4374-b0b0-3a896d06f3dc', 'condition': 'is'}),\n",
       " ('{http://schemas.mandiant.com/2010/ioc}Context',\n",
       "  {'document': 'FileItem', 'search': 'FileItem/FileName', 'type': 'mir'}),\n",
       " ('{http://schemas.mandiant.com/2010/ioc}Content', {'type': 'string'}),\n",
       " ('{http://schemas.mandiant.com/2010/ioc}IndicatorItem',\n",
       "  {'id': '94ab92ad-b5e9-4ebe-bd9f-125b97511e7a', 'condition': 'is'}),\n",
       " ('{http://schemas.mandiant.com/2010/ioc}Context',\n",
       "  {'document': 'FileItem', 'search': 'FileItem/FileName', 'type': 'mir'}),\n",
       " ('{http://schemas.mandiant.com/2010/ioc}Content', {'type': 'string'}),\n",
       " ('{http://schemas.mandiant.com/2010/ioc}IndicatorItem',\n",
       "  {'id': '7ff03fbe-0077-44dc-b1a3-fa9771b3302a', 'condition': 'is'}),\n",
       " ('{http://schemas.mandiant.com/2010/ioc}Context',\n",
       "  {'document': 'FileItem', 'search': 'FileItem/FileName', 'type': 'mir'}),\n",
       " ('{http://schemas.mandiant.com/2010/ioc}Content', {'type': 'string'}),\n",
       " ('{http://schemas.mandiant.com/2010/ioc}IndicatorItem',\n",
       "  {'id': '266e75ec-5639-4d5d-b094-c59173a61b13', 'condition': 'is'}),\n",
       " ('{http://schemas.mandiant.com/2010/ioc}Context',\n",
       "  {'document': 'FileItem',\n",
       "   'search': 'FileItem/PEInfo/DetectedAnomalies/string',\n",
       "   'type': 'mir'}),\n",
       " ('{http://schemas.mandiant.com/2010/ioc}Content', {'type': 'string'}),\n",
       " ('{http://schemas.mandiant.com/2010/ioc}Comment', {}),\n",
       " ('{http://schemas.mandiant.com/2010/ioc}IndicatorItem',\n",
       "  {'id': '30d852eb-43c9-4ab4-b602-ae7fd7636216', 'condition': 'is'}),\n",
       " ('{http://schemas.mandiant.com/2010/ioc}Context',\n",
       "  {'document': 'FileItem',\n",
       "   'search': 'FileItem/PEInfo/DetectedAnomalies/string',\n",
       "   'type': 'mir'}),\n",
       " ('{http://schemas.mandiant.com/2010/ioc}Content', {'type': 'string'}),\n",
       " ('{http://schemas.mandiant.com/2010/ioc}Comment', {}),\n",
       " ('{http://schemas.mandiant.com/2010/ioc}Indicator',\n",
       "  {'operator': 'OR', 'id': 'f2f862e9-11d2-4f56-b214-38e5310c8c80'}),\n",
       " ('{http://schemas.mandiant.com/2010/ioc}IndicatorItem',\n",
       "  {'id': '995a7833-1780-4b17-b5fa-944f6d8f51b1', 'condition': 'is'}),\n",
       " ('{http://schemas.mandiant.com/2010/ioc}Context',\n",
       "  {'document': 'FileItem', 'search': 'FileItem/SizeInBytes', 'type': 'mir'}),\n",
       " ('{http://schemas.mandiant.com/2010/ioc}Content', {'type': 'int'}),\n",
       " ('{http://schemas.mandiant.com/2010/ioc}IndicatorItem',\n",
       "  {'id': 'af887012-42d2-4a98-9c91-91fa99f5986a', 'condition': 'is'}),\n",
       " ('{http://schemas.mandiant.com/2010/ioc}Context',\n",
       "  {'document': 'FileItem', 'search': 'FileItem/SizeInBytes', 'type': 'mir'}),\n",
       " ('{http://schemas.mandiant.com/2010/ioc}Content', {'type': 'int'}),\n",
       " ('{http://schemas.mandiant.com/2010/ioc}IndicatorItem',\n",
       "  {'id': 'fccec804-ae93-4ea1-9cc6-8795523b7ec6', 'condition': 'is'}),\n",
       " ('{http://schemas.mandiant.com/2010/ioc}Context',\n",
       "  {'document': 'FileItem', 'search': 'FileItem/SizeInBytes', 'type': 'mir'}),\n",
       " ('{http://schemas.mandiant.com/2010/ioc}Content', {'type': 'int'}),\n",
       " ('{http://schemas.mandiant.com/2010/ioc}IndicatorItem',\n",
       "  {'id': 'cbf27d57-cf18-40b5-a706-8501083e46ae', 'condition': 'is'}),\n",
       " ('{http://schemas.mandiant.com/2010/ioc}Context',\n",
       "  {'document': 'FileItem', 'search': 'FileItem/SizeInBytes', 'type': 'mir'}),\n",
       " ('{http://schemas.mandiant.com/2010/ioc}Content', {'type': 'int'}),\n",
       " ('{http://schemas.mandiant.com/2010/ioc}Indicator',\n",
       "  {'operator': 'OR', 'id': '0d53e783-c9e7-4dbd-b661-dfac62ac8f75'}),\n",
       " ('{http://schemas.mandiant.com/2010/ioc}IndicatorItem',\n",
       "  {'id': '3cfaf45b-31a1-4f1e-a690-09f132e5c612', 'condition': 'is'}),\n",
       " ('{http://schemas.mandiant.com/2010/ioc}Context',\n",
       "  {'document': 'FileItem',\n",
       "   'search': 'FileItem/PEInfo/PETimeStamp',\n",
       "   'type': 'mir'}),\n",
       " ('{http://schemas.mandiant.com/2010/ioc}Content', {'type': 'date'}),\n",
       " ('{http://schemas.mandiant.com/2010/ioc}IndicatorItem',\n",
       "  {'id': 'c39b79ba-460e-4619-bf49-73a4a81e256d', 'condition': 'is'}),\n",
       " ('{http://schemas.mandiant.com/2010/ioc}Context',\n",
       "  {'document': 'FileItem',\n",
       "   'search': 'FileItem/PEInfo/PETimeStamp',\n",
       "   'type': 'mir'}),\n",
       " ('{http://schemas.mandiant.com/2010/ioc}Content', {'type': 'date'}),\n",
       " ('{http://schemas.mandiant.com/2010/ioc}IndicatorItem',\n",
       "  {'id': '300bc2bd-1cdc-4c94-90e0-54bba1f9bbae', 'condition': 'is'}),\n",
       " ('{http://schemas.mandiant.com/2010/ioc}Context',\n",
       "  {'document': 'FileItem',\n",
       "   'search': 'FileItem/PEInfo/PETimeStamp',\n",
       "   'type': 'mir'}),\n",
       " ('{http://schemas.mandiant.com/2010/ioc}Content', {'type': 'date'})]"
      ]
     },
     "execution_count": 4,
     "metadata": {},
     "output_type": "execute_result"
    }
   ],
   "source": [
    "[(elem.tag, elem.attrib) for elem in root.iter()]\n"
   ]
  },
  {
   "cell_type": "code",
   "execution_count": 67,
   "metadata": {},
   "outputs": [
    {
     "name": "stdout",
     "output_type": "stream",
     "text": [
      "0c7c902c-67f8-479c-9f44-4d985106365a.ioc\n",
      "12a40bf7-4834-49b0-a419-6abb5fe2b291.ioc\n",
      "2106f0d2-a260-4277-90ab-edd3455e31fa.ioc\n",
      "2bff223f-9e46-47a7-ac35-d35f8138a4c7.ioc\n",
      "2fc55747-6822-41d2-bcc1-387fc1b2e67b.ioc\n",
      "32b168e6-dbd6-4d56-ba2f-734553239efe.ioc\n",
      "3e01b786-fe3a-4228-95fa-c3986e2353d6.ioc\n",
      "4a2c5f60-f4c0-4844-ba1f-a14dac9fa36c.ioc\n",
      "547e4128-9dff-45d9-b90f-081ce3966dee.ioc\n",
      "6bd24113-2922-4d25-b490-f727f47ba948.ioc\n",
      "70b5be0c-8a94-44b4-97a4-1e95b09498a8.ioc\n",
      "7c739d52-c669-4d51-ac15-8ae66305e232.ioc\n",
      "7d2eaadf-a5ff-4199-996e-af6258874dad.ioc\n",
      "7f9a6986-f00a-4071-99d3-484c9158beba.ioc\n",
      "806beff3-7395-492e-be63-99a6b4a550b8.ioc\n",
      "84f04df2-25cd-4f59-a920-448d8843b6fc.ioc\n",
      "86e9b8ec-7413-453b-a932-b5fb95a8dba6.ioc\n",
      "86f988b7-fa02-46df-8e19-e50ce37f0fed.ioc\n",
      "8dd23e0a-a659-45b4-a168-67e4b00944fb.ioc\n",
      "9c9368cd-3a1f-4200-b093-adb97d5f1f5d.ioc\n"
     ]
    }
   ],
   "source": [
    "dict_ioc_files = defaultdict(dict)\n",
    "\n",
    "for file in os.listdir(data):\n",
    "    print(file)\n",
    "    \n",
    "    tree = ET.parse(data + file)\n",
    "    root = tree.getroot()\n",
    "    \n",
    "    dict_ioc = {}\n",
    "    for child in root:\n",
    "        if child.tag == \"{http://schemas.mandiant.com/2010/ioc}links\":\n",
    "            for mdata in child:\n",
    "                key = mdata.attrib['rel']\n",
    "                text = mdata.text\n",
    "#                 print(key, text)\n",
    "                \n",
    "                dict_ioc[key] = text\n",
    "                \n",
    "    dict_ioc_files[file] = dict_ioc         \n"
   ]
  },
  {
   "cell_type": "code",
   "execution_count": 5,
   "metadata": {},
   "outputs": [
    {
     "name": "stdout",
     "output_type": "stream",
     "text": [
      "{http://schemas.mandiant.com/2010/ioc}IndicatorItem\n",
      "{http://schemas.mandiant.com/2010/ioc}IndicatorItem\n",
      "{http://schemas.mandiant.com/2010/ioc}IndicatorItem\n",
      "{http://schemas.mandiant.com/2010/ioc}IndicatorItem\n",
      "{http://schemas.mandiant.com/2010/ioc}Indicator\n"
     ]
    }
   ],
   "source": [
    "for child in root:\n",
    "    if child.tag != \"{http://schemas.mandiant.com/2010/ioc}definition\":\n",
    "        continue\n",
    "    \n",
    "    for ioc in child:\n",
    "        for ioc_rec in ioc:\n",
    "            print(ioc_rec.tag)"
   ]
  },
  {
   "cell_type": "markdown",
   "metadata": {},
   "source": [
    "### Get the list of MD5s from the XML elements"
   ]
  },
  {
   "cell_type": "code",
   "execution_count": 6,
   "metadata": {},
   "outputs": [
    {
     "name": "stdout",
     "output_type": "stream",
     "text": [
      "0c7c902c-67f8-479c-9f44-4d985106365a.ioc\n",
      "12a40bf7-4834-49b0-a419-6abb5fe2b291.ioc\n",
      "2106f0d2-a260-4277-90ab-edd3455e31fa.ioc\n",
      "2bff223f-9e46-47a7-ac35-d35f8138a4c7.ioc\n",
      "2fc55747-6822-41d2-bcc1-387fc1b2e67b.ioc\n",
      "32b168e6-dbd6-4d56-ba2f-734553239efe.ioc\n",
      "3e01b786-fe3a-4228-95fa-c3986e2353d6.ioc\n",
      "4a2c5f60-f4c0-4844-ba1f-a14dac9fa36c.ioc\n",
      "547e4128-9dff-45d9-b90f-081ce3966dee.ioc\n",
      "6bd24113-2922-4d25-b490-f727f47ba948.ioc\n",
      "70b5be0c-8a94-44b4-97a4-1e95b09498a8.ioc\n",
      "7c739d52-c669-4d51-ac15-8ae66305e232.ioc\n",
      "7d2eaadf-a5ff-4199-996e-af6258874dad.ioc\n",
      "7f9a6986-f00a-4071-99d3-484c9158beba.ioc\n",
      "806beff3-7395-492e-be63-99a6b4a550b8.ioc\n",
      "84f04df2-25cd-4f59-a920-448d8843b6fc.ioc\n",
      "86e9b8ec-7413-453b-a932-b5fb95a8dba6.ioc\n",
      "86f988b7-fa02-46df-8e19-e50ce37f0fed.ioc\n",
      "8dd23e0a-a659-45b4-a168-67e4b00944fb.ioc\n",
      "9c9368cd-3a1f-4200-b093-adb97d5f1f5d.ioc\n"
     ]
    }
   ],
   "source": [
    "file_md5s = defaultdict(list)\n",
    "\n",
    "for file in os.listdir(data):  \n",
    "    print(file)\n",
    "    tree = ET.parse(data + file)\n",
    "    root = tree.getroot()\n",
    "    \n",
    "    dict_ioc = {}\n",
    "    for elem in root.iter():\n",
    "        if elem.tag == \"{http://schemas.mandiant.com/2010/ioc}IndicatorItem\":\n",
    "            for mdata in elem:\n",
    "                if mdata.tag == '{http://schemas.mandiant.com/2010/ioc}Content' and mdata.attrib['type'] == 'md5':\n",
    "#                     print(mdata.tag, mdata.attrib)\n",
    "                    file_md5s[file].append(mdata.text)\n",
    "#                     print(mdata.text)\n",
    "\n",
    "    \n",
    "\n",
    "# print(file_md5s)\n",
    "             "
   ]
  },
  {
   "cell_type": "code",
   "execution_count": 7,
   "metadata": {},
   "outputs": [],
   "source": [
    "set_hashes = set()\n",
    "\n",
    "for file in file_md5s:\n",
    "    for f in file_md5s[file]:\n",
    "        set_hashes.add(f)\n",
    "\n",
    "md5_list = list(set_hashes)\n",
    "\n",
    "### Take the first 10 hashes\n",
    "\n",
    "md5_list_sample = md5_list[:10]"
   ]
  },
  {
   "cell_type": "markdown",
   "metadata": {},
   "source": [
    "#### Iterate over the columns and retrieve the VirusTotal Reports for each md5\n"
   ]
  },
  {
   "cell_type": "code",
   "execution_count": null,
   "metadata": {},
   "outputs": [],
   "source": []
  },
  {
   "cell_type": "code",
   "execution_count": null,
   "metadata": {},
   "outputs": [],
   "source": []
  }
 ],
 "metadata": {
  "kernelspec": {
   "display_name": "Python 3",
   "language": "python",
   "name": "python3"
  },
  "language_info": {
   "codemirror_mode": {
    "name": "ipython",
    "version": 3
   },
   "file_extension": ".py",
   "mimetype": "text/x-python",
   "name": "python",
   "nbconvert_exporter": "python",
   "pygments_lexer": "ipython3",
   "version": "3.7.1"
  }
 },
 "nbformat": 4,
 "nbformat_minor": 2
}
