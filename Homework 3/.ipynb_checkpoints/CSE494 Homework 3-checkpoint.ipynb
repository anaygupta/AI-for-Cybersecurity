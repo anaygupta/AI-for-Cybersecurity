{
 "cells": [
  {
   "cell_type": "code",
   "execution_count": 1,
   "metadata": {},
   "outputs": [],
   "source": [
    "import pandas as pd\n",
    "from mlxtend.preprocessing import TransactionEncoder\n",
    "import json, ast"
   ]
  },
  {
   "cell_type": "code",
   "execution_count": 89,
   "metadata": {},
   "outputs": [
    {
     "name": "stdout",
     "output_type": "stream",
     "text": [
      "sbs: 2, movtmi: 525, strdeq: 1, ldm: 4, bvc: 1, stcleq: 1, cbnz: 1, strtlo: 1, mls: 1051, beq: 4, smmla: 1, bhs: 1, blgt: 1, cmnhs: 1, movs: 9, ldcl: 1, movwgt: 1, adds: 2, blx: 2, ldrshmi: 1, strbne: 1, ldcleq: 1, ldclgt: 1, lsls: 5, ldmeq: 1, asrs: 7, add: 3, blmi: 1, satpl: 1, ldrpl: 1, ldrbtle: 1, stmibls: 1, strtgt: 1, svcvs: 2, str: 7, bl: 1, rsbshs: 1, sbcsle: 1, bmi: 1, rsbspl: 1, b: 4, stclvs: 1, movwlo: 1, adr: 1, orrs: 1, bx: 1, ldrteq: 1, eorshs: 1, strbmi: 1, ldrsh: 1, ldclge: 1, bllt: 1, ldr: 14, ldrsb: 2, stm: 4, cdphi: 1, strtne: 2, cdpvs: 2, blne: 1, lsrs: 6, strh: 2, rscsmi: 1, stcvs: 1, strb: 5, ldrbvc: 1, ldrh: 2, cmp: 3\n"
     ]
    }
   ],
   "source": [
    "#Part 1a\n",
    "df = pd.read_csv('./CTF-data2.csv')['instruction']\n",
    "df2 = pd.read_csv('./CTF-data2.csv')['payload']\n",
    "temp = []\n",
    "for d in df:\n",
    "    d = d.replace('u','')\n",
    "    d = d.replace(\"''\",'')\n",
    "    d = d.replace('{','')\n",
    "    d = d.replace('}','')\n",
    "    temp.append(d)\n",
    "# print temp[0]\n",
    "#     print t.split(':')\n",
    "#     a,b = t.split(':')\n",
    "# instructions = df['instruction']\n",
    "# print instructions.values()\n",
    "# for i in instructions:\n",
    "# d = json.loads(instructions[0])\n",
    "# print d\n",
    "# r = {u'name': u'A', u'primary_key': 1}"
   ]
  },
  {
   "cell_type": "code",
   "execution_count": 75,
   "metadata": {},
   "outputs": [],
   "source": [
    "#for each row\n",
    "temp2 = []\n",
    "for t in temp:\n",
    "    spl = t.split(',')\n",
    "    temp2.append(spl)\n",
    "\n",
    "# ref = []\n",
    "# ref = [[0 for x in range(y)] for y in range(len(temp2))] \n",
    "# for t in temp2:\n",
    "#     for i in t:\n",
    "#         a = i.split(':')\n",
    "#         a = a[0].strip()\n",
    "#         ref[] = a\n",
    "        \n",
    "        \n",
    "\n",
    "\n",
    "data = {}\n",
    "for i in temp2:\n",
    "    for j in i:\n",
    "        a,b = j.split(':')\n",
    "        a = a.strip()\n",
    "        b = int(b.strip())\n",
    "        if a in data.keys():\n",
    "            data[a] +=b\n",
    "        else:\n",
    "            data[a] = b\n",
    "    count += 1\n",
    "    \n",
    "# print data"
   ]
  },
  {
   "cell_type": "code",
   "execution_count": 76,
   "metadata": {
    "scrolled": true
   },
   "outputs": [
    {
     "name": "stdout",
     "output_type": "stream",
     "text": [
      "2158\n"
     ]
    }
   ],
   "source": [
    "#Part 1b\n",
    "count = 0\n",
    "C\n",
    "    count += 1\n",
    "print count"
   ]
  },
  {
   "cell_type": "code",
   "execution_count": 77,
   "metadata": {},
   "outputs": [
    {
     "data": {
      "text/html": [
       "<div>\n",
       "<style scoped>\n",
       "    .dataframe tbody tr th:only-of-type {\n",
       "        vertical-align: middle;\n",
       "    }\n",
       "\n",
       "    .dataframe tbody tr th {\n",
       "        vertical-align: top;\n",
       "    }\n",
       "\n",
       "    .dataframe thead th {\n",
       "        text-align: right;\n",
       "    }\n",
       "</style>\n",
       "<table border=\"1\" class=\"dataframe\">\n",
       "  <thead>\n",
       "    <tr style=\"text-align: right;\">\n",
       "      <th></th>\n",
       "      <th>adc</th>\n",
       "      <th>adc.w</th>\n",
       "      <th>adceq</th>\n",
       "      <th>adcge</th>\n",
       "      <th>adcgt</th>\n",
       "      <th>adchi</th>\n",
       "      <th>adchs</th>\n",
       "      <th>adcle</th>\n",
       "      <th>adclo</th>\n",
       "      <th>adcls</th>\n",
       "      <th>...</th>\n",
       "      <th>xtabne</th>\n",
       "      <th>xtah</th>\n",
       "      <th>xtahls</th>\n",
       "      <th>xtahlt</th>\n",
       "      <th>xtahmi</th>\n",
       "      <th>xtb</th>\n",
       "      <th>xtb16vc</th>\n",
       "      <th>xth</th>\n",
       "      <th>xthvc</th>\n",
       "      <th>yield</th>\n",
       "    </tr>\n",
       "  </thead>\n",
       "  <tbody>\n",
       "    <tr>\n",
       "      <th>0</th>\n",
       "      <td>35</td>\n",
       "      <td>17</td>\n",
       "      <td>14</td>\n",
       "      <td>14</td>\n",
       "      <td>9</td>\n",
       "      <td>15</td>\n",
       "      <td>16</td>\n",
       "      <td>12</td>\n",
       "      <td>8</td>\n",
       "      <td>8</td>\n",
       "      <td>...</td>\n",
       "      <td>1</td>\n",
       "      <td>1</td>\n",
       "      <td>1</td>\n",
       "      <td>4</td>\n",
       "      <td>1</td>\n",
       "      <td>60</td>\n",
       "      <td>2</td>\n",
       "      <td>45</td>\n",
       "      <td>2</td>\n",
       "      <td>1</td>\n",
       "    </tr>\n",
       "  </tbody>\n",
       "</table>\n",
       "<p>1 rows × 2158 columns</p>\n",
       "</div>"
      ],
      "text/plain": [
       "   adc  adc.w  adceq  adcge  adcgt  adchi  adchs  adcle  adclo  adcls  ...  \\\n",
       "0   35     17     14     14      9     15     16     12      8      8  ...   \n",
       "\n",
       "   xtabne  xtah  xtahls  xtahlt  xtahmi  xtb  xtb16vc  xth  xthvc  yield  \n",
       "0       1     1       1       4       1   60        2   45      2      1  \n",
       "\n",
       "[1 rows x 2158 columns]"
      ]
     },
     "execution_count": 77,
     "metadata": {},
     "output_type": "execute_result"
    }
   ],
   "source": [
    "#Part 2a\n",
    "# new_df = pd.DataFrame(data.values(), columns = data.keys())\n",
    "new_df = pd.DataFrame(data, index=[0])\n",
    "new_df"
   ]
  },
  {
   "cell_type": "code",
   "execution_count": 164,
   "metadata": {},
   "outputs": [
    {
     "data": {
      "text/html": [
       "<div>\n",
       "<style scoped>\n",
       "    .dataframe tbody tr th:only-of-type {\n",
       "        vertical-align: middle;\n",
       "    }\n",
       "\n",
       "    .dataframe tbody tr th {\n",
       "        vertical-align: top;\n",
       "    }\n",
       "\n",
       "    .dataframe thead th {\n",
       "        text-align: right;\n",
       "    }\n",
       "</style>\n",
       "<table border=\"1\" class=\"dataframe\">\n",
       "  <thead>\n",
       "    <tr style=\"text-align: right;\">\n",
       "      <th></th>\n",
       "      <th>adc.w</th>\n",
       "      <th>adceq</th>\n",
       "      <th>adcge</th>\n",
       "    </tr>\n",
       "  </thead>\n",
       "  <tbody>\n",
       "    <tr>\n",
       "      <th>0</th>\n",
       "      <td>0</td>\n",
       "      <td>0</td>\n",
       "      <td>0</td>\n",
       "    </tr>\n",
       "    <tr>\n",
       "      <th>1</th>\n",
       "      <td>0</td>\n",
       "      <td>0</td>\n",
       "      <td>0</td>\n",
       "    </tr>\n",
       "    <tr>\n",
       "      <th>2</th>\n",
       "      <td>0</td>\n",
       "      <td>0</td>\n",
       "      <td>0</td>\n",
       "    </tr>\n",
       "  </tbody>\n",
       "</table>\n",
       "</div>"
      ],
      "text/plain": [
       "   adc.w  adceq  adcge\n",
       "0      0      0      0\n",
       "1      0      0      0\n",
       "2      0      0      0"
      ]
     },
     "execution_count": 164,
     "metadata": {},
     "output_type": "execute_result"
    }
   ],
   "source": [
    "#Part 2b\n",
    "# print temp2\n",
    "payload = {}\n",
    "for i in range(len(df2)):\n",
    "    curr = str(df2[i].strip())\n",
    "    payload[curr] = temp[i]\n",
    "# print payload\n",
    "\n",
    "# print len(data)\n",
    "mergedPD = {}\n",
    "    \n",
    "for p in payload.keys():\n",
    "    tmp = []\n",
    "    for d in data.keys():\n",
    "        if d in payload[p]:\n",
    "            if d not in tmp:\n",
    "                tmp.append(d)\n",
    "    mergedPD[p] = tmp\n",
    "\n",
    "# print mergedPD\n",
    "res = {}\n",
    "for d in data.keys():\n",
    "    tmp2 = []\n",
    "    for p in mergedPD.keys():\n",
    "        if d in mergedPD[p]:\n",
    "            tmp2.append(1)\n",
    "        else:\n",
    "            tmp2.append(0)\n",
    "    res[d] = tmp2\n",
    "    \n",
    "# print len(res)\n",
    "# res\n",
    "# for d in data.keys()\n",
    "# print len(res['bvs'])\n",
    "new_df = pd.DataFrame(res)\n",
    "\n",
    "# print (mergedPD.keys())\n",
    "# new_df2 =  new_df.assign(payload=mergedPD.keys())\n",
    "# new_df.rename(index = mergedPD.keys())\n",
    "# new_df.set_index(mergedPD.keys())\n",
    "# new_df.head()\n"
   ]
  },
  {
   "cell_type": "code",
   "execution_count": 169,
   "metadata": {},
   "outputs": [
    {
     "data": {
      "text/html": [
       "<div>\n",
       "<style scoped>\n",
       "    .dataframe tbody tr th:only-of-type {\n",
       "        vertical-align: middle;\n",
       "    }\n",
       "\n",
       "    .dataframe tbody tr th {\n",
       "        vertical-align: top;\n",
       "    }\n",
       "\n",
       "    .dataframe thead th {\n",
       "        text-align: right;\n",
       "    }\n",
       "</style>\n",
       "<table border=\"1\" class=\"dataframe\">\n",
       "  <thead>\n",
       "    <tr style=\"text-align: right;\">\n",
       "      <th></th>\n",
       "      <th>support</th>\n",
       "      <th>itemsets</th>\n",
       "    </tr>\n",
       "  </thead>\n",
       "  <tbody>\n",
       "    <tr>\n",
       "      <th>0</th>\n",
       "      <td>0.530</td>\n",
       "      <td>(adc)</td>\n",
       "    </tr>\n",
       "    <tr>\n",
       "      <th>1</th>\n",
       "      <td>0.996</td>\n",
       "      <td>(add)</td>\n",
       "    </tr>\n",
       "    <tr>\n",
       "      <th>2</th>\n",
       "      <td>0.968</td>\n",
       "      <td>(adds)</td>\n",
       "    </tr>\n",
       "    <tr>\n",
       "      <th>3</th>\n",
       "      <td>0.836</td>\n",
       "      <td>(adr)</td>\n",
       "    </tr>\n",
       "    <tr>\n",
       "      <th>4</th>\n",
       "      <td>0.716</td>\n",
       "      <td>(and)</td>\n",
       "    </tr>\n",
       "  </tbody>\n",
       "</table>\n",
       "</div>"
      ],
      "text/plain": [
       "   support itemsets\n",
       "0    0.530    (adc)\n",
       "1    0.996    (add)\n",
       "2    0.968   (adds)\n",
       "3    0.836    (adr)\n",
       "4    0.716    (and)"
      ]
     },
     "execution_count": 169,
     "metadata": {},
     "output_type": "execute_result"
    }
   ],
   "source": [
    "#Part 3a\n",
    "\n",
    "# iloc[row slicing, column slicing]\n",
    "temp_df = new_df.iloc[0:, 0:500]\n",
    "# temp_df\n",
    "from mlxtend.frequent_patterns import apriori\n",
    "frequent_itemsets = apriori(temp_df, min_support=0.5, use_colnames=True)\n",
    "frequent_itemsets.head()"
   ]
  },
  {
   "cell_type": "code",
   "execution_count": 170,
   "metadata": {},
   "outputs": [
    {
     "ename": "KeyboardInterrupt",
     "evalue": "",
     "output_type": "error",
     "traceback": [
      "\u001b[0;31m---------------------------------------------------------------------------\u001b[0m",
      "\u001b[0;31mKeyboardInterrupt\u001b[0m                         Traceback (most recent call last)",
      "\u001b[0;32m<ipython-input-170-25549442857a>\u001b[0m in \u001b[0;36m<module>\u001b[0;34m()\u001b[0m\n\u001b[1;32m      1\u001b[0m \u001b[0;31m#Part 3b\u001b[0m\u001b[0;34m\u001b[0m\u001b[0;34m\u001b[0m\u001b[0m\n\u001b[1;32m      2\u001b[0m \u001b[0;32mfrom\u001b[0m \u001b[0mmlxtend\u001b[0m\u001b[0;34m.\u001b[0m\u001b[0mfrequent_patterns\u001b[0m \u001b[0;32mimport\u001b[0m \u001b[0massociation_rules\u001b[0m\u001b[0;34m\u001b[0m\u001b[0m\n\u001b[0;32m----> 3\u001b[0;31m \u001b[0mrules\u001b[0m\u001b[0;34m=\u001b[0m \u001b[0massociation_rules\u001b[0m\u001b[0;34m(\u001b[0m\u001b[0mfrequent_itemsets\u001b[0m\u001b[0;34m,\u001b[0m \u001b[0mmetric\u001b[0m\u001b[0;34m=\u001b[0m\u001b[0;34m'confidence'\u001b[0m\u001b[0;34m,\u001b[0m \u001b[0mmin_threshold\u001b[0m\u001b[0;34m=\u001b[0m\u001b[0;36m0.4\u001b[0m\u001b[0;34m)\u001b[0m\u001b[0;34m\u001b[0m\u001b[0m\n\u001b[0m\u001b[1;32m      4\u001b[0m \u001b[0mrules\u001b[0m\u001b[0;34m\u001b[0m\u001b[0m\n",
      "\u001b[0;32m/Users/anaygupta/anaconda3/envs/python2/lib/python2.7/site-packages/mlxtend/frequent_patterns/association_rules.pyc\u001b[0m in \u001b[0;36massociation_rules\u001b[0;34m(df, metric, min_threshold, support_only)\u001b[0m\n\u001b[1;32m    141\u001b[0m             \u001b[0;31m# of antecedent and consequent\u001b[0m\u001b[0;34m\u001b[0m\u001b[0;34m\u001b[0m\u001b[0m\n\u001b[1;32m    142\u001b[0m             \u001b[0;32mfor\u001b[0m \u001b[0mc\u001b[0m \u001b[0;32min\u001b[0m \u001b[0mcombinations\u001b[0m\u001b[0;34m(\u001b[0m\u001b[0mk\u001b[0m\u001b[0;34m,\u001b[0m \u001b[0mr\u001b[0m\u001b[0;34m=\u001b[0m\u001b[0midx\u001b[0m\u001b[0;34m)\u001b[0m\u001b[0;34m:\u001b[0m\u001b[0;34m\u001b[0m\u001b[0m\n\u001b[0;32m--> 143\u001b[0;31m                 \u001b[0mantecedent\u001b[0m \u001b[0;34m=\u001b[0m \u001b[0mfrozenset\u001b[0m\u001b[0;34m(\u001b[0m\u001b[0mc\u001b[0m\u001b[0;34m)\u001b[0m\u001b[0;34m\u001b[0m\u001b[0m\n\u001b[0m\u001b[1;32m    144\u001b[0m                 \u001b[0mconsequent\u001b[0m \u001b[0;34m=\u001b[0m \u001b[0mk\u001b[0m\u001b[0;34m.\u001b[0m\u001b[0mdifference\u001b[0m\u001b[0;34m(\u001b[0m\u001b[0mantecedent\u001b[0m\u001b[0;34m)\u001b[0m\u001b[0;34m\u001b[0m\u001b[0m\n\u001b[1;32m    145\u001b[0m \u001b[0;34m\u001b[0m\u001b[0m\n",
      "\u001b[0;31mKeyboardInterrupt\u001b[0m: "
     ]
    }
   ],
   "source": [
    "#Part 3b\n",
    "from mlxtend.frequent_patterns import association_rules\n",
    "rules= association_rules(frequent_itemsets, metric='confidence', min_threshold=0.4)\n",
    "rules"
   ]
  },
  {
   "cell_type": "code",
   "execution_count": null,
   "metadata": {},
   "outputs": [],
   "source": [
    "#Part 3c\n",
    "frequent_itemsets = apriori(temp_df, min_support=0.7, use_colnames=True)\n",
    "# frequent_itemsets.head()\n",
    "rules= association_rules(frequent_itemsets, metric='confidence', min_threshold=0.5)\n",
    "rules"
   ]
  }
 ],
 "metadata": {
  "kernelspec": {
   "display_name": "Python 3",
   "language": "python",
   "name": "python3"
  },
  "language_info": {
   "codemirror_mode": {
    "name": "ipython",
    "version": 3
   },
   "file_extension": ".py",
   "mimetype": "text/x-python",
   "name": "python",
   "nbconvert_exporter": "python",
   "pygments_lexer": "ipython3",
   "version": "3.5.6"
  }
 },
 "nbformat": 4,
 "nbformat_minor": 2
}
