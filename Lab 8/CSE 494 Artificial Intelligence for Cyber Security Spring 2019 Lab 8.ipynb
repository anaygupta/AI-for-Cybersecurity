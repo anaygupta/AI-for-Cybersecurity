{
 "cells": [
  {
   "cell_type": "code",
   "execution_count": 1,
   "metadata": {},
   "outputs": [],
   "source": [
    "import arxivscraper as ax\n",
    "import pandas as pd\n",
    "import pickle\n",
    "import itertools\n",
    "import networkx as nx\n",
    "import matplotlib.pyplot as plt\n",
    "import numpy as np"
   ]
  },
  {
   "cell_type": "markdown",
   "metadata": {},
   "source": [
    "### In this lab, we will dealing with the author network data that is publicly avaiable. This lab will be divided into 3 parts:\n",
    "    \n",
    "- Scrape and analyze the dataset from https://arxiv.org – this will be the network data for the lab\n",
    "- Plot the Degree distribution of the authorship network in last 5 years and in last 15 years\n",
    "- Visualize the authorship network\n"
   ]
  },
  {
   "cell_type": "code",
   "execution_count": 39,
   "metadata": {},
   "outputs": [],
   "source": [
    "def scrape_data():\n",
    "    scraper = ax.Scraper(category='stat', date_from='2012-01-01',date_until='2017-01-01', t=10, filters={'categories':['stat.ml', 'stat.co', 'stat.ap', 'stat.th'],\n",
    "                                                                                                       'abstract':['learning']})\n",
    "    output = scraper.scrape()\n",
    "    cols = ('id', 'title', 'categories', 'abstract', 'doi', 'created', 'updated', 'authors')\n",
    "    df = pd.DataFrame(output,columns=cols)\n",
    "\n",
    "    print(len(df))\n",
    "    pickle.dump(df, open('./data_15years_v1.pickle', 'wb'))"
   ]
  },
  {
   "cell_type": "code",
   "execution_count": null,
   "metadata": {
    "scrolled": true
   },
   "outputs": [
    {
     "name": "stdout",
     "output_type": "stream",
     "text": [
      "http://export.arxiv.org/oai2?verb=ListRecords&from=2012-01-01&until=2017-01-01&metadataPrefix=arXiv&set=stat\n",
      "fetching up to  1000 records...\n",
      "fetching up to  2000 records...\n",
      "Got 503. Retrying after 10 seconds.\n",
      "fetching up to  2000 records...\n",
      "fetching up to  3000 records...\n",
      "Got 503. Retrying after 10 seconds.\n",
      "fetching up to  3000 records...\n",
      "fetching up to  4000 records...\n",
      "Got 503. Retrying after 10 seconds.\n",
      "fetching up to  4000 records...\n",
      "fetching up to  5000 records...\n",
      "Got 503. Retrying after 10 seconds.\n",
      "fetching up to  5000 records...\n",
      "fetching up to  6000 records...\n",
      "Got 503. Retrying after 10 seconds.\n",
      "fetching up to  6000 records...\n",
      "fetching up to  7000 records...\n",
      "Got 503. Retrying after 10 seconds.\n",
      "fetching up to  7000 records...\n",
      "fetching up to  8000 records...\n",
      "Got 503. Retrying after 10 seconds.\n",
      "fetching up to  8000 records...\n",
      "fetching up to  9000 records...\n",
      "Got 503. Retrying after 10 seconds.\n",
      "fetching up to  9000 records...\n",
      "fetching up to  10000 records...\n",
      "Got 503. Retrying after 10 seconds.\n",
      "fetching up to  10000 records...\n",
      "fetching up to  11000 records...\n",
      "Got 503. Retrying after 10 seconds.\n",
      "fetching up to  11000 records...\n",
      "fetching up to  12000 records...\n",
      "Got 503. Retrying after 10 seconds.\n",
      "fetching up to  12000 records...\n",
      "fetching up to  13000 records...\n",
      "Got 503. Retrying after 10 seconds.\n",
      "fetching up to  13000 records...\n",
      "fetching up to  14000 records...\n",
      "Got 503. Retrying after 10 seconds.\n",
      "fetching up to  14000 records...\n",
      "fetching up to  15000 records...\n",
      "Got 503. Retrying after 10 seconds.\n",
      "fetching up to  15000 records...\n",
      "fetching up to  16000 records...\n",
      "Got 503. Retrying after 10 seconds.\n",
      "fetching up to  16000 records...\n",
      "fetching up to  17000 records...\n",
      "Got 503. Retrying after 10 seconds.\n"
     ]
    }
   ],
   "source": [
    "scrape_data()"
   ]
  },
  {
   "cell_type": "code",
   "execution_count": 2,
   "metadata": {},
   "outputs": [],
   "source": [
    "data = pd.read_pickle('./data_15years_v1.pickle')"
   ]
  },
  {
   "cell_type": "code",
   "execution_count": 3,
   "metadata": {},
   "outputs": [
    {
     "name": "stdout",
     "output_type": "stream",
     "text": [
      "22575\n"
     ]
    }
   ],
   "source": [
    "authorList = data['authors']\n",
    "print(len(authorList))"
   ]
  },
  {
   "cell_type": "code",
   "execution_count": 4,
   "metadata": {},
   "outputs": [],
   "source": [
    "def createAdjacencyList(authorList):\n",
    "    adjList = {}\n",
    "    globalEdgeList = []\n",
    "    for authors in authorList:\n",
    "        edgesCurr = list(itertools.combinations(authors, 2))\n",
    "        for u, v in edgesCurr:\n",
    "            if u not in adjList:\n",
    "                adjList[u] = []\n",
    "            if v not in adjList:\n",
    "                adjList[v] = []\n",
    "\n",
    "            if (u, v) in globalEdgeList or (v, u) in globalEdgeList:\n",
    "                continue\n",
    "            adjList[u].append(v)\n",
    "            adjList[v].append(u)\n",
    "            globalEdgeList.append((u, v))\n",
    "\n",
    "    return adjList, globalEdgeList"
   ]
  },
  {
   "cell_type": "code",
   "execution_count": 5,
   "metadata": {},
   "outputs": [],
   "source": [
    "import plotly.plotly as py\n"
   ]
  },
  {
   "cell_type": "code",
   "execution_count": 6,
   "metadata": {},
   "outputs": [],
   "source": [
    "def store_edges(globalEdgeList):\n",
    "    dfEdges = pd.DataFrame()\n",
    "    sources = []\n",
    "    targets = []\n",
    "    for u, v in globalEdgeList:\n",
    "        sources.append(u)\n",
    "        targets.append(v)\n",
    "\n",
    "    dfEdges['sources'] = pd.Series(sources)\n",
    "    dfEdges['targets'] = pd.Series(targets)\n",
    "\n",
    "    return dfEdges"
   ]
  },
  {
   "cell_type": "markdown",
   "metadata": {},
   "source": [
    "### Networkx tutorials\n",
    "\n",
    "https://networkx.github.io/documentation/stable/tutorial.html#\n"
   ]
  },
  {
   "cell_type": "code",
   "execution_count": 7,
   "metadata": {},
   "outputs": [],
   "source": [
    "def computeDegree(globalEdgeList):\n",
    "#     print(globalEdgeList)\n",
    "    G = nx.Graph()\n",
    "    G.add_edges_from(globalEdgeList)\n",
    "\n",
    "    degrees = G.degree()\n",
    "    return degrees, G\n"
   ]
  },
  {
   "cell_type": "code",
   "execution_count": 8,
   "metadata": {},
   "outputs": [],
   "source": [
    "def log_logPlot(data, title=''):\n",
    "    value_list = []\n",
    "    \n",
    "    for u, deg in data:\n",
    "        value_list.append(deg)\n",
    "        \n",
    "    sorted_X = sorted(set(value_list))\n",
    "#     print(data)\n",
    "\n",
    "    distributionX = [value_list.count(x) for x in sorted_X]\n",
    "    plt.figure()\n",
    "    plt.loglog(sorted_X, distributionX, 'ro', basex=2, basey=2)\n",
    "    # plt.xlim([])\n",
    "    plt.xlabel('Degree', size=35)\n",
    "    plt.ylabel('Number of nodes', size=30)\n",
    "    plt.xticks(size=30)\n",
    "    plt.yticks(size=30)\n",
    "    plt.title(title, size=25)\n",
    "    plt.show()"
   ]
  },
  {
   "cell_type": "code",
   "execution_count": 16,
   "metadata": {},
   "outputs": [],
   "source": [
    "adjList, globalEdgeList = createAdjacencyList(authorList)\n",
    "# edgesDf = store_edges(globalEdgeList)\n",
    "# edgesDf.to_csv('edges_5_years.csv')"
   ]
  },
  {
   "cell_type": "code",
   "execution_count": 23,
   "metadata": {},
   "outputs": [
    {
     "data": {
      "image/png": "[encoded data removed]",
      "text/plain": [
       "<Figure size 432x288 with 1 Axes>"
      ]
     },
     "metadata": {
      "needs_background": "light"
     },
     "output_type": "display_data"
    }
   ],
   "source": [
    "degreesDict, G = computeDegree(globalEdgeList)\n",
    "log_logPlot(degreesDict, 'Degree Distribution for past 15 years')\n",
    "\n"
   ]
  },
  {
   "cell_type": "code",
   "execution_count": 18,
   "metadata": {},
   "outputs": [
    {
     "name": "stderr",
     "output_type": "stream",
     "text": [
      "/Users/anaygupta/anaconda3/envs/python3/lib/python3.5/site-packages/networkx/drawing/nx_pylab.py:611: MatplotlibDeprecationWarning:\n",
      "\n",
      "isinstance(..., numbers.Number)\n",
      "\n"
     ]
    },
    {
     "data": {
      "image/png": "[encoded data removed]",
      "text/plain": [
       "<Figure size 432x288 with 1 Axes>"
      ]
     },
     "metadata": {},
     "output_type": "display_data"
    }
   ],
   "source": [
    "# print(globalEdgeList[:10])\n",
    "degreesDict, G = computeDegree(globalEdgeList[:500])\n",
    "nx.draw(G)\n",
    "plt.show()\n"
   ]
  },
  {
   "cell_type": "markdown",
   "metadata": {},
   "source": [
    "### Scale free networks\n",
    "\n",
    "https://mathinsight.org/scale_free_network"
   ]
  },
  {
   "cell_type": "markdown",
   "metadata": {},
   "source": [
    "## Exercise:\n",
    "\n",
    "# Repeat the above steps with the 15 years dataset \n",
    "\n",
    "1. Plot the log log plot for this dataset\n",
    "2. List the top 10 degree users and their degree values"
   ]
  },
  {
   "cell_type": "code",
   "execution_count": 19,
   "metadata": {
    "scrolled": true
   },
   "outputs": [],
   "source": [
    "tdict = {}\n",
    "for key,value in sorted(degreesDict):\n",
    "    tdict[key] = value\n",
    "occs = []\n",
    "\n"
   ]
  },
  {
   "cell_type": "raw",
   "metadata": {},
   "source": [
    "for w in sorted(data, key=data.get, reverse=True):\n",
    "#     print w, data[w]"
   ]
  },
  {
   "cell_type": "code",
   "execution_count": 20,
   "metadata": {},
   "outputs": [
    {
     "ename": "NameError",
     "evalue": "name 'zhou' is not defined",
     "output_type": "error",
     "traceback": [
      "\u001b[0;31m---------------------------------------------------------------------------\u001b[0m",
      "\u001b[0;31mNameError\u001b[0m                                 Traceback (most recent call last)",
      "\u001b[0;32m<ipython-input-20-a09f643d57fb>\u001b[0m in \u001b[0;36m<module>\u001b[0;34m()\u001b[0m\n\u001b[0;32m----> 1\u001b[0;31m \u001b[0mzhou\u001b[0m\u001b[0;34m,\u001b[0m \u001b[0mmarwala\u001b[0m\u001b[0;34m,\u001b[0m\u001b[0;34m\u001b[0m\u001b[0m\n\u001b[0m",
      "\u001b[0;31mNameError\u001b[0m: name 'zhou' is not defined"
     ]
    }
   ],
   "source": [
    "zhou, marwala, "
   ]
  },
  {
   "cell_type": "code",
   "execution_count": 22,
   "metadata": {},
   "outputs": [
    {
     "name": "stdout",
     "output_type": "stream",
     "text": [
      "zhou 14\n",
      "chen 11\n",
      "wu 8\n",
      "marwala 7\n",
      "wellner 7\n",
      "wang 7\n",
      "villa 7\n",
      "cottrell 6\n",
      "olmedo 6\n",
      "ferré 6\n"
     ]
    }
   ],
   "source": [
    "for w in sorted(tdict, key=tdict.get, reverse=True)[:10]:\n",
    "    print(w, tdict[w])"
   ]
  },
  {
   "cell_type": "code",
   "execution_count": null,
   "metadata": {},
   "outputs": [],
   "source": []
  }
 ],
 "metadata": {
  "kernelspec": {
   "display_name": "Python 3",
   "language": "python",
   "name": "python3"
  },
  "language_info": {
   "codemirror_mode": {
    "name": "ipython",
    "version": 3
   },
   "file_extension": ".py",
   "mimetype": "text/x-python",
   "name": "python",
   "nbconvert_exporter": "python",
   "pygments_lexer": "ipython3",
   "version": "3.5.6"
  }
 },
 "nbformat": 4,
 "nbformat_minor": 2
}
