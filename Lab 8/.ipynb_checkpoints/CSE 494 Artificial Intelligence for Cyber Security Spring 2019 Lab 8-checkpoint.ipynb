{
 "cells": [
  {
   "cell_type": "code",
   "execution_count": 1,
   "metadata": {},
   "outputs": [],
   "source": [
    "import arxivscraper as ax\n",
    "import pandas as pd\n",
    "import pickle\n",
    "import itertools\n",
    "import networkx as nx\n",
    "import matplotlib.pyplot as plt\n",
    "import numpy as np"
   ]
  },
  {
   "cell_type": "markdown",
   "metadata": {},
   "source": [
    "### In this lab, we will dealing with the author network data that is publicly avaiable. This lab will be divided into 3 parts:\n",
    "    \n",
    "- Scrape and analyze the dataset from https://arxiv.org – this will be the network data for the lab\n",
    "- Plot the Degree distribution of the authorship network in last 5 years and in last 15 years\n",
    "- Visualize the authorship network\n"
   ]
  },
  {
   "cell_type": "code",
   "execution_count": 39,
   "metadata": {},
   "outputs": [],
   "source": [
    "def scrape_data():\n",
    "    scraper = ax.Scraper(category='stat', date_from='2012-01-01',date_until='2017-01-01', t=10, filters={'categories':['stat.ml', 'stat.co', 'stat.ap', 'stat.th'],\n",
    "                                                                                                       'abstract':['learning']})\n",
    "    output = scraper.scrape()\n",
    "    cols = ('id', 'title', 'categories', 'abstract', 'doi', 'created', 'updated', 'authors')\n",
    "    df = pd.DataFrame(output,columns=cols)\n",
    "\n",
    "    print(len(df))\n",
    "    pickle.dump(df, open('./data_15years_v1.pickle', 'wb'))"
   ]
  },
  {
   "cell_type": "code",
   "execution_count": null,
   "metadata": {
    "scrolled": true
   },
   "outputs": [
    {
     "name": "stdout",
     "output_type": "stream",
     "text": [
      "http://export.arxiv.org/oai2?verb=ListRecords&from=2012-01-01&until=2017-01-01&metadataPrefix=arXiv&set=stat\n",
      "fetching up to  1000 records...\n",
      "fetching up to  2000 records...\n",
      "Got 503. Retrying after 10 seconds.\n",
      "fetching up to  2000 records...\n",
      "fetching up to  3000 records...\n",
      "Got 503. Retrying after 10 seconds.\n",
      "fetching up to  3000 records...\n",
      "fetching up to  4000 records...\n",
      "Got 503. Retrying after 10 seconds.\n",
      "fetching up to  4000 records...\n",
      "fetching up to  5000 records...\n",
      "Got 503. Retrying after 10 seconds.\n",
      "fetching up to  5000 records...\n",
      "fetching up to  6000 records...\n",
      "Got 503. Retrying after 10 seconds.\n",
      "fetching up to  6000 records...\n",
      "fetching up to  7000 records...\n",
      "Got 503. Retrying after 10 seconds.\n",
      "fetching up to  7000 records...\n",
      "fetching up to  8000 records...\n",
      "Got 503. Retrying after 10 seconds.\n",
      "fetching up to  8000 records...\n",
      "fetching up to  9000 records...\n",
      "Got 503. Retrying after 10 seconds.\n",
      "fetching up to  9000 records...\n",
      "fetching up to  10000 records...\n",
      "Got 503. Retrying after 10 seconds.\n",
      "fetching up to  10000 records...\n",
      "fetching up to  11000 records...\n",
      "Got 503. Retrying after 10 seconds.\n",
      "fetching up to  11000 records...\n",
      "fetching up to  12000 records...\n",
      "Got 503. Retrying after 10 seconds.\n",
      "fetching up to  12000 records...\n",
      "fetching up to  13000 records...\n",
      "Got 503. Retrying after 10 seconds.\n",
      "fetching up to  13000 records...\n",
      "fetching up to  14000 records...\n",
      "Got 503. Retrying after 10 seconds.\n",
      "fetching up to  14000 records...\n",
      "fetching up to  15000 records...\n",
      "Got 503. Retrying after 10 seconds.\n",
      "fetching up to  15000 records...\n",
      "fetching up to  16000 records...\n",
      "Got 503. Retrying after 10 seconds.\n",
      "fetching up to  16000 records...\n",
      "fetching up to  17000 records...\n",
      "Got 503. Retrying after 10 seconds.\n"
     ]
    }
   ],
   "source": [
    "scrape_data()"
   ]
  },
  {
   "cell_type": "code",
   "execution_count": 2,
   "metadata": {},
   "outputs": [],
   "source": [
    "data = pd.read_pickle('./data_15years_v1.pickle')"
   ]
  },
  {
   "cell_type": "code",
   "execution_count": 3,
   "metadata": {},
   "outputs": [
    {
     "name": "stdout",
     "output_type": "stream",
     "text": [
      "22575\n"
     ]
    }
   ],
   "source": [
    "authorList = data['authors']\n",
    "print(len(authorList))"
   ]
  },
  {
   "cell_type": "code",
   "execution_count": 4,
   "metadata": {},
   "outputs": [],
   "source": [
    "def createAdjacencyList(authorList):\n",
    "    adjList = {}\n",
    "    globalEdgeList = []\n",
    "    for authors in authorList:\n",
    "        edgesCurr = list(itertools.combinations(authors, 2))\n",
    "        for u, v in edgesCurr:\n",
    "            if u not in adjList:\n",
    "                adjList[u] = []\n",
    "            if v not in adjList:\n",
    "                adjList[v] = []\n",
    "\n",
    "            if (u, v) in globalEdgeList or (v, u) in globalEdgeList:\n",
    "                continue\n",
    "            adjList[u].append(v)\n",
    "            adjList[v].append(u)\n",
    "            globalEdgeList.append((u, v))\n",
    "\n",
    "    return adjList, globalEdgeList"
   ]
  },
  {
   "cell_type": "code",
   "execution_count": 5,
   "metadata": {},
   "outputs": [],
   "source": [
    "import plotly.plotly as py\n"
   ]
  },
  {
   "cell_type": "code",
   "execution_count": 6,
   "metadata": {},
   "outputs": [],
   "source": [
    "def store_edges(globalEdgeList):\n",
    "    dfEdges = pd.DataFrame()\n",
    "    sources = []\n",
    "    targets = []\n",
    "    for u, v in globalEdgeList:\n",
    "        sources.append(u)\n",
    "        targets.append(v)\n",
    "\n",
    "    dfEdges['sources'] = pd.Series(sources)\n",
    "    dfEdges['targets'] = pd.Series(targets)\n",
    "\n",
    "    return dfEdges"
   ]
  },
  {
   "cell_type": "markdown",
   "metadata": {},
   "source": [
    "### Networkx tutorials\n",
    "\n",
    "https://networkx.github.io/documentation/stable/tutorial.html#\n"
   ]
  },
  {
   "cell_type": "code",
   "execution_count": 7,
   "metadata": {},
   "outputs": [],
   "source": [
    "def computeDegree(globalEdgeList):\n",
    "#     print(globalEdgeList)\n",
    "    G = nx.Graph()\n",
    "    G.add_edges_from(globalEdgeList)\n",
    "\n",
    "    degrees = G.degree()\n",
    "    return degrees, G\n"
   ]
  },
  {
   "cell_type": "code",
   "execution_count": 8,
   "metadata": {},
   "outputs": [],
   "source": [
    "def log_logPlot(data, title=''):\n",
    "    value_list = []\n",
    "    \n",
    "    for u, deg in data:\n",
    "        value_list.append(deg)\n",
    "        \n",
    "    sorted_X = sorted(set(value_list))\n",
    "#     print(data)\n",
    "\n",
    "    distributionX = [value_list.count(x) for x in sorted_X]\n",
    "    plt.figure()\n",
    "    plt.loglog(sorted_X, distributionX, 'ro', basex=2, basey=2)\n",
    "    # plt.xlim([])\n",
    "    plt.xlabel('Degree', size=35)\n",
    "    plt.ylabel('Number of nodes', size=30)\n",
    "    plt.xticks(size=30)\n",
    "    plt.yticks(size=30)\n",
    "    plt.title(title, size=25)\n",
    "    plt.show()"
   ]
  },
  {
   "cell_type": "code",
   "execution_count": null,
   "metadata": {},
   "outputs": [],
   "source": [
    "adjList, globalEdgeList = createAdjacencyList(authorList)\n",
    "# edgesDf = store_edges(globalEdgeList)\n",
    "# edgesDf.to_csv('edges_5_years.csv')"
   ]
  },
  {
   "cell_type": "code",
   "execution_count": null,
   "metadata": {},
   "outputs": [],
   "source": [
    "degreesDict, G = computeDegree(globalEdgeList)\n",
    "log_logPlot(degreesDict, 'Degree Distribution for past 5 years')\n",
    "\n"
   ]
  },
  {
   "cell_type": "code",
   "execution_count": 17,
   "metadata": {},
   "outputs": [
    {
     "name": "stderr",
     "output_type": "stream",
     "text": [
      "/Users/anaygupta/anaconda3/envs/python3/lib/python3.5/site-packages/networkx/drawing/nx_pylab.py:611: MatplotlibDeprecationWarning:\n",
      "\n",
      "isinstance(..., numbers.Number)\n",
      "\n"
     ]
    },
    {
     "data": {
      "image/png": "[encoded data removed]",
      "text/plain": [
       "<Figure size 432x288 with 1 Axes>"
      ]
     },
     "metadata": {},
     "output_type": "display_data"
    }
   ],
   "source": [
    "# print(globalEdgeList[:10])\n",
    "degreesDict, G = computeDegree(globalEdgeList[:500])\n",
    "nx.draw(G)\n",
    "plt.show()\n"
   ]
  },
  {
   "cell_type": "markdown",
   "metadata": {},
   "source": [
    "### Scale free networks\n",
    "\n",
    "https://mathinsight.org/scale_free_network"
   ]
  },
  {
   "cell_type": "markdown",
   "metadata": {},
   "source": [
    "## Exercise:\n",
    "\n",
    "# Repeat the above steps with the 15 years dataset \n",
    "\n",
    "1. Plot the log log plot for this dataset\n",
    "2. List the top 10 degree users and their degree values"
   ]
  },
  {
   "cell_type": "code",
   "execution_count": 63,
   "metadata": {
    "scrolled": true
   },
   "outputs": [
    {
     "name": "stdout",
     "output_type": "stream",
     "text": [
      "{'quessy': 2, 'rossi': 1, 'kleijn': 2, 'cator': 4, 'willer': 3, 'hall': 2, 'low': 1, 'marwala': 7, 'caticha': 2, 'freitas': 2, 'neugebauer': 3, 'lagomarsino': 2, 'haubold': 2, 'cialenco': 1, 'lototsky': 1, 'rhodes': 2, 'zhu': 2, 'federico': 1, 'allassonnière': 2, 'cai': 2, 'mendes': 2, 'horowitz': 1, 'tressou': 1, 'mandrá': 2, 'fay': 2, 'lafferty': 3, 'lijoi': 2, 'eyheramendy': 1, 'leeb': 1, 'gibilisco': 2, 'huang': 1, 'ou': 1, 'zelikov': 1, 'commenges': 4, 'rufibach': 4, 'kong': 2, 'soto': 2, 'wen': 4, 'karlsen': 2, 'lindsay': 1, 'belloni': 1, 'marin': 3, 'galichon': 2, 'joffe': 3, 'mccoy': 2, 'wu': 8, 'shalizi': 2, 'barabasi': 2, 'geyer': 1, 'ellison': 2, 'sandhya': 1, 'guilloux': 2, 'hush': 2, 'yakovlev': 3, 'van der laan': 3, 'mathai': 2, 'wasserman': 5, 'tsybakov': 3, 'anghel': 1, 'basrak': 1, 'west': 2, 'glueck': 4, 'madigan': 1, 'blei': 4, 'buot': 2, 'villa': 7, 'imparato': 2, 'hanzon': 1, 'taylor': 3, 'jensen': 1, 'christmann': 1, 'singh': 2, 'zhang': 5, 'roquain': 1, 'kuhn': 2, 'audibert': 1, 'martin': 1, 'yatchew': 1, 'naus': 1, 'anaya-izquierdo': 1, 'stephens': 3, 'isola': 2, 'clauset': 2, 'sackrowitz': 1, 'montana': 1, 'pitman': 2, 'konakov': 1, 'petz': 1, 'greenhill': 1, 'reiss': 2, 'clémençon': 2, 'engelberg': 1, 'puig': 1, 'hutter': 3, 'tjøstheim': 5, 'sarda': 6, 'toronjadze': 2, 'huo': 2, 'mykland': 1, 'höfling': 3, 'dayanik': 2, 'roeder': 1, 'bunea': 2, 'bassetti': 2, 'olhede': 3, 'hastie': 5, 'parker': 3, 'lundervold': 3, 'piatti': 3, 'steinwart': 4, 'mandel': 5, 'polonik': 1, 'consonni': 2, 'ohsugi': 3, 'kasahara': 2, 'qi': 2, 'fuentes': 1, 'valero': 1, 'ferraty': 6, 'samworth': 2, 'ibbou': 2, 'blanchard': 2, 'jacqmin-gadda': 4, 'beezley': 1, 'flesia': 1, 'xu': 1, 'mukherjee': 1, 'jongbloed': 4, 'liu': 6, 'robinson': 2, 'he': 1, 'allais': 1, 'bercu': 1, 'mancini': 1, 'berg': 3, 'xie': 3, 'betterton': 2, 'chêne': 4, 'chien': 4, 'hibi': 3, 'giné': 1, 'richards': 2, 'wellner': 7, 'sezer': 2, 'vicsek': 2, 'rynkiewicz': 3, 'tager': 3, 'debbarh': 1, 'hobert': 2, 'cuesta-albertos': 1, 'tang': 1, 'andrews': 2, 'raftery': 2, 'fuh': 1, 'shlomo': 1, 'mitran': 3, 'recht': 2, 'houdré': 1, 'wegkamp': 2, 'edelman': 1, 'yu': 1, 'hsieh': 3, 'segers': 2, 'paindaveine': 2, 'loris': 4, 'lao': 1, 'xuelei': 2, 'kenah': 2, 'xia': 3, 'fabrizio': 1, 'rinott': 1, 'moulines': 2, 'gramacy': 2, 'mccullagh': 2, 'aravena': 2, 'tyler': 2, 'hosten': 3, 'carruth': 1, 'mohamed': 2, 'nelwamondo': 2, 'chernozhukov': 3, 'li': 3, 'rosset': 1, 'macrina': 2, 'daubechies': 4, 'rozenholc': 2, 'mao': 1, 'giannone': 4, 'massam': 2, 'walther': 4, 'pronzato': 1, 'nordman': 1, 'genest': 3, 'hong': 2, 'lanckriet': 1, 'olbermann': 1, 'crutchfield': 2, 'newman': 2, 'lopes': 3, 'ghosal': 1, 'sriperumbudur': 1, 'artzrouni': 1, 'de gregorio': 1, 'aguglia': 1, 'parrilo': 2, 'walker': 2, 'letrémy': 4, 'mason': 1, 'touati': 1, 'winkel': 2, 'dezert': 4, 'wang': 7, 'trouvé': 2, 'inoue': 2, 'davis': 2, 'dahlhaus': 2, 'iacus': 1, 'lagazio': 2, 'schuhmacher': 1, 'gobbi': 1, 'smarandache': 4, 'mateu': 2, 'alkema': 2, 'myklebust': 2, 'wong': 1, 'van der vaart': 2, 'meyer': 2, 'vardi': 2, 'clark': 2, 'tibshirani': 5, 'deo': 3, 'paegelow': 6, 'schick': 1, 'frieze': 3, 'lockwood': 1, 'chambeu': 1, 'pourahmadi': 2, 'ssali': 1, 'shao': 1, 'sharia': 2, 'oja': 2, 'rémillard': 2, 'tettey': 2, 'sibisi': 2, 'sottinen': 1, 'picard': 5, 'yehudayoff': 1, 'lahiri': 2, 'gaubert': 3, 'tarozzi': 2, 'robert': 3, 'lee': 2, 'fang': 2, 'dereudre': 1, 'douc': 5, 'kerkyacharian': 5, 'lazrieva': 2, 'fan': 2, 'petrushev': 3, 'aoki': 3, 'fraiman': 3, 'breidt': 2, 'goldenhsluger': 1, 'blum': 3, 'goldschmidt-clermont': 2, 'hallin': 2, 'müller': 1, 'celeste': 4, 'hughston': 2, 'palla': 2, 'lember': 1, 'koloydenko': 1, 'cuevas': 2, 'lepski': 1, 'yang': 3, 'dette': 1, 'duembgen': 3, 'kamla': 1, 'baldi': 3, 'mayer': 1, 'cao': 1, 'massart': 1, 'hung': 1, 'seo': 2, 'drton': 1, 'satheesh': 1, 'boon': 4, 'mdlazi': 2, 'coja-oghlan': 3, 'leport': 4, 'tarokh': 3, 'hu': 3, 'cook': 1, 'viallon': 1, 'de mol': 4, 'sheena': 1, 'tadmor': 1, 'dambreville': 4, 'gu': 2, 'givon': 2, 'bernacchia': 1, 'politis': 2, 'lopuhaä': 4, 'richardson': 1, 'vayatis': 2, 'mendelson': 1, 'giffin': 1, 'kirch': 1, 'osborne': 1, 'muller': 4, 'hillebrand': 1, 'särkkä': 1, 'halloran': 2, 'mccaffrey': 1, 'soulier': 5, 'yao': 3, 'ferré': 6, 'neumann': 1, 'thiébaut': 4, 'scherrer': 1, 'mckay': 1, 'lu': 3, 'lugosi': 2, 'longini': 2, 'hettmansperger': 2, 'takemura': 4, 'robins': 2, 'balabdaoui': 2, 'vovk': 1, 'weare': 2, 'zaffalon': 3, 'mammen': 2, 'giuzzi': 1, 'ostrovsky': 1, 'aston': 2, 'cohen': 2, 'oyang': 4, 'cottrell': 6, 'karimpour-fard': 4, 'cheng': 2, 'peng': 3, 'lladser': 2, 'sung': 1, 'ahlquist': 4, 'king': 2, 'huesler': 2, 'newton': 4, 'guillin': 3, 'shen': 1, 'porcu': 2, 'nieto-reyes': 1, 'lipsitch': 2, 'grift': 1, 'huskova': 1, 'xin': 2, 'chang': 5, 'araneda': 2, 'wefelmeyer': 1, 'ni': 3, 'brodie': 4, 'zuo': 1, 'kraaikamp': 4, 'morgan': 1, 'la rocca': 1, 'reich': 1, 'hunter': 6, 'sullivant': 1, 'banerjee': 1, 'ane': 2, 'pagès': 2, 'trojani': 3, 'hendriks': 1, 'naveau': 1, 'shafer': 1, 'le': 2, 'lavancier': 1, 'maillot': 2, 'hiai': 1, 'glazko': 3, 'triantafyllopoulos': 1, 'linton': 2, 'qiu': 3, 'bliss': 3, 'tan': 2, 'hsiung': 4, 'poetscher': 1, 'bickel': 4, 'fort': 2, 'genon-catalot': 2, 'woodroofe': 2, 'fienberg': 5, 'lin': 2, 'gloter': 1, 'mckeague': 1, 'knight': 2, 'olmedo': 6, 'levit': 1, 'ying': 2, 'kirchner': 4, 'butler': 1, 'prünster': 2, 'kurtzmann': 1, 'scovel': 2, 'quintana': 4, 'still': 2, 'letac': 1, 'nadler': 2, 'rodríguez-casal': 2, 'comte': 2, 'stufken': 1, 'yip': 2, 'zidek': 2, 'rice': 2, 'landsman': 1, 'berrendero': 2, 'mcelroy': 1, 'marriott': 1, 'cornez': 6, 'xing': 3, 'pal': 2, 'alamino': 1, 'bartlett': 1, 'stinis': 2, 'poor': 2, 'harman': 1, 'fernandez-val': 2, 'gradwohl': 1, 'zhou': 14, 'brody': 2, 'fazel': 2, 'friedman': 3, 'dou': 2, 'braess': 1, 'johannes': 1, 'sengupta': 4, 'reck': 1, 'saxena': 2, 'hurvich': 4, 'strawderman': 4, 'gobet': 1, 'gijbels': 2, 'airoldi': 3, 'gordon': 3, 'cardoso': 2, 'rao': 3, 'chen': 11, 'marinucci': 3, 'allman': 2}\n"
     ]
    }
   ],
   "source": [
    "tdict = {}\n",
    "for key,value in sorted(degreesDict):\n",
    "    tdict[key] = value\n",
    "occs = []\n",
    "\n"
   ]
  },
  {
   "cell_type": "raw",
   "metadata": {},
   "source": [
    "for w in sorted(data, key=data.get, reverse=True):\n",
    "#     print w, data[w]"
   ]
  },
  {
   "cell_type": "code",
   "execution_count": null,
   "metadata": {},
   "outputs": [],
   "source": [
    "zhou, marwala, "
   ]
  }
 ],
 "metadata": {
  "kernelspec": {
   "display_name": "Python 3",
   "language": "python",
   "name": "python3"
  },
  "language_info": {
   "codemirror_mode": {
    "name": "ipython",
    "version": 3
   },
   "file_extension": ".py",
   "mimetype": "text/x-python",
   "name": "python",
   "nbconvert_exporter": "python",
   "pygments_lexer": "ipython3",
   "version": "3.5.6"
  }
 },
 "nbformat": 4,
 "nbformat_minor": 2
}
