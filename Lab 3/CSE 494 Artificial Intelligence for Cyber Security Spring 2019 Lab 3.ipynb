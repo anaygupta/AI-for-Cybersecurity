{
 "cells": [
  {
   "cell_type": "code",
   "execution_count": 5,
   "metadata": {},
   "outputs": [],
   "source": [
    "import pandas as pd\n",
    "import numpy as np \n",
    "import matplotlib.pyplot as plt"
   ]
  },
  {
   "cell_type": "markdown",
   "metadata": {},
   "source": [
    "### In this lab, we will dealing with the loan data from LendingClub platform that is publicly avaiable. This lab will be divided into 3 parts:\n",
    "\n",
    "- The first part of the demo would focus on Decision Trees and Random Forests\n",
    "- The second part would focus on cross validation and evaluation techniques\n",
    "- The last part would focus on a parametric model Logistic Regression"
   ]
  },
  {
   "cell_type": "markdown",
   "metadata": {},
   "source": [
    "## Decison Trees Demo\n",
    "\n",
    "The emphasis will be on the basics and understanding the resulting decision tree. I will cover:\n",
    "\n",
    " - Importing the data using pandas as before,\n",
    " - Using pandas to prep the data for the scikit-leaarn decision tree code,\n",
    " - Drawing the tree, and\n",
    " - Evaluation"
   ]
  },
  {
   "cell_type": "code",
   "execution_count": 6,
   "metadata": {},
   "outputs": [
    {
     "data": {
      "text/html": [
       "<div>\n",
       "<style scoped>\n",
       "    .dataframe tbody tr th:only-of-type {\n",
       "        vertical-align: middle;\n",
       "    }\n",
       "\n",
       "    .dataframe tbody tr th {\n",
       "        vertical-align: top;\n",
       "    }\n",
       "\n",
       "    .dataframe thead th {\n",
       "        text-align: right;\n",
       "    }\n",
       "</style>\n",
       "<table border=\"1\" class=\"dataframe\">\n",
       "  <thead>\n",
       "    <tr style=\"text-align: right;\">\n",
       "      <th></th>\n",
       "      <th>Unnamed: 0</th>\n",
       "      <th>credit.policy</th>\n",
       "      <th>purpose</th>\n",
       "      <th>int.rate</th>\n",
       "      <th>installment</th>\n",
       "      <th>log.annual.inc</th>\n",
       "      <th>dti</th>\n",
       "      <th>fico</th>\n",
       "      <th>days.with.cr.line</th>\n",
       "      <th>revol.bal</th>\n",
       "      <th>revol.util</th>\n",
       "      <th>inq.last.6mths</th>\n",
       "      <th>delinq.2yrs</th>\n",
       "      <th>pub.rec</th>\n",
       "      <th>not.fully.paid</th>\n",
       "    </tr>\n",
       "  </thead>\n",
       "  <tbody>\n",
       "    <tr>\n",
       "      <th>0</th>\n",
       "      <td>0</td>\n",
       "      <td>1</td>\n",
       "      <td>debt_consolidation</td>\n",
       "      <td>0.1189</td>\n",
       "      <td>829.10</td>\n",
       "      <td>11.350407</td>\n",
       "      <td>19.48</td>\n",
       "      <td>737</td>\n",
       "      <td>5639.958333</td>\n",
       "      <td>28854</td>\n",
       "      <td>52.1</td>\n",
       "      <td>0</td>\n",
       "      <td>0</td>\n",
       "      <td>0</td>\n",
       "      <td>0</td>\n",
       "    </tr>\n",
       "    <tr>\n",
       "      <th>1</th>\n",
       "      <td>1</td>\n",
       "      <td>1</td>\n",
       "      <td>credit_card</td>\n",
       "      <td>0.1071</td>\n",
       "      <td>228.22</td>\n",
       "      <td>11.082143</td>\n",
       "      <td>14.29</td>\n",
       "      <td>707</td>\n",
       "      <td>2760.000000</td>\n",
       "      <td>33623</td>\n",
       "      <td>76.7</td>\n",
       "      <td>0</td>\n",
       "      <td>0</td>\n",
       "      <td>0</td>\n",
       "      <td>0</td>\n",
       "    </tr>\n",
       "    <tr>\n",
       "      <th>2</th>\n",
       "      <td>2</td>\n",
       "      <td>1</td>\n",
       "      <td>debt_consolidation</td>\n",
       "      <td>0.1357</td>\n",
       "      <td>366.86</td>\n",
       "      <td>10.373491</td>\n",
       "      <td>11.63</td>\n",
       "      <td>682</td>\n",
       "      <td>4710.000000</td>\n",
       "      <td>3511</td>\n",
       "      <td>25.6</td>\n",
       "      <td>1</td>\n",
       "      <td>0</td>\n",
       "      <td>0</td>\n",
       "      <td>0</td>\n",
       "    </tr>\n",
       "    <tr>\n",
       "      <th>3</th>\n",
       "      <td>3</td>\n",
       "      <td>1</td>\n",
       "      <td>debt_consolidation</td>\n",
       "      <td>0.1008</td>\n",
       "      <td>162.34</td>\n",
       "      <td>11.350407</td>\n",
       "      <td>8.10</td>\n",
       "      <td>712</td>\n",
       "      <td>2699.958333</td>\n",
       "      <td>33667</td>\n",
       "      <td>73.2</td>\n",
       "      <td>1</td>\n",
       "      <td>0</td>\n",
       "      <td>0</td>\n",
       "      <td>0</td>\n",
       "    </tr>\n",
       "    <tr>\n",
       "      <th>4</th>\n",
       "      <td>4</td>\n",
       "      <td>1</td>\n",
       "      <td>credit_card</td>\n",
       "      <td>0.1426</td>\n",
       "      <td>102.92</td>\n",
       "      <td>11.299732</td>\n",
       "      <td>14.97</td>\n",
       "      <td>667</td>\n",
       "      <td>4066.000000</td>\n",
       "      <td>4740</td>\n",
       "      <td>39.5</td>\n",
       "      <td>0</td>\n",
       "      <td>1</td>\n",
       "      <td>0</td>\n",
       "      <td>0</td>\n",
       "    </tr>\n",
       "  </tbody>\n",
       "</table>\n",
       "</div>"
      ],
      "text/plain": [
       "   Unnamed: 0  credit.policy             purpose  int.rate  installment  \\\n",
       "0           0              1  debt_consolidation    0.1189       829.10   \n",
       "1           1              1         credit_card    0.1071       228.22   \n",
       "2           2              1  debt_consolidation    0.1357       366.86   \n",
       "3           3              1  debt_consolidation    0.1008       162.34   \n",
       "4           4              1         credit_card    0.1426       102.92   \n",
       "\n",
       "   log.annual.inc    dti  fico  days.with.cr.line  revol.bal  revol.util  \\\n",
       "0       11.350407  19.48   737        5639.958333      28854        52.1   \n",
       "1       11.082143  14.29   707        2760.000000      33623        76.7   \n",
       "2       10.373491  11.63   682        4710.000000       3511        25.6   \n",
       "3       11.350407   8.10   712        2699.958333      33667        73.2   \n",
       "4       11.299732  14.97   667        4066.000000       4740        39.5   \n",
       "\n",
       "   inq.last.6mths  delinq.2yrs  pub.rec  not.fully.paid  \n",
       "0               0            0        0               0  \n",
       "1               0            0        0               0  \n",
       "2               1            0        0               0  \n",
       "3               1            0        0               0  \n",
       "4               0            1        0               0  "
      ]
     },
     "execution_count": 6,
     "metadata": {},
     "output_type": "execute_result"
    }
   ],
   "source": [
    "df = pd.read_csv('/Volumes/GoogleDrive/My Drive/Spring 19/CSE 494 Labs/Lab 3/loan_data_sample.csv')\n",
    "# df.to_csv('../../data/lab3/loan_data_sample.csv')\n",
    "df.head()"
   ]
  },
  {
   "cell_type": "markdown",
   "metadata": {},
   "source": [
    "#### Here are what the columns in the data set represent:\n",
    "\n",
    "- credit.policy: 1 if the customer meets the credit underwriting criteria of LendingClub.com, and 0 otherwise.\n",
    "purpose: The purpose of the loan (takes values \"credit_card\", \"debt_consolidation\", \"educational\", \"major_purchase\", \"small_business\", and \"all_other\").\n",
    "- int.rate: The interest rate of the loan, as a proportion (a rate of 11% would be stored as 0.11). Borrowers judged by LendingClub.com to be more risky are assigned higher interest rates.\n",
    "- installment: The monthly installments owed by the borrower if the loan is funded.\n",
    "- log.annual.inc: The natural log of the self-reported annual income of the borrower.\n",
    "- dti: The debt-to-income ratio of the borrower (amount of debt divided by annual income).\n",
    "- fico: The FICO credit score of the borrower.\n",
    "- days.with.cr.line: The number of days the borrower has had a credit line.\n",
    "- revol.bal: The borrower's revolving balance (amount unpaid at the end of the credit card billing cycle).\n",
    "- revol.util: The borrower's revolving line utilization rate (the amount of the credit line used relative to total credit available).\n",
    "- inq.last.6mths: The borrower's number of inquiries by creditors in the last 6 months.\n",
    "- delinq.2yrs: The number of times the borrower had been 30+ days past due on a payment in the past 2 years.\n",
    "- pub.rec: The borrower's number of derogatory public records (bankruptcy filings, tax liens, or judgments).\n",
    "- not.fully.paid: The quantity of interest for classification - whether the borrower paid back the money in full or not"
   ]
  },
  {
   "cell_type": "code",
   "execution_count": 7,
   "metadata": {},
   "outputs": [
    {
     "data": {
      "text/plain": [
       "array([[<matplotlib.axes._subplots.AxesSubplot object at 0x1a219ab050>]],\n",
       "      dtype=object)"
      ]
     },
     "execution_count": 7,
     "metadata": {},
     "output_type": "execute_result"
    },
    {
     "data": {
      "image/png": "[encoded data removed]",
      "text/plain": [
       "<Figure size 432x288 with 1 Axes>"
      ]
     },
     "metadata": {
      "needs_background": "light"
     },
     "output_type": "display_data"
    }
   ],
   "source": [
    "df.hist(column='not.fully.paid')"
   ]
  },
  {
   "cell_type": "code",
   "execution_count": 8,
   "metadata": {},
   "outputs": [],
   "source": [
    "columns_to_select = ['purpose', 'installment', 'log.annual.inc', 'dti', 'days.with.cr.line', 'not.fully.paid']"
   ]
  },
  {
   "cell_type": "code",
   "execution_count": 9,
   "metadata": {},
   "outputs": [
    {
     "data": {
      "text/html": [
       "<div>\n",
       "<style scoped>\n",
       "    .dataframe tbody tr th:only-of-type {\n",
       "        vertical-align: middle;\n",
       "    }\n",
       "\n",
       "    .dataframe tbody tr th {\n",
       "        vertical-align: top;\n",
       "    }\n",
       "\n",
       "    .dataframe thead th {\n",
       "        text-align: right;\n",
       "    }\n",
       "</style>\n",
       "<table border=\"1\" class=\"dataframe\">\n",
       "  <thead>\n",
       "    <tr style=\"text-align: right;\">\n",
       "      <th></th>\n",
       "      <th>purpose</th>\n",
       "      <th>installment</th>\n",
       "      <th>log.annual.inc</th>\n",
       "      <th>dti</th>\n",
       "      <th>days.with.cr.line</th>\n",
       "      <th>not.fully.paid</th>\n",
       "    </tr>\n",
       "  </thead>\n",
       "  <tbody>\n",
       "    <tr>\n",
       "      <th>0</th>\n",
       "      <td>debt_consolidation</td>\n",
       "      <td>829.10</td>\n",
       "      <td>11.350407</td>\n",
       "      <td>19.48</td>\n",
       "      <td>5639.958333</td>\n",
       "      <td>0</td>\n",
       "    </tr>\n",
       "    <tr>\n",
       "      <th>1</th>\n",
       "      <td>credit_card</td>\n",
       "      <td>228.22</td>\n",
       "      <td>11.082143</td>\n",
       "      <td>14.29</td>\n",
       "      <td>2760.000000</td>\n",
       "      <td>0</td>\n",
       "    </tr>\n",
       "    <tr>\n",
       "      <th>2</th>\n",
       "      <td>debt_consolidation</td>\n",
       "      <td>366.86</td>\n",
       "      <td>10.373491</td>\n",
       "      <td>11.63</td>\n",
       "      <td>4710.000000</td>\n",
       "      <td>0</td>\n",
       "    </tr>\n",
       "    <tr>\n",
       "      <th>3</th>\n",
       "      <td>debt_consolidation</td>\n",
       "      <td>162.34</td>\n",
       "      <td>11.350407</td>\n",
       "      <td>8.10</td>\n",
       "      <td>2699.958333</td>\n",
       "      <td>0</td>\n",
       "    </tr>\n",
       "    <tr>\n",
       "      <th>4</th>\n",
       "      <td>credit_card</td>\n",
       "      <td>102.92</td>\n",
       "      <td>11.299732</td>\n",
       "      <td>14.97</td>\n",
       "      <td>4066.000000</td>\n",
       "      <td>0</td>\n",
       "    </tr>\n",
       "  </tbody>\n",
       "</table>\n",
       "</div>"
      ],
      "text/plain": [
       "              purpose  installment  log.annual.inc    dti  days.with.cr.line  \\\n",
       "0  debt_consolidation       829.10       11.350407  19.48        5639.958333   \n",
       "1         credit_card       228.22       11.082143  14.29        2760.000000   \n",
       "2  debt_consolidation       366.86       10.373491  11.63        4710.000000   \n",
       "3  debt_consolidation       162.34       11.350407   8.10        2699.958333   \n",
       "4         credit_card       102.92       11.299732  14.97        4066.000000   \n",
       "\n",
       "   not.fully.paid  \n",
       "0               0  \n",
       "1               0  \n",
       "2               0  \n",
       "3               0  \n",
       "4               0  "
      ]
     },
     "execution_count": 9,
     "metadata": {},
     "output_type": "execute_result"
    }
   ],
   "source": [
    "df_sel = df[columns_to_select]\n",
    "df_sel.head()"
   ]
  },
  {
   "cell_type": "code",
   "execution_count": 10,
   "metadata": {},
   "outputs": [
    {
     "data": {
      "text/plain": [
       "array([[<matplotlib.axes._subplots.AxesSubplot object at 0x1a21d1c3d0>,\n",
       "        <matplotlib.axes._subplots.AxesSubplot object at 0x1a21dc40d0>],\n",
       "       [<matplotlib.axes._subplots.AxesSubplot object at 0x1a21dfa210>,\n",
       "        <matplotlib.axes._subplots.AxesSubplot object at 0x1a21e303d0>],\n",
       "       [<matplotlib.axes._subplots.AxesSubplot object at 0x1a21e68590>,\n",
       "        <matplotlib.axes._subplots.AxesSubplot object at 0x1a21e9f750>]],\n",
       "      dtype=object)"
      ]
     },
     "execution_count": 10,
     "metadata": {},
     "output_type": "execute_result"
    },
    {
     "data": {
      "image/png": "[encoded data removed]",
      "text/plain": [
       "<Figure size 432x288 with 6 Axes>"
      ]
     },
     "metadata": {
      "needs_background": "light"
     },
     "output_type": "display_data"
    }
   ],
   "source": [
    "#doing negative filtering based off of histograms\n",
    "#for negative filtering, look for a skew\n",
    "df_sel.hist()"
   ]
  },
  {
   "cell_type": "code",
   "execution_count": 11,
   "metadata": {},
   "outputs": [
    {
     "data": {
      "text/plain": [
       "debt_consolidation    432\n",
       "all_other             229\n",
       "credit_card           162\n",
       "home_improvement       63\n",
       "small_business         56\n",
       "major_purchase         32\n",
       "educational            26\n",
       "Name: purpose, dtype: int64"
      ]
     },
     "execution_count": 11,
     "metadata": {},
     "output_type": "execute_result"
    }
   ],
   "source": [
    "# Encode the purpose column with categorical values\n",
    "df_sel['purpose'].value_counts()"
   ]
  },
  {
   "cell_type": "code",
   "execution_count": 12,
   "metadata": {},
   "outputs": [],
   "source": [
    "df_sel = pd.concat([df_sel,pd.get_dummies(df_sel['purpose'], prefix='purpose')],axis=1)\n",
    "del df_sel['purpose']\n",
    "\n"
   ]
  },
  {
   "cell_type": "code",
   "execution_count": 13,
   "metadata": {},
   "outputs": [
    {
     "data": {
      "text/plain": [
       "(1000, 12)"
      ]
     },
     "execution_count": 13,
     "metadata": {},
     "output_type": "execute_result"
    }
   ],
   "source": [
    "df_sel.head()\n",
    "df_sel.shape"
   ]
  },
  {
   "cell_type": "code",
   "execution_count": 14,
   "metadata": {},
   "outputs": [
    {
     "data": {
      "text/html": [
       "<div>\n",
       "<style scoped>\n",
       "    .dataframe tbody tr th:only-of-type {\n",
       "        vertical-align: middle;\n",
       "    }\n",
       "\n",
       "    .dataframe tbody tr th {\n",
       "        vertical-align: top;\n",
       "    }\n",
       "\n",
       "    .dataframe thead th {\n",
       "        text-align: right;\n",
       "    }\n",
       "</style>\n",
       "<table border=\"1\" class=\"dataframe\">\n",
       "  <thead>\n",
       "    <tr style=\"text-align: right;\">\n",
       "      <th></th>\n",
       "      <th>installment</th>\n",
       "      <th>log.annual.inc</th>\n",
       "      <th>dti</th>\n",
       "      <th>days.with.cr.line</th>\n",
       "      <th>not.fully.paid</th>\n",
       "      <th>purpose_all_other</th>\n",
       "      <th>purpose_credit_card</th>\n",
       "      <th>purpose_debt_consolidation</th>\n",
       "      <th>purpose_educational</th>\n",
       "      <th>purpose_home_improvement</th>\n",
       "      <th>purpose_major_purchase</th>\n",
       "      <th>purpose_small_business</th>\n",
       "    </tr>\n",
       "  </thead>\n",
       "  <tbody>\n",
       "    <tr>\n",
       "      <th>0</th>\n",
       "      <td>829.10</td>\n",
       "      <td>11.350407</td>\n",
       "      <td>19.48</td>\n",
       "      <td>5639.958333</td>\n",
       "      <td>0</td>\n",
       "      <td>0</td>\n",
       "      <td>0</td>\n",
       "      <td>1</td>\n",
       "      <td>0</td>\n",
       "      <td>0</td>\n",
       "      <td>0</td>\n",
       "      <td>0</td>\n",
       "    </tr>\n",
       "    <tr>\n",
       "      <th>1</th>\n",
       "      <td>228.22</td>\n",
       "      <td>11.082143</td>\n",
       "      <td>14.29</td>\n",
       "      <td>2760.000000</td>\n",
       "      <td>0</td>\n",
       "      <td>0</td>\n",
       "      <td>1</td>\n",
       "      <td>0</td>\n",
       "      <td>0</td>\n",
       "      <td>0</td>\n",
       "      <td>0</td>\n",
       "      <td>0</td>\n",
       "    </tr>\n",
       "    <tr>\n",
       "      <th>2</th>\n",
       "      <td>366.86</td>\n",
       "      <td>10.373491</td>\n",
       "      <td>11.63</td>\n",
       "      <td>4710.000000</td>\n",
       "      <td>0</td>\n",
       "      <td>0</td>\n",
       "      <td>0</td>\n",
       "      <td>1</td>\n",
       "      <td>0</td>\n",
       "      <td>0</td>\n",
       "      <td>0</td>\n",
       "      <td>0</td>\n",
       "    </tr>\n",
       "    <tr>\n",
       "      <th>3</th>\n",
       "      <td>162.34</td>\n",
       "      <td>11.350407</td>\n",
       "      <td>8.10</td>\n",
       "      <td>2699.958333</td>\n",
       "      <td>0</td>\n",
       "      <td>0</td>\n",
       "      <td>0</td>\n",
       "      <td>1</td>\n",
       "      <td>0</td>\n",
       "      <td>0</td>\n",
       "      <td>0</td>\n",
       "      <td>0</td>\n",
       "    </tr>\n",
       "    <tr>\n",
       "      <th>4</th>\n",
       "      <td>102.92</td>\n",
       "      <td>11.299732</td>\n",
       "      <td>14.97</td>\n",
       "      <td>4066.000000</td>\n",
       "      <td>0</td>\n",
       "      <td>0</td>\n",
       "      <td>1</td>\n",
       "      <td>0</td>\n",
       "      <td>0</td>\n",
       "      <td>0</td>\n",
       "      <td>0</td>\n",
       "      <td>0</td>\n",
       "    </tr>\n",
       "  </tbody>\n",
       "</table>\n",
       "</div>"
      ],
      "text/plain": [
       "   installment  log.annual.inc    dti  days.with.cr.line  not.fully.paid  \\\n",
       "0       829.10       11.350407  19.48        5639.958333               0   \n",
       "1       228.22       11.082143  14.29        2760.000000               0   \n",
       "2       366.86       10.373491  11.63        4710.000000               0   \n",
       "3       162.34       11.350407   8.10        2699.958333               0   \n",
       "4       102.92       11.299732  14.97        4066.000000               0   \n",
       "\n",
       "   purpose_all_other  purpose_credit_card  purpose_debt_consolidation  \\\n",
       "0                  0                    0                           1   \n",
       "1                  0                    1                           0   \n",
       "2                  0                    0                           1   \n",
       "3                  0                    0                           1   \n",
       "4                  0                    1                           0   \n",
       "\n",
       "   purpose_educational  purpose_home_improvement  purpose_major_purchase  \\\n",
       "0                    0                         0                       0   \n",
       "1                    0                         0                       0   \n",
       "2                    0                         0                       0   \n",
       "3                    0                         0                       0   \n",
       "4                    0                         0                       0   \n",
       "\n",
       "   purpose_small_business  \n",
       "0                       0  \n",
       "1                       0  \n",
       "2                       0  \n",
       "3                       0  \n",
       "4                       0  "
      ]
     },
     "execution_count": 14,
     "metadata": {},
     "output_type": "execute_result"
    }
   ],
   "source": [
    "df_sel.head()"
   ]
  },
  {
   "cell_type": "code",
   "execution_count": 15,
   "metadata": {},
   "outputs": [
    {
     "data": {
      "text/plain": [
       "installment                   False\n",
       "log.annual.inc                False\n",
       "dti                           False\n",
       "days.with.cr.line             False\n",
       "not.fully.paid                False\n",
       "purpose_all_other             False\n",
       "purpose_credit_card           False\n",
       "purpose_debt_consolidation    False\n",
       "purpose_educational           False\n",
       "purpose_home_improvement      False\n",
       "purpose_major_purchase        False\n",
       "purpose_small_business        False\n",
       "dtype: bool"
      ]
     },
     "execution_count": 15,
     "metadata": {},
     "output_type": "execute_result"
    }
   ],
   "source": [
    "# A final check for any missing values\n",
    "\n",
    "df_sel.isnull().any()"
   ]
  },
  {
   "cell_type": "markdown",
   "metadata": {},
   "source": [
    "#### The classification problem in this setup is a binary classification: we predict whether a loan would be fully paid given the feature set of the loans and the borrower data\n",
    "\n",
    "So our label column here is not.fully.paid and all the other columns form the feature space\n"
   ]
  },
  {
   "cell_type": "code",
   "execution_count": 16,
   "metadata": {},
   "outputs": [
    {
     "data": {
      "text/plain": [
       "(1000, 11)"
      ]
     },
     "execution_count": 16,
     "metadata": {},
     "output_type": "execute_result"
    }
   ],
   "source": [
    "X = np.array(df_sel.loc[:, df_sel.columns != 'not.fully.paid'])\n",
    "X.shape"
   ]
  },
  {
   "cell_type": "code",
   "execution_count": 17,
   "metadata": {},
   "outputs": [
    {
     "data": {
      "text/plain": [
       "(1000,)"
      ]
     },
     "execution_count": 17,
     "metadata": {},
     "output_type": "execute_result"
    }
   ],
   "source": [
    "y = np.array(df_sel['not.fully.paid'])\n",
    "y.shape"
   ]
  },
  {
   "cell_type": "code",
   "execution_count": 18,
   "metadata": {},
   "outputs": [],
   "source": [
    "from sklearn.model_selection import train_test_split\n",
    "from sklearn.tree import DecisionTreeClassifier\n",
    "from sklearn.metrics import accuracy_score\n",
    "from sklearn import tree"
   ]
  },
  {
   "cell_type": "code",
   "execution_count": 19,
   "metadata": {},
   "outputs": [],
   "source": [
    "# Start with a fixed 70-30 cross validation\n",
    "# Do not train and test on same data\n",
    "# Instead, split data with 70-30 split\n",
    "# Train model on 70% of data\n",
    "# Test model on 30% of data\n",
    "X_train, X_test, y_train, y_test = train_test_split( X, y, test_size = 0.3, random_state = 100)"
   ]
  },
  {
   "cell_type": "code",
   "execution_count": 20,
   "metadata": {},
   "outputs": [
    {
     "data": {
      "text/plain": [
       "(700, 11)"
      ]
     },
     "execution_count": 20,
     "metadata": {},
     "output_type": "execute_result"
    }
   ],
   "source": [
    "X_train.shape"
   ]
  },
  {
   "cell_type": "code",
   "execution_count": 21,
   "metadata": {},
   "outputs": [
    {
     "data": {
      "text/plain": [
       "(300, 11)"
      ]
     },
     "execution_count": 21,
     "metadata": {},
     "output_type": "execute_result"
    }
   ],
   "source": [
    "X_test.shape"
   ]
  },
  {
   "cell_type": "code",
   "execution_count": 22,
   "metadata": {},
   "outputs": [],
   "source": [
    "# y_train.shape\n",
    "# y_test.shape"
   ]
  },
  {
   "cell_type": "code",
   "execution_count": 23,
   "metadata": {},
   "outputs": [],
   "source": [
    "# from sklearn.externals.six import StringIO  \n",
    "# from IPython.display import Image  \n",
    "# from sklearn.tree import export_graphviz\n",
    "# import pydotplus\n",
    "dtree = DecisionTreeClassifier(criterion='gini',max_depth=None)\n",
    "\n"
   ]
  },
  {
   "cell_type": "code",
   "execution_count": 24,
   "metadata": {
    "scrolled": true
   },
   "outputs": [
    {
     "data": {
      "text/plain": [
       "DecisionTreeClassifier(class_weight=None, criterion='gini', max_depth=None,\n",
       "            max_features=None, max_leaf_nodes=None,\n",
       "            min_impurity_decrease=0.0, min_impurity_split=None,\n",
       "            min_samples_leaf=1, min_samples_split=2,\n",
       "            min_weight_fraction_leaf=0.0, presort=False, random_state=None,\n",
       "            splitter='best')"
      ]
     },
     "execution_count": 24,
     "metadata": {},
     "output_type": "execute_result"
    }
   ],
   "source": [
    "dtree.fit(X_train,y_train)\n",
    "# dot_data = StringIO()\n",
    "# export_graphviz(dtree, out_file=dot_data,  \n",
    "#                 filled=True, rounded=True,\n",
    "#                 special_characters=True)\n",
    "# graph = pydotplus.graph_from_dot_data(dot_data.getvalue())  \n",
    "# Image(graph.create_png())"
   ]
  },
  {
   "cell_type": "code",
   "execution_count": 25,
   "metadata": {},
   "outputs": [],
   "source": [
    "def tree_properties(estimator):\n",
    "    n_nodes = estimator.tree_.node_count\n",
    "    children_left = estimator.tree_.children_left\n",
    "    children_right = estimator.tree_.children_right\n",
    "    feature = estimator.tree_.feature\n",
    "    threshold = estimator.tree_.threshold\n",
    "\n",
    "\n",
    "    # The tree structure can be traversed to compute various properties such\n",
    "    # as the depth of each node and whether or not it is a leaf.\n",
    "    node_depth = np.zeros(shape=n_nodes, dtype=np.int64)\n",
    "    is_leaves = np.zeros(shape=n_nodes, dtype=bool)\n",
    "    stack = [(0, -1)]  # seed is the root node id and its parent depth\n",
    "    while len(stack) > 0:\n",
    "        node_id, parent_depth = stack.pop()\n",
    "        node_depth[node_id] = parent_depth + 1\n",
    "\n",
    "        # If we have a test node\n",
    "        if (children_left[node_id] != children_right[node_id]):\n",
    "            stack.append((children_left[node_id], parent_depth + 1))\n",
    "            stack.append((children_right[node_id], parent_depth + 1))\n",
    "        else:\n",
    "            is_leaves[node_id] = True\n",
    "\n",
    "    print(\"The binary tree structure has %s nodes and has \"\n",
    "          \"the following tree structure:\"\n",
    "          % n_nodes)\n",
    "    for i in range(n_nodes):\n",
    "        if is_leaves[i]:\n",
    "            print(\"%snode=%s leaf node.\" % (node_depth[i] * \"\\t\", i))\n",
    "        else:\n",
    "            print(\"%snode=%s test node: go to node %s if X[:, %s] <= %s else to \"\n",
    "                  \"node %s.\"\n",
    "                  % (node_depth[i] * \"\\t\",\n",
    "                     i,\n",
    "                     children_left[i],\n",
    "                     feature[i],\n",
    "                     threshold[i],\n",
    "                     children_right[i],\n",
    "                     ))\n",
    "    print()"
   ]
  },
  {
   "cell_type": "code",
   "execution_count": 26,
   "metadata": {},
   "outputs": [
    {
     "name": "stdout",
     "output_type": "stream",
     "text": [
      "The binary tree structure has 277 nodes and has the following tree structure:\n",
      "node=0 test node: go to node 1 if X[:, 0] <= 836.9499816894531 else to node 274.\n",
      "\tnode=1 test node: go to node 2 if X[:, 0] <= 481.90000915527344 else to node 203.\n",
      "\t\tnode=2 test node: go to node 3 if X[:, 3] <= 1125.0 else to node 4.\n",
      "\t\t\tnode=3 leaf node.\n",
      "\t\t\tnode=4 test node: go to node 5 if X[:, 2] <= 16.505000114440918 else to node 132.\n",
      "\t\t\t\tnode=5 test node: go to node 6 if X[:, 2] <= 2.3799999952316284 else to node 13.\n",
      "\t\t\t\t\tnode=6 test node: go to node 7 if X[:, 1] <= 9.551888942718506 else to node 8.\n",
      "\t\t\t\t\t\tnode=7 leaf node.\n",
      "\t\t\t\t\t\tnode=8 test node: go to node 9 if X[:, 1] <= 10.10621976852417 else to node 12.\n",
      "\t\t\t\t\t\t\tnode=9 test node: go to node 10 if X[:, 9] <= 0.5 else to node 11.\n",
      "\t\t\t\t\t\t\t\tnode=10 leaf node.\n",
      "\t\t\t\t\t\t\t\tnode=11 leaf node.\n",
      "\t\t\t\t\t\t\tnode=12 leaf node.\n",
      "\t\t\t\t\tnode=13 test node: go to node 14 if X[:, 0] <= 406.49000549316406 else to node 131.\n",
      "\t\t\t\t\t\tnode=14 test node: go to node 15 if X[:, 0] <= 405.89500427246094 else to node 130.\n",
      "\t\t\t\t\t\t\tnode=15 test node: go to node 16 if X[:, 3] <= 4529.520751953125 else to node 75.\n",
      "\t\t\t\t\t\t\t\tnode=16 test node: go to node 17 if X[:, 2] <= 7.059999942779541 else to node 42.\n",
      "\t\t\t\t\t\t\t\t\tnode=17 test node: go to node 18 if X[:, 2] <= 6.7799999713897705 else to node 41.\n",
      "\t\t\t\t\t\t\t\t\t\tnode=18 test node: go to node 19 if X[:, 0] <= 303.9700012207031 else to node 40.\n",
      "\t\t\t\t\t\t\t\t\t\t\tnode=19 test node: go to node 20 if X[:, 0] <= 296.9750061035156 else to node 39.\n",
      "\t\t\t\t\t\t\t\t\t\t\t\tnode=20 test node: go to node 21 if X[:, 1] <= 10.948493003845215 else to node 34.\n",
      "\t\t\t\t\t\t\t\t\t\t\t\t\tnode=21 test node: go to node 22 if X[:, 2] <= 2.4600000381469727 else to node 23.\n",
      "\t\t\t\t\t\t\t\t\t\t\t\t\t\tnode=22 leaf node.\n",
      "\t\t\t\t\t\t\t\t\t\t\t\t\t\tnode=23 test node: go to node 24 if X[:, 2] <= 2.7350000143051147 else to node 27.\n",
      "\t\t\t\t\t\t\t\t\t\t\t\t\t\t\tnode=24 test node: go to node 25 if X[:, 3] <= 3195.0 else to node 26.\n",
      "\t\t\t\t\t\t\t\t\t\t\t\t\t\t\t\tnode=25 leaf node.\n",
      "\t\t\t\t\t\t\t\t\t\t\t\t\t\t\t\tnode=26 leaf node.\n",
      "\t\t\t\t\t\t\t\t\t\t\t\t\t\t\tnode=27 test node: go to node 28 if X[:, 1] <= 10.67992115020752 else to node 29.\n",
      "\t\t\t\t\t\t\t\t\t\t\t\t\t\t\t\tnode=28 leaf node.\n",
      "\t\t\t\t\t\t\t\t\t\t\t\t\t\t\t\tnode=29 test node: go to node 30 if X[:, 1] <= 10.76709794998169 else to node 33.\n",
      "\t\t\t\t\t\t\t\t\t\t\t\t\t\t\t\t\tnode=30 test node: go to node 31 if X[:, 2] <= 4.5 else to node 32.\n",
      "\t\t\t\t\t\t\t\t\t\t\t\t\t\t\t\t\t\tnode=31 leaf node.\n",
      "\t\t\t\t\t\t\t\t\t\t\t\t\t\t\t\t\t\tnode=32 leaf node.\n",
      "\t\t\t\t\t\t\t\t\t\t\t\t\t\t\t\t\tnode=33 leaf node.\n",
      "\t\t\t\t\t\t\t\t\t\t\t\t\tnode=34 test node: go to node 35 if X[:, 0] <= 249.3000030517578 else to node 38.\n",
      "\t\t\t\t\t\t\t\t\t\t\t\t\t\tnode=35 test node: go to node 36 if X[:, 6] <= 0.5 else to node 37.\n",
      "\t\t\t\t\t\t\t\t\t\t\t\t\t\t\tnode=36 leaf node.\n",
      "\t\t\t\t\t\t\t\t\t\t\t\t\t\t\tnode=37 leaf node.\n",
      "\t\t\t\t\t\t\t\t\t\t\t\t\t\tnode=38 leaf node.\n",
      "\t\t\t\t\t\t\t\t\t\t\t\tnode=39 leaf node.\n",
      "\t\t\t\t\t\t\t\t\t\t\tnode=40 leaf node.\n",
      "\t\t\t\t\t\t\t\t\t\tnode=41 leaf node.\n",
      "\t\t\t\t\t\t\t\t\tnode=42 test node: go to node 43 if X[:, 1] <= 9.838860034942627 else to node 48.\n",
      "\t\t\t\t\t\t\t\t\t\tnode=43 test node: go to node 44 if X[:, 5] <= 0.5 else to node 47.\n",
      "\t\t\t\t\t\t\t\t\t\t\tnode=44 test node: go to node 45 if X[:, 10] <= 0.5 else to node 46.\n",
      "\t\t\t\t\t\t\t\t\t\t\t\tnode=45 leaf node.\n",
      "\t\t\t\t\t\t\t\t\t\t\t\tnode=46 leaf node.\n",
      "\t\t\t\t\t\t\t\t\t\t\tnode=47 leaf node.\n",
      "\t\t\t\t\t\t\t\t\t\tnode=48 test node: go to node 49 if X[:, 2] <= 16.06999969482422 else to node 72.\n",
      "\t\t\t\t\t\t\t\t\t\t\tnode=49 test node: go to node 50 if X[:, 2] <= 13.174999713897705 else to node 61.\n",
      "\t\t\t\t\t\t\t\t\t\t\t\tnode=50 test node: go to node 51 if X[:, 1] <= 11.429484367370605 else to node 56.\n",
      "\t\t\t\t\t\t\t\t\t\t\t\t\tnode=51 test node: go to node 52 if X[:, 2] <= 8.764999866485596 else to node 55.\n",
      "\t\t\t\t\t\t\t\t\t\t\t\t\t\tnode=52 test node: go to node 53 if X[:, 2] <= 8.735000133514404 else to node 54.\n",
      "\t\t\t\t\t\t\t\t\t\t\t\t\t\t\tnode=53 leaf node.\n",
      "\t\t\t\t\t\t\t\t\t\t\t\t\t\t\tnode=54 leaf node.\n",
      "\t\t\t\t\t\t\t\t\t\t\t\t\t\tnode=55 leaf node.\n",
      "\t\t\t\t\t\t\t\t\t\t\t\t\tnode=56 test node: go to node 57 if X[:, 1] <= 11.462440013885498 else to node 60.\n",
      "\t\t\t\t\t\t\t\t\t\t\t\t\t\tnode=57 test node: go to node 58 if X[:, 4] <= 0.5 else to node 59.\n",
      "\t\t\t\t\t\t\t\t\t\t\t\t\t\t\tnode=58 leaf node.\n",
      "\t\t\t\t\t\t\t\t\t\t\t\t\t\t\tnode=59 leaf node.\n",
      "\t\t\t\t\t\t\t\t\t\t\t\t\t\tnode=60 leaf node.\n",
      "\t\t\t\t\t\t\t\t\t\t\t\tnode=61 test node: go to node 62 if X[:, 2] <= 13.234999656677246 else to node 63.\n",
      "\t\t\t\t\t\t\t\t\t\t\t\t\tnode=62 leaf node.\n",
      "\t\t\t\t\t\t\t\t\t\t\t\t\tnode=63 test node: go to node 64 if X[:, 1] <= 10.357616901397705 else to node 67.\n",
      "\t\t\t\t\t\t\t\t\t\t\t\t\t\tnode=64 test node: go to node 65 if X[:, 3] <= 3105.0208740234375 else to node 66.\n",
      "\t\t\t\t\t\t\t\t\t\t\t\t\t\t\tnode=65 leaf node.\n",
      "\t\t\t\t\t\t\t\t\t\t\t\t\t\t\tnode=66 leaf node.\n",
      "\t\t\t\t\t\t\t\t\t\t\t\t\t\tnode=67 test node: go to node 68 if X[:, 2] <= 15.675000190734863 else to node 69.\n",
      "\t\t\t\t\t\t\t\t\t\t\t\t\t\t\tnode=68 leaf node.\n",
      "\t\t\t\t\t\t\t\t\t\t\t\t\t\t\tnode=69 test node: go to node 70 if X[:, 2] <= 15.730000019073486 else to node 71.\n",
      "\t\t\t\t\t\t\t\t\t\t\t\t\t\t\t\tnode=70 leaf node.\n",
      "\t\t\t\t\t\t\t\t\t\t\t\t\t\t\t\tnode=71 leaf node.\n",
      "\t\t\t\t\t\t\t\t\t\t\tnode=72 test node: go to node 73 if X[:, 3] <= 3081.541748046875 else to node 74.\n",
      "\t\t\t\t\t\t\t\t\t\t\t\tnode=73 leaf node.\n",
      "\t\t\t\t\t\t\t\t\t\t\t\tnode=74 leaf node.\n",
      "\t\t\t\t\t\t\t\tnode=75 test node: go to node 76 if X[:, 3] <= 6314.5 else to node 107.\n",
      "\t\t\t\t\t\t\t\t\tnode=76 test node: go to node 77 if X[:, 0] <= 260.0299987792969 else to node 88.\n",
      "\t\t\t\t\t\t\t\t\t\tnode=77 test node: go to node 78 if X[:, 4] <= 0.5 else to node 79.\n",
      "\t\t\t\t\t\t\t\t\t\t\tnode=78 leaf node.\n",
      "\t\t\t\t\t\t\t\t\t\t\tnode=79 test node: go to node 80 if X[:, 2] <= 7.370000123977661 else to node 81.\n",
      "\t\t\t\t\t\t\t\t\t\t\t\tnode=80 leaf node.\n",
      "\t\t\t\t\t\t\t\t\t\t\t\tnode=81 test node: go to node 82 if X[:, 1] <= 10.517210006713867 else to node 83.\n",
      "\t\t\t\t\t\t\t\t\t\t\t\t\tnode=82 leaf node.\n",
      "\t\t\t\t\t\t\t\t\t\t\t\t\tnode=83 test node: go to node 84 if X[:, 1] <= 11.153693199157715 else to node 85.\n",
      "\t\t\t\t\t\t\t\t\t\t\t\t\t\tnode=84 leaf node.\n",
      "\t\t\t\t\t\t\t\t\t\t\t\t\t\tnode=85 test node: go to node 86 if X[:, 0] <= 100.375 else to node 87.\n",
      "\t\t\t\t\t\t\t\t\t\t\t\t\t\t\tnode=86 leaf node.\n",
      "\t\t\t\t\t\t\t\t\t\t\t\t\t\t\tnode=87 leaf node.\n",
      "\t\t\t\t\t\t\t\t\t\tnode=88 test node: go to node 89 if X[:, 0] <= 387.3249969482422 else to node 106.\n",
      "\t\t\t\t\t\t\t\t\t\t\tnode=89 test node: go to node 90 if X[:, 0] <= 320.239990234375 else to node 99.\n",
      "\t\t\t\t\t\t\t\t\t\t\t\tnode=90 test node: go to node 91 if X[:, 2] <= 14.045000076293945 else to node 96.\n",
      "\t\t\t\t\t\t\t\t\t\t\t\t\tnode=91 test node: go to node 92 if X[:, 0] <= 292.49501037597656 else to node 93.\n",
      "\t\t\t\t\t\t\t\t\t\t\t\t\t\tnode=92 leaf node.\n",
      "\t\t\t\t\t\t\t\t\t\t\t\t\t\tnode=93 test node: go to node 94 if X[:, 1] <= 12.186962127685547 else to node 95.\n",
      "\t\t\t\t\t\t\t\t\t\t\t\t\t\t\tnode=94 leaf node.\n",
      "\t\t\t\t\t\t\t\t\t\t\t\t\t\t\tnode=95 leaf node.\n",
      "\t\t\t\t\t\t\t\t\t\t\t\t\tnode=96 test node: go to node 97 if X[:, 2] <= 16.044999599456787 else to node 98.\n",
      "\t\t\t\t\t\t\t\t\t\t\t\t\t\tnode=97 leaf node.\n",
      "\t\t\t\t\t\t\t\t\t\t\t\t\t\tnode=98 leaf node.\n",
      "\t\t\t\t\t\t\t\t\t\t\t\tnode=99 test node: go to node 100 if X[:, 0] <= 354.94500732421875 else to node 101.\n",
      "\t\t\t\t\t\t\t\t\t\t\t\t\tnode=100 leaf node.\n",
      "\t\t\t\t\t\t\t\t\t\t\t\t\tnode=101 test node: go to node 102 if X[:, 1] <= 11.21320629119873 else to node 103.\n",
      "\t\t\t\t\t\t\t\t\t\t\t\t\t\tnode=102 leaf node.\n",
      "\t\t\t\t\t\t\t\t\t\t\t\t\t\tnode=103 test node: go to node 104 if X[:, 0] <= 363.95001220703125 else to node 105.\n",
      "\t\t\t\t\t\t\t\t\t\t\t\t\t\t\tnode=104 leaf node.\n",
      "\t\t\t\t\t\t\t\t\t\t\t\t\t\t\tnode=105 leaf node.\n",
      "\t\t\t\t\t\t\t\t\t\t\tnode=106 leaf node.\n",
      "\t\t\t\t\t\t\t\t\tnode=107 test node: go to node 108 if X[:, 0] <= 155.375 else to node 117.\n",
      "\t\t\t\t\t\t\t\t\t\tnode=108 test node: go to node 109 if X[:, 0] <= 143.15499877929688 else to node 114.\n",
      "\t\t\t\t\t\t\t\t\t\t\tnode=109 test node: go to node 110 if X[:, 0] <= 132.0449981689453 else to node 111.\n",
      "\t\t\t\t\t\t\t\t\t\t\t\tnode=110 leaf node.\n",
      "\t\t\t\t\t\t\t\t\t\t\t\tnode=111 test node: go to node 112 if X[:, 0] <= 134.7750015258789 else to node 113.\n",
      "\t\t\t\t\t\t\t\t\t\t\t\t\tnode=112 leaf node.\n",
      "\t\t\t\t\t\t\t\t\t\t\t\t\tnode=113 leaf node.\n",
      "\t\t\t\t\t\t\t\t\t\t\tnode=114 test node: go to node 115 if X[:, 3] <= 6420.0 else to node 116.\n",
      "\t\t\t\t\t\t\t\t\t\t\t\tnode=115 leaf node.\n",
      "\t\t\t\t\t\t\t\t\t\t\t\tnode=116 leaf node.\n",
      "\t\t\t\t\t\t\t\t\t\tnode=117 test node: go to node 118 if X[:, 2] <= 14.525000095367432 else to node 127.\n",
      "\t\t\t\t\t\t\t\t\t\t\tnode=118 test node: go to node 119 if X[:, 3] <= 8992.4580078125 else to node 120.\n",
      "\t\t\t\t\t\t\t\t\t\t\t\tnode=119 leaf node.\n",
      "\t\t\t\t\t\t\t\t\t\t\t\tnode=120 test node: go to node 121 if X[:, 3] <= 9164.97900390625 else to node 122.\n",
      "\t\t\t\t\t\t\t\t\t\t\t\t\tnode=121 leaf node.\n",
      "\t\t\t\t\t\t\t\t\t\t\t\t\tnode=122 test node: go to node 123 if X[:, 0] <= 329.86000061035156 else to node 124.\n",
      "\t\t\t\t\t\t\t\t\t\t\t\t\t\tnode=123 leaf node.\n",
      "\t\t\t\t\t\t\t\t\t\t\t\t\t\tnode=124 test node: go to node 125 if X[:, 4] <= 0.5 else to node 126.\n",
      "\t\t\t\t\t\t\t\t\t\t\t\t\t\t\tnode=125 leaf node.\n",
      "\t\t\t\t\t\t\t\t\t\t\t\t\t\t\tnode=126 leaf node.\n",
      "\t\t\t\t\t\t\t\t\t\t\tnode=127 test node: go to node 128 if X[:, 4] <= 0.5 else to node 129.\n",
      "\t\t\t\t\t\t\t\t\t\t\t\tnode=128 leaf node.\n",
      "\t\t\t\t\t\t\t\t\t\t\t\tnode=129 leaf node.\n",
      "\t\t\t\t\t\t\tnode=130 leaf node.\n",
      "\t\t\t\t\t\tnode=131 leaf node.\n",
      "\t\t\t\tnode=132 test node: go to node 133 if X[:, 0] <= 170.4000015258789 else to node 158.\n",
      "\t\t\t\t\tnode=133 test node: go to node 134 if X[:, 0] <= 66.97999954223633 else to node 135.\n",
      "\t\t\t\t\t\tnode=134 leaf node.\n",
      "\t\t\t\t\t\tnode=135 test node: go to node 136 if X[:, 3] <= 2295.5208740234375 else to node 139.\n",
      "\t\t\t\t\t\t\tnode=136 test node: go to node 137 if X[:, 5] <= 0.5 else to node 138.\n",
      "\t\t\t\t\t\t\t\tnode=137 leaf node.\n",
      "\t\t\t\t\t\t\t\tnode=138 leaf node.\n",
      "\t\t\t\t\t\t\tnode=139 test node: go to node 140 if X[:, 3] <= 5844.520751953125 else to node 155.\n",
      "\t\t\t\t\t\t\t\tnode=140 test node: go to node 141 if X[:, 2] <= 17.670000076293945 else to node 144.\n",
      "\t\t\t\t\t\t\t\t\tnode=141 test node: go to node 142 if X[:, 1] <= 11.439834117889404 else to node 143.\n",
      "\t\t\t\t\t\t\t\t\t\tnode=142 leaf node.\n",
      "\t\t\t\t\t\t\t\t\t\tnode=143 leaf node.\n",
      "\t\t\t\t\t\t\t\t\tnode=144 test node: go to node 145 if X[:, 1] <= 10.558248043060303 else to node 146.\n",
      "\t\t\t\t\t\t\t\t\t\tnode=145 leaf node.\n",
      "\t\t\t\t\t\t\t\t\t\tnode=146 test node: go to node 147 if X[:, 1] <= 10.979916095733643 else to node 154.\n",
      "\t\t\t\t\t\t\t\t\t\t\tnode=147 test node: go to node 148 if X[:, 1] <= 10.736160278320312 else to node 153.\n",
      "\t\t\t\t\t\t\t\t\t\t\t\tnode=148 test node: go to node 149 if X[:, 3] <= 4251.95849609375 else to node 150.\n",
      "\t\t\t\t\t\t\t\t\t\t\t\t\tnode=149 leaf node.\n",
      "\t\t\t\t\t\t\t\t\t\t\t\t\tnode=150 test node: go to node 151 if X[:, 0] <= 122.18000411987305 else to node 152.\n",
      "\t\t\t\t\t\t\t\t\t\t\t\t\t\tnode=151 leaf node.\n",
      "\t\t\t\t\t\t\t\t\t\t\t\t\t\tnode=152 leaf node.\n",
      "\t\t\t\t\t\t\t\t\t\t\t\tnode=153 leaf node.\n",
      "\t\t\t\t\t\t\t\t\t\t\tnode=154 leaf node.\n",
      "\t\t\t\t\t\t\t\tnode=155 test node: go to node 156 if X[:, 0] <= 154.6999969482422 else to node 157.\n",
      "\t\t\t\t\t\t\t\t\tnode=156 leaf node.\n",
      "\t\t\t\t\t\t\t\t\tnode=157 leaf node.\n",
      "\t\t\t\t\tnode=158 test node: go to node 159 if X[:, 7] <= 0.5 else to node 202.\n",
      "\t\t\t\t\t\tnode=159 test node: go to node 160 if X[:, 2] <= 16.640000343322754 else to node 161.\n",
      "\t\t\t\t\t\t\tnode=160 leaf node.\n",
      "\t\t\t\t\t\t\tnode=161 test node: go to node 162 if X[:, 3] <= 6614.979248046875 else to node 201.\n",
      "\t\t\t\t\t\t\t\tnode=162 test node: go to node 163 if X[:, 3] <= 6599.479248046875 else to node 200.\n",
      "\t\t\t\t\t\t\t\t\tnode=163 test node: go to node 164 if X[:, 2] <= 19.489999771118164 else to node 187.\n",
      "\t\t\t\t\t\t\t\t\t\tnode=164 test node: go to node 165 if X[:, 8] <= 0.5 else to node 186.\n",
      "\t\t\t\t\t\t\t\t\t\t\tnode=165 test node: go to node 166 if X[:, 2] <= 19.454999923706055 else to node 185.\n",
      "\t\t\t\t\t\t\t\t\t\t\t\tnode=166 test node: go to node 167 if X[:, 1] <= 10.83366346359253 else to node 172.\n",
      "\t\t\t\t\t\t\t\t\t\t\t\t\tnode=167 test node: go to node 168 if X[:, 3] <= 2339.9791259765625 else to node 171.\n",
      "\t\t\t\t\t\t\t\t\t\t\t\t\t\tnode=168 test node: go to node 169 if X[:, 1] <= 10.549479484558105 else to node 170.\n",
      "\t\t\t\t\t\t\t\t\t\t\t\t\t\t\tnode=169 leaf node.\n",
      "\t\t\t\t\t\t\t\t\t\t\t\t\t\t\tnode=170 leaf node.\n",
      "\t\t\t\t\t\t\t\t\t\t\t\t\t\tnode=171 leaf node.\n",
      "\t\t\t\t\t\t\t\t\t\t\t\t\tnode=172 test node: go to node 173 if X[:, 1] <= 11.059656143188477 else to node 180.\n",
      "\t\t\t\t\t\t\t\t\t\t\t\t\t\tnode=173 test node: go to node 174 if X[:, 3] <= 1679.5 else to node 175.\n",
      "\t\t\t\t\t\t\t\t\t\t\t\t\t\t\tnode=174 leaf node.\n",
      "\t\t\t\t\t\t\t\t\t\t\t\t\t\t\tnode=175 test node: go to node 176 if X[:, 2] <= 18.72000026702881 else to node 177.\n",
      "\t\t\t\t\t\t\t\t\t\t\t\t\t\t\t\tnode=176 leaf node.\n",
      "\t\t\t\t\t\t\t\t\t\t\t\t\t\t\t\tnode=177 test node: go to node 178 if X[:, 0] <= 309.2200012207031 else to node 179.\n",
      "\t\t\t\t\t\t\t\t\t\t\t\t\t\t\t\t\tnode=178 leaf node.\n",
      "\t\t\t\t\t\t\t\t\t\t\t\t\t\t\t\t\tnode=179 leaf node.\n",
      "\t\t\t\t\t\t\t\t\t\t\t\t\t\tnode=180 test node: go to node 181 if X[:, 3] <= 2309.9791259765625 else to node 184.\n",
      "\t\t\t\t\t\t\t\t\t\t\t\t\t\t\tnode=181 test node: go to node 182 if X[:, 1] <= 11.237101554870605 else to node 183.\n",
      "\t\t\t\t\t\t\t\t\t\t\t\t\t\t\t\tnode=182 leaf node.\n",
      "\t\t\t\t\t\t\t\t\t\t\t\t\t\t\t\tnode=183 leaf node.\n",
      "\t\t\t\t\t\t\t\t\t\t\t\t\t\t\tnode=184 leaf node.\n",
      "\t\t\t\t\t\t\t\t\t\t\t\tnode=185 leaf node.\n",
      "\t\t\t\t\t\t\t\t\t\t\tnode=186 leaf node.\n",
      "\t\t\t\t\t\t\t\t\t\tnode=187 test node: go to node 188 if X[:, 1] <= 11.54181432723999 else to node 199.\n",
      "\t\t\t\t\t\t\t\t\t\t\tnode=188 test node: go to node 189 if X[:, 9] <= 0.5 else to node 196.\n",
      "\t\t\t\t\t\t\t\t\t\t\t\tnode=189 test node: go to node 190 if X[:, 0] <= 377.01499938964844 else to node 191.\n",
      "\t\t\t\t\t\t\t\t\t\t\t\t\tnode=190 leaf node.\n",
      "\t\t\t\t\t\t\t\t\t\t\t\t\tnode=191 test node: go to node 192 if X[:, 1] <= 11.134082794189453 else to node 195.\n",
      "\t\t\t\t\t\t\t\t\t\t\t\t\t\tnode=192 test node: go to node 193 if X[:, 0] <= 379.68499755859375 else to node 194.\n",
      "\t\t\t\t\t\t\t\t\t\t\t\t\t\t\tnode=193 leaf node.\n",
      "\t\t\t\t\t\t\t\t\t\t\t\t\t\t\tnode=194 leaf node.\n",
      "\t\t\t\t\t\t\t\t\t\t\t\t\t\tnode=195 leaf node.\n",
      "\t\t\t\t\t\t\t\t\t\t\t\tnode=196 test node: go to node 197 if X[:, 0] <= 222.55999755859375 else to node 198.\n",
      "\t\t\t\t\t\t\t\t\t\t\t\t\tnode=197 leaf node.\n",
      "\t\t\t\t\t\t\t\t\t\t\t\t\tnode=198 leaf node.\n",
      "\t\t\t\t\t\t\t\t\t\t\tnode=199 leaf node.\n",
      "\t\t\t\t\t\t\t\t\tnode=200 leaf node.\n",
      "\t\t\t\t\t\t\t\tnode=201 leaf node.\n",
      "\t\t\t\t\t\tnode=202 leaf node.\n",
      "\t\tnode=203 test node: go to node 204 if X[:, 1] <= 10.923203945159912 else to node 231.\n",
      "\t\t\tnode=204 test node: go to node 205 if X[:, 0] <= 505.9949951171875 else to node 210.\n",
      "\t\t\t\tnode=205 test node: go to node 206 if X[:, 3] <= 2460.0208740234375 else to node 209.\n",
      "\t\t\t\t\tnode=206 test node: go to node 207 if X[:, 3] <= 2100.0208129882812 else to node 208.\n",
      "\t\t\t\t\t\tnode=207 leaf node.\n",
      "\t\t\t\t\t\tnode=208 leaf node.\n",
      "\t\t\t\t\tnode=209 leaf node.\n",
      "\t\t\t\tnode=210 test node: go to node 211 if X[:, 0] <= 751.7949829101562 else to node 230.\n",
      "\t\t\t\t\tnode=211 test node: go to node 212 if X[:, 0] <= 625.739990234375 else to node 219.\n",
      "\t\t\t\t\t\tnode=212 test node: go to node 213 if X[:, 3] <= 2625.0 else to node 214.\n",
      "\t\t\t\t\t\t\tnode=213 leaf node.\n",
      "\t\t\t\t\t\t\tnode=214 test node: go to node 215 if X[:, 0] <= 511.5399932861328 else to node 218.\n",
      "\t\t\t\t\t\t\t\tnode=215 test node: go to node 216 if X[:, 0] <= 507.4099884033203 else to node 217.\n",
      "\t\t\t\t\t\t\t\t\tnode=216 leaf node.\n",
      "\t\t\t\t\t\t\t\t\tnode=217 leaf node.\n",
      "\t\t\t\t\t\t\t\tnode=218 leaf node.\n",
      "\t\t\t\t\t\tnode=219 test node: go to node 220 if X[:, 0] <= 648.375 else to node 221.\n",
      "\t\t\t\t\t\t\tnode=220 leaf node.\n",
      "\t\t\t\t\t\t\tnode=221 test node: go to node 222 if X[:, 0] <= 657.4299926757812 else to node 223.\n",
      "\t\t\t\t\t\t\t\tnode=222 leaf node.\n",
      "\t\t\t\t\t\t\t\tnode=223 test node: go to node 224 if X[:, 2] <= 19.699999809265137 else to node 229.\n",
      "\t\t\t\t\t\t\t\t\tnode=224 test node: go to node 225 if X[:, 2] <= 4.615000009536743 else to node 228.\n",
      "\t\t\t\t\t\t\t\t\t\tnode=225 test node: go to node 226 if X[:, 2] <= 1.4749999642372131 else to node 227.\n",
      "\t\t\t\t\t\t\t\t\t\t\tnode=226 leaf node.\n",
      "\t\t\t\t\t\t\t\t\t\t\tnode=227 leaf node.\n",
      "\t\t\t\t\t\t\t\t\t\tnode=228 leaf node.\n",
      "\t\t\t\t\t\t\t\t\tnode=229 leaf node.\n",
      "\t\t\t\t\tnode=230 leaf node.\n",
      "\t\t\tnode=231 test node: go to node 232 if X[:, 2] <= 0.5850000083446503 else to node 235.\n",
      "\t\t\t\tnode=232 test node: go to node 233 if X[:, 3] <= 3084.0415649414062 else to node 234.\n",
      "\t\t\t\t\tnode=233 leaf node.\n",
      "\t\t\t\t\tnode=234 leaf node.\n",
      "\t\t\t\tnode=235 test node: go to node 236 if X[:, 3] <= 4485.0 else to node 261.\n",
      "\t\t\t\t\tnode=236 test node: go to node 237 if X[:, 3] <= 3659.5 else to node 252.\n",
      "\t\t\t\t\t\tnode=237 test node: go to node 238 if X[:, 3] <= 1575.0208129882812 else to node 239.\n",
      "\t\t\t\t\t\t\tnode=238 leaf node.\n",
      "\t\t\t\t\t\t\tnode=239 test node: go to node 240 if X[:, 10] <= 0.5 else to node 251.\n",
      "\t\t\t\t\t\t\t\tnode=240 test node: go to node 241 if X[:, 1] <= 11.119873046875 else to node 246.\n",
      "\t\t\t\t\t\t\t\t\tnode=241 test node: go to node 242 if X[:, 4] <= 0.5 else to node 245.\n",
      "\t\t\t\t\t\t\t\t\t\tnode=242 test node: go to node 243 if X[:, 1] <= 11.106419563293457 else to node 244.\n",
      "\t\t\t\t\t\t\t\t\t\t\tnode=243 leaf node.\n",
      "\t\t\t\t\t\t\t\t\t\t\tnode=244 leaf node.\n",
      "\t\t\t\t\t\t\t\t\t\tnode=245 leaf node.\n",
      "\t\t\t\t\t\t\t\t\tnode=246 test node: go to node 247 if X[:, 0] <= 748.9649963378906 else to node 248.\n",
      "\t\t\t\t\t\t\t\t\t\tnode=247 leaf node.\n",
      "\t\t\t\t\t\t\t\t\t\tnode=248 test node: go to node 249 if X[:, 0] <= 785.8800048828125 else to node 250.\n",
      "\t\t\t\t\t\t\t\t\t\t\tnode=249 leaf node.\n",
      "\t\t\t\t\t\t\t\t\t\t\tnode=250 leaf node.\n",
      "\t\t\t\t\t\t\t\tnode=251 leaf node.\n",
      "\t\t\t\t\t\tnode=252 test node: go to node 253 if X[:, 1] <= 11.261868476867676 else to node 254.\n",
      "\t\t\t\t\t\t\tnode=253 leaf node.\n",
      "\t\t\t\t\t\t\tnode=254 test node: go to node 255 if X[:, 0] <= 813.2850036621094 else to node 260.\n",
      "\t\t\t\t\t\t\t\tnode=255 test node: go to node 256 if X[:, 2] <= 16.699999809265137 else to node 257.\n",
      "\t\t\t\t\t\t\t\t\tnode=256 leaf node.\n",
      "\t\t\t\t\t\t\t\t\tnode=257 test node: go to node 258 if X[:, 0] <= 617.8600158691406 else to node 259.\n",
      "\t\t\t\t\t\t\t\t\t\tnode=258 leaf node.\n",
      "\t\t\t\t\t\t\t\t\t\tnode=259 leaf node.\n",
      "\t\t\t\t\t\t\t\tnode=260 leaf node.\n",
      "\t\t\t\t\tnode=261 test node: go to node 262 if X[:, 2] <= 1.6200000047683716 else to node 265.\n",
      "\t\t\t\t\t\tnode=262 test node: go to node 263 if X[:, 0] <= 728.7550048828125 else to node 264.\n",
      "\t\t\t\t\t\t\tnode=263 leaf node.\n",
      "\t\t\t\t\t\t\tnode=264 leaf node.\n",
      "\t\t\t\t\t\tnode=265 test node: go to node 266 if X[:, 2] <= 21.809999465942383 else to node 271.\n",
      "\t\t\t\t\t\t\tnode=266 test node: go to node 267 if X[:, 0] <= 537.3999938964844 else to node 270.\n",
      "\t\t\t\t\t\t\t\tnode=267 test node: go to node 268 if X[:, 0] <= 531.4850158691406 else to node 269.\n",
      "\t\t\t\t\t\t\t\t\tnode=268 leaf node.\n",
      "\t\t\t\t\t\t\t\t\tnode=269 leaf node.\n",
      "\t\t\t\t\t\t\t\tnode=270 leaf node.\n",
      "\t\t\t\t\t\t\tnode=271 test node: go to node 272 if X[:, 3] <= 8295.020751953125 else to node 273.\n",
      "\t\t\t\t\t\t\t\tnode=272 leaf node.\n",
      "\t\t\t\t\t\t\t\tnode=273 leaf node.\n",
      "\tnode=274 test node: go to node 275 if X[:, 1] <= 11.651322841644287 else to node 276.\n",
      "\t\tnode=275 leaf node.\n",
      "\t\tnode=276 leaf node.\n",
      "()\n"
     ]
    }
   ],
   "source": [
    "tree_properties(dtree)"
   ]
  },
  {
   "cell_type": "code",
   "execution_count": 27,
   "metadata": {},
   "outputs": [],
   "source": [
    "predictions = dtree.predict(X_test)\n"
   ]
  },
  {
   "cell_type": "code",
   "execution_count": 28,
   "metadata": {},
   "outputs": [],
   "source": [
    "from sklearn.metrics import classification_report,confusion_matrix\n"
   ]
  },
  {
   "cell_type": "code",
   "execution_count": 29,
   "metadata": {},
   "outputs": [
    {
     "name": "stdout",
     "output_type": "stream",
     "text": [
      "              precision    recall  f1-score   support\n",
      "\n",
      "           0       0.86      0.80      0.83       254\n",
      "           1       0.19      0.26      0.22        46\n",
      "\n",
      "   micro avg       0.72      0.72      0.72       300\n",
      "   macro avg       0.52      0.53      0.52       300\n",
      "weighted avg       0.75      0.72      0.73       300\n",
      "\n"
     ]
    }
   ],
   "source": [
    "print(classification_report(y_test,predictions))\n"
   ]
  },
  {
   "cell_type": "markdown",
   "metadata": {},
   "source": [
    "## Cross Validation\n",
    "It is very similar to train/test split, but it’s applied to more subsets. Meaning, we split our data into k subsets, and train on k-1 one of those subset. What we do is to hold the last subset for test. We’re able to do it for each of the subsets."
   ]
  },
  {
   "cell_type": "code",
   "execution_count": 30,
   "metadata": {},
   "outputs": [],
   "source": [
    "from sklearn.model_selection import KFold # import KFold\n",
    "from sklearn.metrics import precision_recall_fscore_support"
   ]
  },
  {
   "cell_type": "code",
   "execution_count": 31,
   "metadata": {},
   "outputs": [
    {
     "name": "stdout",
     "output_type": "stream",
     "text": [
      "KFold(n_splits=5, random_state=None, shuffle=False)\n"
     ]
    }
   ],
   "source": [
    "kf = KFold(n_splits=5) # Define the split - into 5 folds \n",
    "kf.get_n_splits(X_train) # returns the number of splitting iterations in the cross-validator\n",
    "print(kf) \n",
    "\n",
    "\n",
    "# Also check Shuffle split"
   ]
  },
  {
   "cell_type": "code",
   "execution_count": 32,
   "metadata": {},
   "outputs": [
    {
     "name": "stdout",
     "output_type": "stream",
     "text": [
      "[0.85964912 0.17241379]\n",
      "[0.76646707 0.12121212]\n",
      "[0.86060606 0.14285714]\n",
      "[0.825 0.15 ]\n",
      "[0.83431953 0.25806452]\n",
      "(0.16890951466034893, 0.16854025758926933, 0.16747504840795197)\n"
     ]
    }
   ],
   "source": [
    "avg_p=0.\n",
    "avg_r=0.\n",
    "avg_f1=0.\n",
    "\n",
    "for train_index, test_index in kf.split(X):\n",
    "    #print(\"TRAIN:\", train_index, \"TEST:\", test_index)\n",
    "    X_train, X_test = X[train_index], X[test_index]\n",
    "    y_train, y_test = y[train_index], y[test_index]\n",
    "    dtree.fit(X_train,y_train)\n",
    "    \n",
    "    y_pred = dtree.predict(X_test)\n",
    "    \n",
    "    p, r, f1, s = precision_recall_fscore_support(y_test, y_pred)\n",
    "    print p\n",
    "    #p, r, f1, s has a matrix of two values for each fold (first one is 0, second one is 1)\n",
    "    avg_p += p[1]\n",
    "    avg_r += r[1]\n",
    "    avg_f1 += f1[1]\n",
    "\n",
    "print(avg_p/5., avg_r/5., avg_f1/5.)"
   ]
  },
  {
   "cell_type": "code",
   "execution_count": 33,
   "metadata": {},
   "outputs": [
    {
     "name": "stdout",
     "output_type": "stream",
     "text": [
      "The binary tree structure has 303 nodes and has the following tree structure:\n",
      "node=0 test node: go to node 1 if X[:, 0] <= 480.7749938964844 else to node 200.\n",
      "\tnode=1 test node: go to node 2 if X[:, 2] <= 2.6950000524520874 else to node 13.\n",
      "\t\tnode=2 test node: go to node 3 if X[:, 1] <= 10.10621976852417 else to node 8.\n",
      "\t\t\tnode=3 test node: go to node 4 if X[:, 1] <= 9.994647979736328 else to node 7.\n",
      "\t\t\t\tnode=4 test node: go to node 5 if X[:, 10] <= 0.5 else to node 6.\n",
      "\t\t\t\t\tnode=5 leaf node.\n",
      "\t\t\t\t\tnode=6 leaf node.\n",
      "\t\t\t\tnode=7 leaf node.\n",
      "\t\t\tnode=8 test node: go to node 9 if X[:, 3] <= 2745.0 else to node 12.\n",
      "\t\t\t\tnode=9 test node: go to node 10 if X[:, 3] <= 2670.041748046875 else to node 11.\n",
      "\t\t\t\t\tnode=10 leaf node.\n",
      "\t\t\t\t\tnode=11 leaf node.\n",
      "\t\t\t\tnode=12 leaf node.\n",
      "\t\tnode=13 test node: go to node 14 if X[:, 0] <= 379.68499755859375 else to node 189.\n",
      "\t\t\tnode=14 test node: go to node 15 if X[:, 0] <= 338.24501037597656 else to node 172.\n",
      "\t\t\t\tnode=15 test node: go to node 16 if X[:, 3] <= 4397.0 else to node 93.\n",
      "\t\t\t\t\tnode=16 test node: go to node 17 if X[:, 1] <= 9.460728168487549 else to node 20.\n",
      "\t\t\t\t\t\tnode=17 test node: go to node 18 if X[:, 1] <= 9.259312152862549 else to node 19.\n",
      "\t\t\t\t\t\t\tnode=18 leaf node.\n",
      "\t\t\t\t\t\t\tnode=19 leaf node.\n",
      "\t\t\t\t\t\tnode=20 test node: go to node 21 if X[:, 3] <= 1118.4791870117188 else to node 24.\n",
      "\t\t\t\t\t\t\tnode=21 test node: go to node 22 if X[:, 1] <= 10.161214828491211 else to node 23.\n",
      "\t\t\t\t\t\t\t\tnode=22 leaf node.\n",
      "\t\t\t\t\t\t\t\tnode=23 leaf node.\n",
      "\t\t\t\t\t\t\tnode=24 test node: go to node 25 if X[:, 2] <= 2.7350000143051147 else to node 26.\n",
      "\t\t\t\t\t\t\t\tnode=25 leaf node.\n",
      "\t\t\t\t\t\t\t\tnode=26 test node: go to node 27 if X[:, 2] <= 3.9800000190734863 else to node 28.\n",
      "\t\t\t\t\t\t\t\t\tnode=27 leaf node.\n",
      "\t\t\t\t\t\t\t\t\tnode=28 test node: go to node 29 if X[:, 2] <= 5.144999980926514 else to node 36.\n",
      "\t\t\t\t\t\t\t\t\t\tnode=29 test node: go to node 30 if X[:, 1] <= 10.440134525299072 else to node 31.\n",
      "\t\t\t\t\t\t\t\t\t\t\tnode=30 leaf node.\n",
      "\t\t\t\t\t\t\t\t\t\t\tnode=31 test node: go to node 32 if X[:, 0] <= 175.06500244140625 else to node 33.\n",
      "\t\t\t\t\t\t\t\t\t\t\t\tnode=32 leaf node.\n",
      "\t\t\t\t\t\t\t\t\t\t\t\tnode=33 test node: go to node 34 if X[:, 0] <= 309.98500061035156 else to node 35.\n",
      "\t\t\t\t\t\t\t\t\t\t\t\t\tnode=34 leaf node.\n",
      "\t\t\t\t\t\t\t\t\t\t\t\t\tnode=35 leaf node.\n",
      "\t\t\t\t\t\t\t\t\t\tnode=36 test node: go to node 37 if X[:, 0] <= 32.28000068664551 else to node 40.\n",
      "\t\t\t\t\t\t\t\t\t\t\tnode=37 test node: go to node 38 if X[:, 2] <= 14.914999961853027 else to node 39.\n",
      "\t\t\t\t\t\t\t\t\t\t\t\tnode=38 leaf node.\n",
      "\t\t\t\t\t\t\t\t\t\t\t\tnode=39 leaf node.\n",
      "\t\t\t\t\t\t\t\t\t\t\tnode=40 test node: go to node 41 if X[:, 2] <= 6.984999895095825 else to node 42.\n",
      "\t\t\t\t\t\t\t\t\t\t\t\tnode=41 leaf node.\n",
      "\t\t\t\t\t\t\t\t\t\t\t\tnode=42 test node: go to node 43 if X[:, 2] <= 7.045000076293945 else to node 44.\n",
      "\t\t\t\t\t\t\t\t\t\t\t\t\tnode=43 leaf node.\n",
      "\t\t\t\t\t\t\t\t\t\t\t\t\tnode=44 test node: go to node 45 if X[:, 10] <= 0.5 else to node 88.\n",
      "\t\t\t\t\t\t\t\t\t\t\t\t\t\tnode=45 test node: go to node 46 if X[:, 3] <= 1664.9791870117188 else to node 47.\n",
      "\t\t\t\t\t\t\t\t\t\t\t\t\t\t\tnode=46 leaf node.\n",
      "\t\t\t\t\t\t\t\t\t\t\t\t\t\t\tnode=47 test node: go to node 48 if X[:, 3] <= 1694.5208129882812 else to node 49.\n",
      "\t\t\t\t\t\t\t\t\t\t\t\t\t\t\t\tnode=48 leaf node.\n",
      "\t\t\t\t\t\t\t\t\t\t\t\t\t\t\t\tnode=49 test node: go to node 50 if X[:, 2] <= 8.78499984741211 else to node 51.\n",
      "\t\t\t\t\t\t\t\t\t\t\t\t\t\t\t\t\tnode=50 leaf node.\n",
      "\t\t\t\t\t\t\t\t\t\t\t\t\t\t\t\t\tnode=51 test node: go to node 52 if X[:, 2] <= 8.795000076293945 else to node 53.\n",
      "\t\t\t\t\t\t\t\t\t\t\t\t\t\t\t\t\t\tnode=52 leaf node.\n",
      "\t\t\t\t\t\t\t\t\t\t\t\t\t\t\t\t\t\tnode=53 test node: go to node 54 if X[:, 6] <= 0.5 else to node 65.\n",
      "\t\t\t\t\t\t\t\t\t\t\t\t\t\t\t\t\t\t\tnode=54 test node: go to node 55 if X[:, 0] <= 154.63500213623047 else to node 56.\n",
      "\t\t\t\t\t\t\t\t\t\t\t\t\t\t\t\t\t\t\t\tnode=55 leaf node.\n",
      "\t\t\t\t\t\t\t\t\t\t\t\t\t\t\t\t\t\t\t\tnode=56 test node: go to node 57 if X[:, 0] <= 157.11000061035156 else to node 58.\n",
      "\t\t\t\t\t\t\t\t\t\t\t\t\t\t\t\t\t\t\t\t\tnode=57 leaf node.\n",
      "\t\t\t\t\t\t\t\t\t\t\t\t\t\t\t\t\t\t\t\t\tnode=58 test node: go to node 59 if X[:, 2] <= 10.87999963760376 else to node 64.\n",
      "\t\t\t\t\t\t\t\t\t\t\t\t\t\t\t\t\t\t\t\t\t\tnode=59 test node: go to node 60 if X[:, 3] <= 3553.958251953125 else to node 61.\n",
      "\t\t\t\t\t\t\t\t\t\t\t\t\t\t\t\t\t\t\t\t\t\t\tnode=60 leaf node.\n",
      "\t\t\t\t\t\t\t\t\t\t\t\t\t\t\t\t\t\t\t\t\t\t\tnode=61 test node: go to node 62 if X[:, 1] <= 10.780256748199463 else to node 63.\n",
      "\t\t\t\t\t\t\t\t\t\t\t\t\t\t\t\t\t\t\t\t\t\t\t\tnode=62 leaf node.\n",
      "\t\t\t\t\t\t\t\t\t\t\t\t\t\t\t\t\t\t\t\t\t\t\t\tnode=63 leaf node.\n",
      "\t\t\t\t\t\t\t\t\t\t\t\t\t\t\t\t\t\t\t\t\t\tnode=64 leaf node.\n",
      "\t\t\t\t\t\t\t\t\t\t\t\t\t\t\t\t\t\t\tnode=65 test node: go to node 66 if X[:, 1] <= 10.286802291870117 else to node 67.\n",
      "\t\t\t\t\t\t\t\t\t\t\t\t\t\t\t\t\t\t\t\tnode=66 leaf node.\n",
      "\t\t\t\t\t\t\t\t\t\t\t\t\t\t\t\t\t\t\t\tnode=67 test node: go to node 68 if X[:, 2] <= 15.579999923706055 else to node 77.\n",
      "\t\t\t\t\t\t\t\t\t\t\t\t\t\t\t\t\t\t\t\t\tnode=68 test node: go to node 69 if X[:, 0] <= 260.5399932861328 else to node 70.\n",
      "\t\t\t\t\t\t\t\t\t\t\t\t\t\t\t\t\t\t\t\t\t\tnode=69 leaf node.\n",
      "\t\t\t\t\t\t\t\t\t\t\t\t\t\t\t\t\t\t\t\t\t\tnode=70 test node: go to node 71 if X[:, 0] <= 287.125 else to node 72.\n",
      "\t\t\t\t\t\t\t\t\t\t\t\t\t\t\t\t\t\t\t\t\t\t\tnode=71 leaf node.\n",
      "\t\t\t\t\t\t\t\t\t\t\t\t\t\t\t\t\t\t\t\t\t\t\tnode=72 test node: go to node 73 if X[:, 2] <= 13.279999732971191 else to node 74.\n",
      "\t\t\t\t\t\t\t\t\t\t\t\t\t\t\t\t\t\t\t\t\t\t\t\tnode=73 leaf node.\n",
      "\t\t\t\t\t\t\t\t\t\t\t\t\t\t\t\t\t\t\t\t\t\t\t\tnode=74 test node: go to node 75 if X[:, 2] <= 13.4399995803833 else to node 76.\n",
      "\t\t\t\t\t\t\t\t\t\t\t\t\t\t\t\t\t\t\t\t\t\t\t\t\tnode=75 leaf node.\n",
      "\t\t\t\t\t\t\t\t\t\t\t\t\t\t\t\t\t\t\t\t\t\t\t\t\tnode=76 leaf node.\n",
      "\t\t\t\t\t\t\t\t\t\t\t\t\t\t\t\t\t\t\t\t\tnode=77 test node: go to node 78 if X[:, 0] <= 169.72999572753906 else to node 81.\n",
      "\t\t\t\t\t\t\t\t\t\t\t\t\t\t\t\t\t\t\t\t\t\tnode=78 test node: go to node 79 if X[:, 3] <= 2610.0 else to node 80.\n",
      "\t\t\t\t\t\t\t\t\t\t\t\t\t\t\t\t\t\t\t\t\t\t\tnode=79 leaf node.\n",
      "\t\t\t\t\t\t\t\t\t\t\t\t\t\t\t\t\t\t\t\t\t\t\tnode=80 leaf node.\n",
      "\t\t\t\t\t\t\t\t\t\t\t\t\t\t\t\t\t\t\t\t\t\tnode=81 test node: go to node 82 if X[:, 3] <= 2370.0 else to node 87.\n",
      "\t\t\t\t\t\t\t\t\t\t\t\t\t\t\t\t\t\t\t\t\t\t\tnode=82 test node: go to node 83 if X[:, 1] <= 10.549479484558105 else to node 84.\n",
      "\t\t\t\t\t\t\t\t\t\t\t\t\t\t\t\t\t\t\t\t\t\t\t\tnode=83 leaf node.\n",
      "\t\t\t\t\t\t\t\t\t\t\t\t\t\t\t\t\t\t\t\t\t\t\t\tnode=84 test node: go to node 85 if X[:, 2] <= 17.369999885559082 else to node 86.\n",
      "\t\t\t\t\t\t\t\t\t\t\t\t\t\t\t\t\t\t\t\t\t\t\t\t\tnode=85 leaf node.\n",
      "\t\t\t\t\t\t\t\t\t\t\t\t\t\t\t\t\t\t\t\t\t\t\t\t\tnode=86 leaf node.\n",
      "\t\t\t\t\t\t\t\t\t\t\t\t\t\t\t\t\t\t\t\t\t\t\tnode=87 leaf node.\n",
      "\t\t\t\t\t\t\t\t\t\t\t\t\t\tnode=88 test node: go to node 89 if X[:, 1] <= 9.871218204498291 else to node 90.\n",
      "\t\t\t\t\t\t\t\t\t\t\t\t\t\t\tnode=89 leaf node.\n",
      "\t\t\t\t\t\t\t\t\t\t\t\t\t\t\tnode=90 test node: go to node 91 if X[:, 3] <= 3885.5 else to node 92.\n",
      "\t\t\t\t\t\t\t\t\t\t\t\t\t\t\t\tnode=91 leaf node.\n",
      "\t\t\t\t\t\t\t\t\t\t\t\t\t\t\t\tnode=92 leaf node.\n",
      "\t\t\t\t\tnode=93 test node: go to node 94 if X[:, 3] <= 6255.0 else to node 147.\n",
      "\t\t\t\t\t\tnode=94 test node: go to node 95 if X[:, 2] <= 5.994999885559082 else to node 100.\n",
      "\t\t\t\t\t\t\tnode=95 test node: go to node 96 if X[:, 0] <= 317.1649932861328 else to node 97.\n",
      "\t\t\t\t\t\t\t\tnode=96 leaf node.\n",
      "\t\t\t\t\t\t\t\tnode=97 test node: go to node 98 if X[:, 2] <= 4.449999928474426 else to node 99.\n",
      "\t\t\t\t\t\t\t\t\tnode=98 leaf node.\n",
      "\t\t\t\t\t\t\t\t\tnode=99 leaf node.\n",
      "\t\t\t\t\t\t\tnode=100 test node: go to node 101 if X[:, 1] <= 10.184721946716309 else to node 102.\n",
      "\t\t\t\t\t\t\t\tnode=101 leaf node.\n",
      "\t\t\t\t\t\t\t\tnode=102 test node: go to node 103 if X[:, 4] <= 0.5 else to node 134.\n",
      "\t\t\t\t\t\t\t\t\tnode=103 test node: go to node 104 if X[:, 3] <= 5250.020751953125 else to node 117.\n",
      "\t\t\t\t\t\t\t\t\t\tnode=104 test node: go to node 105 if X[:, 2] <= 6.144999980926514 else to node 106.\n",
      "\t\t\t\t\t\t\t\t\t\t\tnode=105 leaf node.\n",
      "\t\t\t\t\t\t\t\t\t\t\tnode=106 test node: go to node 107 if X[:, 2] <= 14.660000324249268 else to node 108.\n",
      "\t\t\t\t\t\t\t\t\t\t\t\tnode=107 leaf node.\n",
      "\t\t\t\t\t\t\t\t\t\t\t\tnode=108 test node: go to node 109 if X[:, 2] <= 14.725000381469727 else to node 110.\n",
      "\t\t\t\t\t\t\t\t\t\t\t\t\tnode=109 leaf node.\n",
      "\t\t\t\t\t\t\t\t\t\t\t\t\tnode=110 test node: go to node 111 if X[:, 1] <= 10.985148906707764 else to node 112.\n",
      "\t\t\t\t\t\t\t\t\t\t\t\t\t\tnode=111 leaf node.\n",
      "\t\t\t\t\t\t\t\t\t\t\t\t\t\tnode=112 test node: go to node 113 if X[:, 1] <= 11.025637149810791 else to node 114.\n",
      "\t\t\t\t\t\t\t\t\t\t\t\t\t\t\tnode=113 leaf node.\n",
      "\t\t\t\t\t\t\t\t\t\t\t\t\t\t\tnode=114 test node: go to node 115 if X[:, 0] <= 119.28000259399414 else to node 116.\n",
      "\t\t\t\t\t\t\t\t\t\t\t\t\t\t\t\tnode=115 leaf node.\n",
      "\t\t\t\t\t\t\t\t\t\t\t\t\t\t\t\tnode=116 leaf node.\n",
      "\t\t\t\t\t\t\t\t\t\tnode=117 test node: go to node 118 if X[:, 2] <= 19.96500015258789 else to node 133.\n",
      "\t\t\t\t\t\t\t\t\t\t\tnode=118 test node: go to node 119 if X[:, 0] <= 224.31499481201172 else to node 120.\n",
      "\t\t\t\t\t\t\t\t\t\t\t\tnode=119 leaf node.\n",
      "\t\t\t\t\t\t\t\t\t\t\t\tnode=120 test node: go to node 121 if X[:, 0] <= 230.91000366210938 else to node 122.\n",
      "\t\t\t\t\t\t\t\t\t\t\t\t\tnode=121 leaf node.\n",
      "\t\t\t\t\t\t\t\t\t\t\t\t\tnode=122 test node: go to node 123 if X[:, 8] <= 0.5 else to node 132.\n",
      "\t\t\t\t\t\t\t\t\t\t\t\t\t\tnode=123 test node: go to node 124 if X[:, 3] <= 5340.020751953125 else to node 125.\n",
      "\t\t\t\t\t\t\t\t\t\t\t\t\t\t\tnode=124 leaf node.\n",
      "\t\t\t\t\t\t\t\t\t\t\t\t\t\t\tnode=125 test node: go to node 126 if X[:, 3] <= 5670.0 else to node 127.\n",
      "\t\t\t\t\t\t\t\t\t\t\t\t\t\t\t\tnode=126 leaf node.\n",
      "\t\t\t\t\t\t\t\t\t\t\t\t\t\t\t\tnode=127 test node: go to node 128 if X[:, 3] <= 6134.020751953125 else to node 131.\n",
      "\t\t\t\t\t\t\t\t\t\t\t\t\t\t\t\t\tnode=128 test node: go to node 129 if X[:, 1] <= 11.63947057723999 else to node 130.\n",
      "\t\t\t\t\t\t\t\t\t\t\t\t\t\t\t\t\t\tnode=129 leaf node.\n",
      "\t\t\t\t\t\t\t\t\t\t\t\t\t\t\t\t\t\tnode=130 leaf node.\n",
      "\t\t\t\t\t\t\t\t\t\t\t\t\t\t\t\t\tnode=131 leaf node.\n",
      "\t\t\t\t\t\t\t\t\t\t\t\t\t\tnode=132 leaf node.\n",
      "\t\t\t\t\t\t\t\t\t\t\tnode=133 leaf node.\n",
      "\t\t\t\t\t\t\t\t\tnode=134 test node: go to node 135 if X[:, 1] <= 11.431783676147461 else to node 146.\n",
      "\t\t\t\t\t\t\t\t\t\tnode=135 test node: go to node 136 if X[:, 3] <= 5123.020751953125 else to node 145.\n",
      "\t\t\t\t\t\t\t\t\t\t\tnode=136 test node: go to node 137 if X[:, 0] <= 103.05000305175781 else to node 138.\n",
      "\t\t\t\t\t\t\t\t\t\t\t\tnode=137 leaf node.\n",
      "\t\t\t\t\t\t\t\t\t\t\t\tnode=138 test node: go to node 139 if X[:, 0] <= 317.9100036621094 else to node 144.\n",
      "\t\t\t\t\t\t\t\t\t\t\t\t\tnode=139 test node: go to node 140 if X[:, 0] <= 169.4550018310547 else to node 143.\n",
      "\t\t\t\t\t\t\t\t\t\t\t\t\t\tnode=140 test node: go to node 141 if X[:, 0] <= 130.22000122070312 else to node 142.\n",
      "\t\t\t\t\t\t\t\t\t\t\t\t\t\t\tnode=141 leaf node.\n",
      "\t\t\t\t\t\t\t\t\t\t\t\t\t\t\tnode=142 leaf node.\n",
      "\t\t\t\t\t\t\t\t\t\t\t\t\t\tnode=143 leaf node.\n",
      "\t\t\t\t\t\t\t\t\t\t\t\t\tnode=144 leaf node.\n",
      "\t\t\t\t\t\t\t\t\t\t\tnode=145 leaf node.\n",
      "\t\t\t\t\t\t\t\t\t\tnode=146 leaf node.\n",
      "\t\t\t\t\t\tnode=147 test node: go to node 148 if X[:, 0] <= 132.0449981689453 else to node 149.\n",
      "\t\t\t\t\t\t\tnode=148 leaf node.\n",
      "\t\t\t\t\t\t\tnode=149 test node: go to node 150 if X[:, 0] <= 134.7750015258789 else to node 151.\n",
      "\t\t\t\t\t\t\t\tnode=150 leaf node.\n",
      "\t\t\t\t\t\t\t\tnode=151 test node: go to node 152 if X[:, 3] <= 6464.979248046875 else to node 153.\n",
      "\t\t\t\t\t\t\t\t\tnode=152 leaf node.\n",
      "\t\t\t\t\t\t\t\t\tnode=153 test node: go to node 154 if X[:, 0] <= 153.02000427246094 else to node 155.\n",
      "\t\t\t\t\t\t\t\t\t\tnode=154 leaf node.\n",
      "\t\t\t\t\t\t\t\t\t\tnode=155 test node: go to node 156 if X[:, 2] <= 12.440000057220459 else to node 161.\n",
      "\t\t\t\t\t\t\t\t\t\t\tnode=156 test node: go to node 157 if X[:, 0] <= 329.86000061035156 else to node 158.\n",
      "\t\t\t\t\t\t\t\t\t\t\t\tnode=157 leaf node.\n",
      "\t\t\t\t\t\t\t\t\t\t\t\tnode=158 test node: go to node 159 if X[:, 4] <= 0.5 else to node 160.\n",
      "\t\t\t\t\t\t\t\t\t\t\t\t\tnode=159 leaf node.\n",
      "\t\t\t\t\t\t\t\t\t\t\t\t\tnode=160 leaf node.\n",
      "\t\t\t\t\t\t\t\t\t\t\tnode=161 test node: go to node 162 if X[:, 0] <= 181.4749984741211 else to node 163.\n",
      "\t\t\t\t\t\t\t\t\t\t\t\tnode=162 leaf node.\n",
      "\t\t\t\t\t\t\t\t\t\t\t\tnode=163 test node: go to node 164 if X[:, 2] <= 12.880000114440918 else to node 165.\n",
      "\t\t\t\t\t\t\t\t\t\t\t\t\tnode=164 leaf node.\n",
      "\t\t\t\t\t\t\t\t\t\t\t\t\tnode=165 test node: go to node 166 if X[:, 6] <= 0.5 else to node 167.\n",
      "\t\t\t\t\t\t\t\t\t\t\t\t\t\tnode=166 leaf node.\n",
      "\t\t\t\t\t\t\t\t\t\t\t\t\t\tnode=167 test node: go to node 168 if X[:, 3] <= 7875.02099609375 else to node 171.\n",
      "\t\t\t\t\t\t\t\t\t\t\t\t\t\t\tnode=168 test node: go to node 169 if X[:, 1] <= 11.270671367645264 else to node 170.\n",
      "\t\t\t\t\t\t\t\t\t\t\t\t\t\t\t\tnode=169 leaf node.\n",
      "\t\t\t\t\t\t\t\t\t\t\t\t\t\t\t\tnode=170 leaf node.\n",
      "\t\t\t\t\t\t\t\t\t\t\t\t\t\t\tnode=171 leaf node.\n",
      "\t\t\t\tnode=172 test node: go to node 173 if X[:, 10] <= 0.5 else to node 188.\n",
      "\t\t\t\t\tnode=173 test node: go to node 174 if X[:, 6] <= 0.5 else to node 175.\n",
      "\t\t\t\t\t\tnode=174 leaf node.\n",
      "\t\t\t\t\t\tnode=175 test node: go to node 176 if X[:, 1] <= 10.353861808776855 else to node 177.\n",
      "\t\t\t\t\t\t\tnode=176 leaf node.\n",
      "\t\t\t\t\t\t\tnode=177 test node: go to node 178 if X[:, 0] <= 352.07000732421875 else to node 183.\n",
      "\t\t\t\t\t\t\t\tnode=178 test node: go to node 179 if X[:, 0] <= 340.86000061035156 else to node 180.\n",
      "\t\t\t\t\t\t\t\t\tnode=179 leaf node.\n",
      "\t\t\t\t\t\t\t\t\tnode=180 test node: go to node 181 if X[:, 3] <= 7409.020751953125 else to node 182.\n",
      "\t\t\t\t\t\t\t\t\t\tnode=181 leaf node.\n",
      "\t\t\t\t\t\t\t\t\t\tnode=182 leaf node.\n",
      "\t\t\t\t\t\t\t\tnode=183 test node: go to node 184 if X[:, 1] <= 10.863783836364746 else to node 185.\n",
      "\t\t\t\t\t\t\t\t\tnode=184 leaf node.\n",
      "\t\t\t\t\t\t\t\t\tnode=185 test node: go to node 186 if X[:, 2] <= 17.885000228881836 else to node 187.\n",
      "\t\t\t\t\t\t\t\t\t\tnode=186 leaf node.\n",
      "\t\t\t\t\t\t\t\t\t\tnode=187 leaf node.\n",
      "\t\t\t\t\tnode=188 leaf node.\n",
      "\t\t\tnode=189 test node: go to node 190 if X[:, 0] <= 405.89500427246094 else to node 191.\n",
      "\t\t\t\tnode=190 leaf node.\n",
      "\t\t\t\tnode=191 test node: go to node 192 if X[:, 0] <= 406.49000549316406 else to node 195.\n",
      "\t\t\t\t\tnode=192 test node: go to node 193 if X[:, 1] <= 10.765625476837158 else to node 194.\n",
      "\t\t\t\t\t\tnode=193 leaf node.\n",
      "\t\t\t\t\t\tnode=194 leaf node.\n",
      "\t\t\t\t\tnode=195 test node: go to node 196 if X[:, 3] <= 4726.020751953125 else to node 197.\n",
      "\t\t\t\t\t\tnode=196 leaf node.\n",
      "\t\t\t\t\t\tnode=197 test node: go to node 198 if X[:, 3] <= 4964.5 else to node 199.\n",
      "\t\t\t\t\t\t\tnode=198 leaf node.\n",
      "\t\t\t\t\t\t\tnode=199 leaf node.\n",
      "\tnode=200 test node: go to node 201 if X[:, 0] <= 845.72998046875 else to node 298.\n",
      "\t\tnode=201 test node: go to node 202 if X[:, 0] <= 484.3300018310547 else to node 205.\n",
      "\t\t\tnode=202 test node: go to node 203 if X[:, 2] <= 4.9100000858306885 else to node 204.\n",
      "\t\t\t\tnode=203 leaf node.\n",
      "\t\t\t\tnode=204 leaf node.\n",
      "\t\t\tnode=205 test node: go to node 206 if X[:, 0] <= 489.6600036621094 else to node 207.\n",
      "\t\t\t\tnode=206 leaf node.\n",
      "\t\t\t\tnode=207 test node: go to node 208 if X[:, 0] <= 492.61500549316406 else to node 209.\n",
      "\t\t\t\t\tnode=208 leaf node.\n",
      "\t\t\t\t\tnode=209 test node: go to node 210 if X[:, 3] <= 10049.5 else to node 297.\n",
      "\t\t\t\t\t\tnode=210 test node: go to node 211 if X[:, 2] <= 24.730000495910645 else to node 296.\n",
      "\t\t\t\t\t\t\tnode=211 test node: go to node 212 if X[:, 0] <= 823.6099853515625 else to node 295.\n",
      "\t\t\t\t\t\t\t\tnode=212 test node: go to node 213 if X[:, 0] <= 814.3450012207031 else to node 290.\n",
      "\t\t\t\t\t\t\t\t\tnode=213 test node: go to node 214 if X[:, 1] <= 13.294297695159912 else to node 289.\n",
      "\t\t\t\t\t\t\t\t\t\tnode=214 test node: go to node 215 if X[:, 1] <= 11.921712875366211 else to node 288.\n",
      "\t\t\t\t\t\t\t\t\t\t\tnode=215 test node: go to node 216 if X[:, 3] <= 1395.0208129882812 else to node 217.\n",
      "\t\t\t\t\t\t\t\t\t\t\t\tnode=216 leaf node.\n",
      "\t\t\t\t\t\t\t\t\t\t\t\tnode=217 test node: go to node 218 if X[:, 3] <= 1829.9791870117188 else to node 219.\n",
      "\t\t\t\t\t\t\t\t\t\t\t\t\tnode=218 leaf node.\n",
      "\t\t\t\t\t\t\t\t\t\t\t\t\tnode=219 test node: go to node 220 if X[:, 3] <= 1874.9791870117188 else to node 221.\n",
      "\t\t\t\t\t\t\t\t\t\t\t\t\t\tnode=220 leaf node.\n",
      "\t\t\t\t\t\t\t\t\t\t\t\t\t\tnode=221 test node: go to node 222 if X[:, 3] <= 2129.9791259765625 else to node 223.\n",
      "\t\t\t\t\t\t\t\t\t\t\t\t\t\t\tnode=222 leaf node.\n",
      "\t\t\t\t\t\t\t\t\t\t\t\t\t\t\tnode=223 test node: go to node 224 if X[:, 3] <= 2504.5 else to node 229.\n",
      "\t\t\t\t\t\t\t\t\t\t\t\t\t\t\t\tnode=224 test node: go to node 225 if X[:, 2] <= 14.774999618530273 else to node 226.\n",
      "\t\t\t\t\t\t\t\t\t\t\t\t\t\t\t\t\tnode=225 leaf node.\n",
      "\t\t\t\t\t\t\t\t\t\t\t\t\t\t\t\t\tnode=226 test node: go to node 227 if X[:, 3] <= 2460.0 else to node 228.\n",
      "\t\t\t\t\t\t\t\t\t\t\t\t\t\t\t\t\t\tnode=227 leaf node.\n",
      "\t\t\t\t\t\t\t\t\t\t\t\t\t\t\t\t\t\tnode=228 leaf node.\n",
      "\t\t\t\t\t\t\t\t\t\t\t\t\t\t\t\tnode=229 test node: go to node 230 if X[:, 0] <= 635.0500183105469 else to node 255.\n",
      "\t\t\t\t\t\t\t\t\t\t\t\t\t\t\t\t\tnode=230 test node: go to node 231 if X[:, 0] <= 537.0700073242188 else to node 248.\n",
      "\t\t\t\t\t\t\t\t\t\t\t\t\t\t\t\t\t\tnode=231 test node: go to node 232 if X[:, 0] <= 534.39501953125 else to node 247.\n",
      "\t\t\t\t\t\t\t\t\t\t\t\t\t\t\t\t\t\t\tnode=232 test node: go to node 233 if X[:, 2] <= 17.460000038146973 else to node 246.\n",
      "\t\t\t\t\t\t\t\t\t\t\t\t\t\t\t\t\t\t\t\tnode=233 test node: go to node 234 if X[:, 1] <= 10.8711576461792 else to node 239.\n",
      "\t\t\t\t\t\t\t\t\t\t\t\t\t\t\t\t\t\t\t\t\tnode=234 test node: go to node 235 if X[:, 3] <= 4275.0 else to node 238.\n",
      "\t\t\t\t\t\t\t\t\t\t\t\t\t\t\t\t\t\t\t\t\t\tnode=235 test node: go to node 236 if X[:, 0] <= 505.9949951171875 else to node 237.\n",
      "\t\t\t\t\t\t\t\t\t\t\t\t\t\t\t\t\t\t\t\t\t\t\tnode=236 leaf node.\n",
      "\t\t\t\t\t\t\t\t\t\t\t\t\t\t\t\t\t\t\t\t\t\t\tnode=237 leaf node.\n",
      "\t\t\t\t\t\t\t\t\t\t\t\t\t\t\t\t\t\t\t\t\t\tnode=238 leaf node.\n",
      "\t\t\t\t\t\t\t\t\t\t\t\t\t\t\t\t\t\t\t\t\tnode=239 test node: go to node 240 if X[:, 2] <= 14.710000038146973 else to node 241.\n",
      "\t\t\t\t\t\t\t\t\t\t\t\t\t\t\t\t\t\t\t\t\t\tnode=240 leaf node.\n",
      "\t\t\t\t\t\t\t\t\t\t\t\t\t\t\t\t\t\t\t\t\t\tnode=241 test node: go to node 242 if X[:, 0] <= 503.44500732421875 else to node 243.\n",
      "\t\t\t\t\t\t\t\t\t\t\t\t\t\t\t\t\t\t\t\t\t\t\tnode=242 leaf node.\n",
      "\t\t\t\t\t\t\t\t\t\t\t\t\t\t\t\t\t\t\t\t\t\t\tnode=243 test node: go to node 244 if X[:, 3] <= 3735.0208740234375 else to node 245.\n",
      "\t\t\t\t\t\t\t\t\t\t\t\t\t\t\t\t\t\t\t\t\t\t\t\tnode=244 leaf node.\n",
      "\t\t\t\t\t\t\t\t\t\t\t\t\t\t\t\t\t\t\t\t\t\t\t\tnode=245 leaf node.\n",
      "\t\t\t\t\t\t\t\t\t\t\t\t\t\t\t\t\t\t\t\tnode=246 leaf node.\n",
      "\t\t\t\t\t\t\t\t\t\t\t\t\t\t\t\t\t\t\tnode=247 leaf node.\n",
      "\t\t\t\t\t\t\t\t\t\t\t\t\t\t\t\t\t\tnode=248 test node: go to node 249 if X[:, 2] <= 21.260000228881836 else to node 254.\n",
      "\t\t\t\t\t\t\t\t\t\t\t\t\t\t\t\t\t\t\tnode=249 test node: go to node 250 if X[:, 4] <= 0.5 else to node 251.\n",
      "\t\t\t\t\t\t\t\t\t\t\t\t\t\t\t\t\t\t\t\tnode=250 leaf node.\n",
      "\t\t\t\t\t\t\t\t\t\t\t\t\t\t\t\t\t\t\t\tnode=251 test node: go to node 252 if X[:, 2] <= 7.519999980926514 else to node 253.\n",
      "\t\t\t\t\t\t\t\t\t\t\t\t\t\t\t\t\t\t\t\t\tnode=252 leaf node.\n",
      "\t\t\t\t\t\t\t\t\t\t\t\t\t\t\t\t\t\t\t\t\tnode=253 leaf node.\n",
      "\t\t\t\t\t\t\t\t\t\t\t\t\t\t\t\t\t\t\tnode=254 leaf node.\n",
      "\t\t\t\t\t\t\t\t\t\t\t\t\t\t\t\t\tnode=255 test node: go to node 256 if X[:, 1] <= 10.470477104187012 else to node 257.\n",
      "\t\t\t\t\t\t\t\t\t\t\t\t\t\t\t\t\t\tnode=256 leaf node.\n",
      "\t\t\t\t\t\t\t\t\t\t\t\t\t\t\t\t\t\tnode=257 test node: go to node 258 if X[:, 2] <= 14.25 else to node 277.\n",
      "\t\t\t\t\t\t\t\t\t\t\t\t\t\t\t\t\t\t\tnode=258 test node: go to node 259 if X[:, 0] <= 799.89501953125 else to node 276.\n",
      "\t\t\t\t\t\t\t\t\t\t\t\t\t\t\t\t\t\t\t\tnode=259 test node: go to node 260 if X[:, 2] <= 10.199999809265137 else to node 275.\n",
      "\t\t\t\t\t\t\t\t\t\t\t\t\t\t\t\t\t\t\t\t\tnode=260 test node: go to node 261 if X[:, 4] <= 0.5 else to node 274.\n",
      "\t\t\t\t\t\t\t\t\t\t\t\t\t\t\t\t\t\t\t\t\t\tnode=261 test node: go to node 262 if X[:, 0] <= 677.6499938964844 else to node 263.\n",
      "\t\t\t\t\t\t\t\t\t\t\t\t\t\t\t\t\t\t\t\t\t\t\tnode=262 leaf node.\n",
      "\t\t\t\t\t\t\t\t\t\t\t\t\t\t\t\t\t\t\t\t\t\t\tnode=263 test node: go to node 264 if X[:, 6] <= 0.5 else to node 269.\n",
      "\t\t\t\t\t\t\t\t\t\t\t\t\t\t\t\t\t\t\t\t\t\t\t\tnode=264 test node: go to node 265 if X[:, 1] <= 11.471234321594238 else to node 268.\n",
      "\t\t\t\t\t\t\t\t\t\t\t\t\t\t\t\t\t\t\t\t\t\t\t\t\tnode=265 test node: go to node 266 if X[:, 3] <= 3091.4791259765625 else to node 267.\n",
      "\t\t\t\t\t\t\t\t\t\t\t\t\t\t\t\t\t\t\t\t\t\t\t\t\t\tnode=266 leaf node.\n",
      "\t\t\t\t\t\t\t\t\t\t\t\t\t\t\t\t\t\t\t\t\t\t\t\t\t\tnode=267 leaf node.\n",
      "\t\t\t\t\t\t\t\t\t\t\t\t\t\t\t\t\t\t\t\t\t\t\t\t\tnode=268 leaf node.\n",
      "\t\t\t\t\t\t\t\t\t\t\t\t\t\t\t\t\t\t\t\t\t\t\t\tnode=269 test node: go to node 270 if X[:, 2] <= 4.605000019073486 else to node 271.\n",
      "\t\t\t\t\t\t\t\t\t\t\t\t\t\t\t\t\t\t\t\t\t\t\t\t\tnode=270 leaf node.\n",
      "\t\t\t\t\t\t\t\t\t\t\t\t\t\t\t\t\t\t\t\t\t\t\t\t\tnode=271 test node: go to node 272 if X[:, 0] <= 699.7749938964844 else to node 273.\n",
      "\t\t\t\t\t\t\t\t\t\t\t\t\t\t\t\t\t\t\t\t\t\t\t\t\t\tnode=272 leaf node.\n",
      "\t\t\t\t\t\t\t\t\t\t\t\t\t\t\t\t\t\t\t\t\t\t\t\t\t\tnode=273 leaf node.\n",
      "\t\t\t\t\t\t\t\t\t\t\t\t\t\t\t\t\t\t\t\t\t\tnode=274 leaf node.\n",
      "\t\t\t\t\t\t\t\t\t\t\t\t\t\t\t\t\t\t\t\t\tnode=275 leaf node.\n",
      "\t\t\t\t\t\t\t\t\t\t\t\t\t\t\t\t\t\t\t\tnode=276 leaf node.\n",
      "\t\t\t\t\t\t\t\t\t\t\t\t\t\t\t\t\t\t\tnode=277 test node: go to node 278 if X[:, 6] <= 0.5 else to node 279.\n",
      "\t\t\t\t\t\t\t\t\t\t\t\t\t\t\t\t\t\t\t\tnode=278 leaf node.\n",
      "\t\t\t\t\t\t\t\t\t\t\t\t\t\t\t\t\t\t\t\tnode=279 test node: go to node 280 if X[:, 2] <= 19.170000076293945 else to node 287.\n",
      "\t\t\t\t\t\t\t\t\t\t\t\t\t\t\t\t\t\t\t\t\tnode=280 test node: go to node 281 if X[:, 1] <= 11.353029251098633 else to node 286.\n",
      "\t\t\t\t\t\t\t\t\t\t\t\t\t\t\t\t\t\t\t\t\t\tnode=281 test node: go to node 282 if X[:, 2] <= 15.710000038146973 else to node 285.\n",
      "\t\t\t\t\t\t\t\t\t\t\t\t\t\t\t\t\t\t\t\t\t\t\tnode=282 test node: go to node 283 if X[:, 1] <= 10.97787618637085 else to node 284.\n",
      "\t\t\t\t\t\t\t\t\t\t\t\t\t\t\t\t\t\t\t\t\t\t\t\tnode=283 leaf node.\n",
      "\t\t\t\t\t\t\t\t\t\t\t\t\t\t\t\t\t\t\t\t\t\t\t\tnode=284 leaf node.\n",
      "\t\t\t\t\t\t\t\t\t\t\t\t\t\t\t\t\t\t\t\t\t\t\tnode=285 leaf node.\n",
      "\t\t\t\t\t\t\t\t\t\t\t\t\t\t\t\t\t\t\t\t\t\tnode=286 leaf node.\n"
     ]
    },
    {
     "name": "stdout",
     "output_type": "stream",
     "text": [
      "\t\t\t\t\t\t\t\t\t\t\t\t\t\t\t\t\t\t\t\t\tnode=287 leaf node.\n",
      "\t\t\t\t\t\t\t\t\t\t\tnode=288 leaf node.\n",
      "\t\t\t\t\t\t\t\t\t\tnode=289 leaf node.\n",
      "\t\t\t\t\t\t\t\t\tnode=290 test node: go to node 291 if X[:, 0] <= 818.4749755859375 else to node 292.\n",
      "\t\t\t\t\t\t\t\t\t\tnode=291 leaf node.\n",
      "\t\t\t\t\t\t\t\t\t\tnode=292 test node: go to node 293 if X[:, 0] <= 820.2249755859375 else to node 294.\n",
      "\t\t\t\t\t\t\t\t\t\t\tnode=293 leaf node.\n",
      "\t\t\t\t\t\t\t\t\t\t\tnode=294 leaf node.\n",
      "\t\t\t\t\t\t\t\tnode=295 leaf node.\n",
      "\t\t\t\t\t\t\tnode=296 leaf node.\n",
      "\t\t\t\t\t\tnode=297 leaf node.\n",
      "\t\tnode=298 test node: go to node 299 if X[:, 3] <= 8159.52099609375 else to node 302.\n",
      "\t\t\tnode=299 test node: go to node 300 if X[:, 1] <= 11.665194988250732 else to node 301.\n",
      "\t\t\t\tnode=300 leaf node.\n",
      "\t\t\t\tnode=301 leaf node.\n",
      "\t\t\tnode=302 leaf node.\n",
      "()\n"
     ]
    }
   ],
   "source": [
    "dtree = DecisionTreeClassifier(criterion='entropy',max_depth=None)\n",
    "dtree.fit(X_train,y_train)\n",
    "tree_properties(dtree)"
   ]
  },
  {
   "cell_type": "code",
   "execution_count": 34,
   "metadata": {},
   "outputs": [
    {
     "name": "stdout",
     "output_type": "stream",
     "text": [
      "(0.830545403780472, 0.8167960180578715, 0.8230449521946863)\n"
     ]
    }
   ],
   "source": [
    "avg_p=0.\n",
    "avg_r=0.\n",
    "avg_f1=0.\n",
    "\n",
    "for train_index, test_index in kf.split(X):\n",
    "    #print(\"TRAIN:\", train_index, \"TEST:\", test_index)\n",
    "    X_train, X_test = X[train_index], X[test_index]\n",
    "    y_train, y_test = y[train_index], y[test_index]\n",
    "    dtree.fit(X_train,y_train)\n",
    "    \n",
    "    y_pred = dtree.predict(X_test)\n",
    "    \n",
    "    p, r, f1, s = precision_recall_fscore_support(y_test, y_pred)\n",
    "    \n",
    "    avg_p += p[0]\n",
    "    avg_r += r[0]\n",
    "    avg_f1 += f1[0]\n",
    "\n",
    "print(avg_p/5., avg_r/5., avg_f1/5.)"
   ]
  },
  {
   "cell_type": "raw",
   "metadata": {},
   "source": [
    "from sklearn.model_selection import LeaveOneOut \n",
    "\n",
    "loo = LeaveOneOut()\n",
    "loo.get_n_splits(X)\n",
    "\n",
    "y_true_list = []\n",
    "y_pred_list = []\n",
    "for train_index, test_index in loo.split(X):\n",
    "#     print(\"TRAIN:\", train_index, \"TEST:\", test_index)\n",
    "    X_train, X_test = X[train_index], X[test_index]\n",
    "    y_train, y_test = y[train_index], y[test_index]\n",
    "    \n",
    "    y_pred = dtree.predict(X_test)\n",
    "    \n",
    "    y_true_list.append(y_test[0])\n",
    "    y_pred_list.append(y_pred[0])\n",
    "\n",
    "\n",
    "p, r, f1, s = precision_recall_fscore_support(y_true_list, y_pred_list)\n",
    "\n",
    "print(p)\n",
    "    \n"
   ]
  },
  {
   "cell_type": "markdown",
   "metadata": {},
   "source": [
    "## Random Forests Demo"
   ]
  },
  {
   "cell_type": "code",
   "execution_count": 35,
   "metadata": {},
   "outputs": [],
   "source": [
    "from sklearn.ensemble import RandomForestClassifier\n"
   ]
  },
  {
   "cell_type": "code",
   "execution_count": 50,
   "metadata": {},
   "outputs": [
    {
     "name": "stdout",
     "output_type": "stream",
     "text": [
      "(0.125, 0.021739130434782608, 0.03703703703703704)\n",
      "[0.         0.00340136 0.00340136 0.00519481 0.00510204 0.00352734\n",
      " 0.00645682 0.00352734 0.00352734 0.0034632  0.0034632  0.00359389\n",
      " 0.00179695 0.00179695 0.00352734 0.00668338 0.00352734 0.00352734\n",
      " 0.00519481 0.00519481 0.00176367]\n"
     ]
    }
   ],
   "source": [
    "# rfc = RandomForestClassifier(n_estimators=100)\n",
    "\n",
    "#splitting data set into 70-30 split validation\n",
    "X_train, X_test, y_train, y_test = train_test_split( X, y, test_size = 0.3, random_state = 100)\n",
    "\n",
    "avg_p=0.\n",
    "avg_r=0.\n",
    "avg_f1=0.\n",
    "\n",
    "nsimu = 21\n",
    "f1_cum=[0]*nsimu\n",
    "ntree = [0]*nsimu\n",
    "for i in range(1,nsimu):\n",
    "#     rfc = RandomForestClassifier(n_estimators=i*5, max_depth=None,criterion='entropy')\n",
    "    rfc = RandomForestClassifier(n_estimators=100, max_depth=None,criterion='entropy')\n",
    "    rfc.fit(X_train, y_train)\n",
    "    y_pred = rfc.predict(X_test)\n",
    "    \n",
    "    p, r, f1, s = precision_recall_fscore_support(y_test, y_pred)\n",
    "#     print p[1]\n",
    "    f1_cum[i] += f1[1]\n",
    "    ntree[i]=i*5\n",
    "    \n",
    "    avg_p += p[1]\n",
    "    avg_r += r[1]\n",
    "    avg_f1 += f1[1]\n",
    "\n",
    "print(p[1], r[1], f1[1])\n",
    "\n",
    "f1_cum = np.array(f1_cum)\n",
    "f1_cum /= nsimu\n",
    "print(f1_cum)"
   ]
  },
  {
   "cell_type": "code",
   "execution_count": 53,
   "metadata": {},
   "outputs": [
    {
     "name": "stdout",
     "output_type": "stream",
     "text": [
      "0.25\n",
      "0.043478260869565216\n",
      "0.07407407407407408\n"
     ]
    }
   ],
   "source": [
    "    X_train, X_test, y_train, y_test = train_test_split( X, y, test_size = 0.3, random_state = 100)\n",
    "\n",
    "\n",
    "    rfc = RandomForestClassifier(n_estimators=100, max_depth=None,criterion='entropy')\n",
    "    rfc.fit(X_train, y_train)\n",
    "    y_pred = rfc.predict(X_test)\n",
    "    \n",
    "    p, r, f1, s = precision_recall_fscore_support(y_test, y_pred)\n",
    "    \n",
    "    print p[1]\n",
    "    print r[1]\n",
    "    print f1[1]"
   ]
  },
  {
   "cell_type": "code",
   "execution_count": 41,
   "metadata": {},
   "outputs": [
    {
     "data": {
      "text/plain": [
       "Text(0,0.5,'F1')"
      ]
     },
     "execution_count": 41,
     "metadata": {},
     "output_type": "execute_result"
    },
    {
     "data": {
      "image/png": "[encoded data removed]",
      "text/plain": [
       "<Figure size 720x432 with 1 Axes>"
      ]
     },
     "metadata": {
      "needs_background": "light"
     },
     "output_type": "display_data"
    }
   ],
   "source": [
    "plt.figure(figsize=(10,6))\n",
    "plt.scatter(x=ntree[1:nsimu],y=f1_cum[1:nsimu],s=60,c='red')\n",
    "plt.title(\"Number of trees in the Random Forest vs. F1 (criterion: 'gini')\", fontsize=18)\n",
    "plt.xlabel(\"Number of trees\", fontsize=15)\n",
    "plt.ylabel(\"F1\", fontsize=15)"
   ]
  },
  {
   "cell_type": "markdown",
   "metadata": {},
   "source": [
    "## Logistic Regression Demo"
   ]
  },
  {
   "cell_type": "markdown",
   "metadata": {},
   "source": [
    "\n",
    "$class sklearn.linear_model.LogisticRegression$(penalty='l2', dual=False, tol=0.0001, C=1.0, fit_intercept=True, intercept_scaling=1, class_weight=None, random_state=None, solver='warn', max_iter=100, multi_class='warn', verbose=0, warm_start=False, n_jobs=None)\n"
   ]
  },
  {
   "cell_type": "code",
   "execution_count": 52,
   "metadata": {},
   "outputs": [
    {
     "name": "stdout",
     "output_type": "stream",
     "text": [
      "(0.2, 0.004651162790697674, 0.00909090909090909)\n"
     ]
    }
   ],
   "source": [
    "from sklearn.linear_model import LogisticRegression\n",
    "\n",
    "model = LogisticRegression(C=1.,tol=1e-4, max_iter=200,n_jobs=4, penalty='l1')\n",
    "\n",
    "avg_p=0.\n",
    "avg_r=0.\n",
    "avg_f1=0.\n",
    "\n",
    "for train_index, test_index in kf.split(X):\n",
    "    #print(\"TRAIN:\", train_index, \"TEST:\", test_index)\n",
    "    X_train, X_test = X[train_index], X[test_index]\n",
    "    y_train, y_test = y[train_index], y[test_index]\n",
    "    model.fit(X_train,y_train)\n",
    "    \n",
    "    y_pred = model.predict(X_test)\n",
    "    \n",
    "    p, r, f1, s = precision_recall_fscore_support(y_test, y_pred)\n",
    "    \n",
    "    avg_p += p[1]\n",
    "    avg_r += r[1]\n",
    "    avg_f1 += f1[1]\n",
    "\n",
    "print(avg_p/5., avg_r/5., avg_f1/5.)"
   ]
  },
  {
   "cell_type": "code",
   "execution_count": null,
   "metadata": {},
   "outputs": [],
   "source": [
    "nsimu=201\n",
    "penalty=[0]*nsimu\n",
    "logmodel=[0]*nsimu\n",
    "predictions =[0]*nsimu\n",
    "class_report = [0]*nsimu\n",
    "f1=[0]*nsimu\n",
    "for i in range(1,nsimu):\n",
    "#         logmodel[i] =(LogisticRegression(C=i/1000,tol=1e-4, max_iter=100,n_jobs=4))\n",
    "        logmodel[i].fit(X_train,y_train)\n",
    "        predictions[i] = logmodel[i].predict(X_test)\n",
    "        class_report[i] = classification_report(y_test,predictions[i])\n",
    "        l=class_report[i].split()\n",
    "        f1[i] = l[len(l)-2]\n",
    "        penalty[i]=1000/i\n",
    "\n",
    "plt.scatter(penalty[1:len(penalty)-2],f1[1:len(f1)-2])\n",
    "plt.title(\"F1-score vs. regularization parameter\",fontsize=20)\n",
    "plt.xlabel(\"Penalty parameter\",fontsize=17)\n",
    "plt.ylabel(\"F1-score on test data\",fontsize=17)\n",
    "plt.show()"
   ]
  }
 ],
 "metadata": {
  "kernelspec": {
   "display_name": "Python 2",
   "language": "python",
   "name": "python2"
  },
  "language_info": {
   "codemirror_mode": {
    "name": "ipython",
    "version": 2
   },
   "file_extension": ".py",
   "mimetype": "text/x-python",
   "name": "python",
   "nbconvert_exporter": "python",
   "pygments_lexer": "ipython2",
   "version": "2.7.15"
  }
 },
 "nbformat": 4,
 "nbformat_minor": 2
}
