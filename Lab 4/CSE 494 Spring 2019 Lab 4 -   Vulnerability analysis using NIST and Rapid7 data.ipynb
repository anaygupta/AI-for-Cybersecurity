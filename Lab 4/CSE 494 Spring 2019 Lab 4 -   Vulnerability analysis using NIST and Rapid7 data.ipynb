{
 "cells": [
  {
   "cell_type": "markdown",
   "metadata": {},
   "source": [
    "## Lab 4: CVE Data Analysis using NVD JSON files and Rapid7/Symantec exploit data\n",
    "\n",
    "### Objectives of the lab:\n",
    " - See where to extract CVE data from and use them to extract features for the vulnerabilities\n",
    " - Get information about POCs and exploits about these CVEs"
   ]
  },
  {
   "cell_type": "code",
   "execution_count": 10,
   "metadata": {},
   "outputs": [],
   "source": [
    "import pandas as pd\n",
    "import json\n",
    "import numpy as np"
   ]
  },
  {
   "cell_type": "markdown",
   "metadata": {},
   "source": [
    "#### The data for CVEs can be downloaded in JSON format from the NIST NVD database  https://nvd.nist.gov/vuln/data-feeds"
   ]
  },
  {
   "cell_type": "code",
   "execution_count": 29,
   "metadata": {},
   "outputs": [],
   "source": [
    "cve_json_data = json.load(open('nvdcve-1.0-2016.json'))\n"
   ]
  },
  {
   "cell_type": "code",
   "execution_count": 30,
   "metadata": {},
   "outputs": [
    {
     "name": "stdout",
     "output_type": "stream",
     "text": [
      "CVE_data_timestamp\n",
      "CVE_data_version\n",
      "CVE_Items\n",
      "CVE_data_format\n",
      "CVE_data_numberOfCVEs\n",
      "CVE_data_type\n"
     ]
    }
   ],
   "source": [
    "for key in cve_json_data:\n",
    "    print(key)"
   ]
  },
  {
   "cell_type": "markdown",
   "metadata": {},
   "source": [
    "#### We will work with only the CVE_items field and its data"
   ]
  },
  {
   "cell_type": "code",
   "execution_count": 31,
   "metadata": {},
   "outputs": [
    {
     "name": "stdout",
     "output_type": "stream",
     "text": [
      "9872\n"
     ]
    }
   ],
   "source": [
    "num_items = len(cve_json_data['CVE_Items'])\n",
    "print(num_items)"
   ]
  },
  {
   "cell_type": "markdown",
   "metadata": {},
   "source": [
    "#### Collect the exhaustive list of keys for the feature extraction part"
   ]
  },
  {
   "cell_type": "code",
   "execution_count": 32,
   "metadata": {},
   "outputs": [
    {
     "name": "stdout",
     "output_type": "stream",
     "text": [
      "description\n",
      "data_type\n",
      "affects\n",
      "data_format\n",
      "problemtype\n",
      "data_version\n",
      "references\n",
      "CVE_data_meta\n"
     ]
    }
   ],
   "source": [
    "keys_set = set()\n",
    "\n",
    "for idx in range(len(cve_json_data['CVE_Items'])):\n",
    "    cve_data = cve_json_data['CVE_Items'][idx]\n",
    "    \n",
    "    for key in cve_data['cve']:\n",
    "        keys_set.add(key)\n",
    "    \n",
    "\n",
    "for k in keys_set:\n",
    "    print(k)"
   ]
  },
  {
   "cell_type": "markdown",
   "metadata": {},
   "source": [
    "### Exercise 1: Get the CVE ID for the 1st item in your json file and report it"
   ]
  },
  {
   "cell_type": "code",
   "execution_count": 33,
   "metadata": {},
   "outputs": [
    {
     "name": "stdout",
     "output_type": "stream",
     "text": [
      "CVE-2016-0001\n"
     ]
    }
   ],
   "source": [
    "## Fill in our code and get the value - 5 to 10 minutes\n",
    "cv_ids = []\n",
    "for idx in range(len(cve_json_data['CVE_Items'])):\n",
    "    cve_data = cve_json_data['CVE_Items'][idx]\n",
    "    cv_ids.append(cve_data['cve']['CVE_data_meta']['ID'])\n",
    "    \n",
    "print cv_ids[0]"
   ]
  },
  {
   "cell_type": "markdown",
   "metadata": {},
   "source": [
    "#### Create a dataframe and store the features for each CVE"
   ]
  },
  {
   "cell_type": "code",
   "execution_count": 34,
   "metadata": {},
   "outputs": [
    {
     "name": "stdout",
     "output_type": "stream",
     "text": [
      "<type 'unicode'>\n",
      "9872\n"
     ]
    }
   ],
   "source": [
    "cve_feat = pd.DataFrame(columns = list(keys_set))\n",
    "\n",
    "\n",
    "columns_to_select = ['']\n",
    "\n",
    "cve_nvd_ids = []\n",
    "for idx in range(len(cve_json_data['CVE_Items'])):\n",
    "    cve_data = cve_json_data['CVE_Items'][idx]\n",
    "    \n",
    "    cve_metadata = cve_data['cve']['CVE_data_meta']\n",
    "    \n",
    "    cve_nvd_ids.append(cve_metadata['ID'])\n",
    "\n",
    "print(type(cve_nvd_ids[0]))\n",
    "print(len(cve_nvd_ids))"
   ]
  },
  {
   "cell_type": "markdown",
   "metadata": {},
   "source": [
    "#### Extract the CVE Ids from the Rapid7/Symantec files"
   ]
  },
  {
   "cell_type": "code",
   "execution_count": 35,
   "metadata": {},
   "outputs": [],
   "source": [
    "rapid7_cves = pd.read_csv('rapid7_cves.csv')\n",
    "rapid7_cves = rapid7_cves['CVE'].tolist()"
   ]
  },
  {
   "cell_type": "code",
   "execution_count": 36,
   "metadata": {},
   "outputs": [
    {
     "name": "stdout",
     "output_type": "stream",
     "text": [
      "1370\n",
      "<type 'str'>\n"
     ]
    }
   ],
   "source": [
    "print(len(rapid7_cves))\n",
    "print(type(rapid7_cves[0]))"
   ]
  },
  {
   "cell_type": "code",
   "execution_count": 37,
   "metadata": {},
   "outputs": [],
   "source": [
    "cves_nvd_present_rapid7 = list(set(cve_nvd_ids).intersection(set(rapid7_cves)))"
   ]
  },
  {
   "cell_type": "code",
   "execution_count": 39,
   "metadata": {},
   "outputs": [
    {
     "name": "stdout",
     "output_type": "stream",
     "text": [
      "55\n"
     ]
    }
   ],
   "source": [
    "print(len(cves_nvd_present_rapid7))"
   ]
  },
  {
   "cell_type": "code",
   "execution_count": 40,
   "metadata": {},
   "outputs": [],
   "source": [
    "symantec_cves = pd.read_csv('symantec_cves.csv')\n",
    "symantec_cves = symantec_cves['CVE'].tolist()"
   ]
  },
  {
   "cell_type": "code",
   "execution_count": 41,
   "metadata": {},
   "outputs": [],
   "source": [
    "cves_nvd_present_symantec = list(set(cve_nvd_ids).intersection(set(symantec_cves)))"
   ]
  },
  {
   "cell_type": "code",
   "execution_count": 42,
   "metadata": {},
   "outputs": [
    {
     "name": "stdout",
     "output_type": "stream",
     "text": [
      "183\n"
     ]
    }
   ],
   "source": [
    "print(len(cves_nvd_present_symantec))"
   ]
  },
  {
   "cell_type": "markdown",
   "metadata": {},
   "source": [
    "#### Extract the CVEs which have Proof-Of-Concept exploits (POC)"
   ]
  },
  {
   "cell_type": "code",
   "execution_count": 46,
   "metadata": {},
   "outputs": [],
   "source": [
    "poc_cves = pd.read_csv('exploitdb.csv')['csv']\n",
    "\n",
    "cves_poc_exploits = list(set(cve_nvd_ids).intersection(set(poc_cves)))\n",
    "# print cves_poc_exploits"
   ]
  },
  {
   "cell_type": "markdown",
   "metadata": {},
   "source": [
    "### Exercise 2: Report any one CVE that is exploited and has a POC exploit present"
   ]
  },
  {
   "cell_type": "code",
   "execution_count": 50,
   "metadata": {},
   "outputs": [
    {
     "name": "stdout",
     "output_type": "stream",
     "text": [
      "CVE-2016-0051\n"
     ]
    }
   ],
   "source": [
    "### Fill in your code - 5 to 10 minutes\n",
    "matches = []\n",
    "for i in cv_ids:\n",
    "    for r in rapid7_cves:\n",
    "        if(i == r):\n",
    "            matches.append(i)\n",
    "\n",
    "# for m in matches:\n",
    "#     for s in symantec_cves:\n",
    "#         if(m == s):\n",
    "\n",
    "final_matches = []\n",
    "for m in matches:\n",
    "    for p in poc_cves:\n",
    "        if(m==p):\n",
    "            final_matches.append(m)\n",
    "print final_matches[0]\n",
    "# print rapid7_cves\n",
    "# print symantec_cves"
   ]
  },
  {
   "cell_type": "code",
   "execution_count": null,
   "metadata": {},
   "outputs": [],
   "source": []
  }
 ],
 "metadata": {
  "kernelspec": {
   "display_name": "Python 2",
   "language": "python",
   "name": "python2"
  },
  "language_info": {
   "codemirror_mode": {
    "name": "ipython",
    "version": 2
   },
   "file_extension": ".py",
   "mimetype": "text/x-python",
   "name": "python",
   "nbconvert_exporter": "python",
   "pygments_lexer": "ipython2",
   "version": "2.7.15"
  }
 },
 "nbformat": 4,
 "nbformat_minor": 2
}
